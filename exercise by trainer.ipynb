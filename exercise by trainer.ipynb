{
 "cells": [
  {
   "cell_type": "markdown",
   "id": "88fa3d47-4709-43e1-aac9-262cd82a7cbc",
   "metadata": {},
   "source": [
    "## exercise by bharadwaj"
   ]
  },
  {
   "cell_type": "code",
   "execution_count": 1,
   "id": "8905615f-ea1a-426d-b7d2-99d359385368",
   "metadata": {},
   "outputs": [
    {
     "name": "stdout",
     "output_type": "stream",
     "text": [
      "false\n",
      "true\n"
     ]
    }
   ],
   "source": [
    "list1 = [10, 20, 40, 90, 200]\n",
    "list2 = [10, 20 ,90, 20 ,30, 10]\n",
    "\n",
    "if(list1[0] == list1[4]):\n",
    "    print(\"true\")\n",
    "else:\n",
    "    print(\"false\")\n",
    "\n",
    "\n",
    "if(list2[0] == list2[5]):\n",
    "    print(\"true\")\n",
    "else:\n",
    "    print(\"false\")"
   ]
  },
  {
   "cell_type": "code",
   "execution_count": 2,
   "id": "23471805-811d-40ea-a598-34d93f341cfa",
   "metadata": {},
   "outputs": [
    {
     "name": "stdout",
     "output_type": "stream",
     "text": [
      "false\n",
      "true\n"
     ]
    }
   ],
   "source": [
    "tup1 = (10, 20, 40, 90, 200)\n",
    "tup2 = (10, 20 ,90, 20 ,30, 10)\n",
    "\n",
    "if(tup1[0] == tup1[4]):\n",
    "    print(\"true\")\n",
    "else:\n",
    "    print(\"false\")\n",
    "\n",
    "\n",
    "if(tup2[0] == tup2[5]):\n",
    "    print(\"true\")\n",
    "else:\n",
    "    print(\"false\")"
   ]
  },
  {
   "cell_type": "code",
   "execution_count": 15,
   "id": "714cb4a8-7af0-45ad-a09e-aad25f848365",
   "metadata": {},
   "outputs": [
    {
     "name": "stdout",
     "output_type": "stream",
     "text": [
      "55\n"
     ]
    }
   ],
   "source": [
    "list1 = [1, 2, 3, 4, 5, 6, 7, 8, 9, 10]\n",
    "sum1 = 0\n",
    "for i in list1:\n",
    "    sum1 += i\n",
    "    \n",
    "    \n",
    "print(sum1)\n",
    "    "
   ]
  },
  {
   "cell_type": "code",
   "execution_count": 14,
   "id": "b6c2ee47-bd81-4fab-921e-6cfb8e3585fb",
   "metadata": {},
   "outputs": [
    {
     "name": "stdout",
     "output_type": "stream",
     "text": [
      "prime numbers between 1 and 10 are[2, 3, 5, 7, 9] "
     ]
    }
   ],
   "source": [
    "list1 = [1, 2, 3, 4, 5, 6, 7, 8, 9, 10]\n",
    "list2 = []\n",
    "\n",
    "\n",
    "for i in list1:\n",
    "    if(i == 1):\n",
    "        continue\n",
    "    elif(i == 2):\n",
    "        list2.append(i)\n",
    "    elif(i%2==1 ):\n",
    "        list2.append(i)\n",
    "\n",
    "print(\"prime numbers between 1 and 10 are{}\".format(list2),end = ' ')\n"
   ]
  },
  {
   "cell_type": "code",
   "execution_count": 4,
   "id": "3a9f9d0e-22cd-4cba-b6e3-9095656856b1",
   "metadata": {},
   "outputs": [
    {
     "name": "stdin",
     "output_type": "stream",
     "text": [
      "enter the value of n 23\n"
     ]
    },
    {
     "name": "stdout",
     "output_type": "stream",
     "text": [
      "prime numbers between 1 and 23 are:\n",
      "2 3 5 7 11 13 17 19 23 "
     ]
    }
   ],
   "source": [
    "n = int(input(\"enter the value of n\"))\n",
    "\n",
    "print(\"prime numbers between 1 and {} are:\".format(n))\n",
    "for i in range(1,n+1):\n",
    "    if(i == 1):\n",
    "        continue\n",
    "    for j in range(2, i):\n",
    "        if(i%j==0):\n",
    "            break\n",
    "    else:\n",
    "        print(i, end = ' ')\n"
   ]
  },
  {
   "cell_type": "code",
   "execution_count": 17,
   "id": "1fad37a7-9b8b-40c6-9fbf-cb9ccf740ad7",
   "metadata": {},
   "outputs": [
    {
     "name": "stdout",
     "output_type": "stream",
     "text": [
      "HELLOWORLD\n"
     ]
    },
    {
     "data": {
      "text/plain": [
       "'helloworld'"
      ]
     },
     "execution_count": 17,
     "metadata": {},
     "output_type": "execute_result"
    }
   ],
   "source": [
    "str1 = \"HelloWorld\"\n",
    "\n",
    "print(str1.upper())\n",
    "str1.lower()"
   ]
  },
  {
   "cell_type": "code",
   "execution_count": 2,
   "id": "e2a42b15-02e5-45bf-9c42-b735d494208c",
   "metadata": {},
   "outputs": [
    {
     "name": "stdout",
     "output_type": "stream",
     "text": [
      "lower case latters in given string are 8\n",
      "lower case latters in given string are 2\n"
     ]
    }
   ],
   "source": [
    "str1 = \"Hello World\"\n",
    "lower_case = 0\n",
    "upper_case = 0\n",
    "\n",
    "for i in str1:\n",
    "    if (i>'a' and i<'z'):\n",
    "        lower_case = lower_case + 1\n",
    "    \n",
    "    elif( i>'A' and i<'Z'):\n",
    "        upper_case = upper_case + 1\n",
    "        \n",
    "        \n",
    "print(\"lower case latters in given string are {}\".format(lower_case))\n",
    "print(\"lower case latters in given string are {}\".format(upper_case))\n",
    "    "
   ]
  },
  {
   "cell_type": "code",
   "execution_count": 3,
   "id": "ab614be6-5319-4f56-acd2-5f1810ffb881",
   "metadata": {},
   "outputs": [
    {
     "name": "stdin",
     "output_type": "stream",
     "text": [
      "enter the number to genarate series 5\n"
     ]
    },
    {
     "name": "stdout",
     "output_type": "stream",
     "text": [
      "fibonacci sequence upto 5 is\n",
      "0 1 1 2 3 "
     ]
    }
   ],
   "source": [
    "a = int(input(\"enter the number to genarate series\"))\n",
    "\n",
    "f = 0\n",
    "s = 1\n",
    "\n",
    "if(a < 0):\n",
    "    print(\"please enter the postitive value\")\n",
    "elif(a<=0):\n",
    "    print(\"series upto {} is {}\".format(a,f))\n",
    "elif(a == 1):\n",
    "    print(\"series upto {} is{},{}\".format(a,f,s))\n",
    "else:\n",
    "    print(\"fibonacci sequence upto {} is\".format(a))\n",
    "    print(f,s, end = ' ')\n",
    "    for x in range(2,a):\n",
    "        next=f+s                           \n",
    "        print(next,end=' ')\n",
    "        f=s\n",
    "        s=next"
   ]
  },
  {
   "cell_type": "code",
   "execution_count": 5,
   "id": "a9bf5c6b-2d74-48b7-9ed0-2628dec56402",
   "metadata": {},
   "outputs": [
    {
     "name": "stdout",
     "output_type": "stream",
     "text": [
      "2 x 1 = 2\n",
      "2 x 2 = 4\n",
      "2 x 3 = 6\n",
      "2 x 4 = 8\n",
      "2 x 5 = 10\n",
      "2 x 6 = 12\n",
      "2 x 7 = 14\n",
      "2 x 8 = 16\n",
      "2 x 9 = 18\n",
      "2 x 10 = 20\n"
     ]
    }
   ],
   "source": [
    "n = 2\n",
    "for i in range(0,10):\n",
    "        n1 = n*(i+1)\n",
    "        print(f\"{n} x {i+1} = {n1}\")"
   ]
  },
  {
   "cell_type": "code",
   "execution_count": 6,
   "id": "6d3a1282-aa18-4833-bb63-f7b4154b86c3",
   "metadata": {},
   "outputs": [],
   "source": [
    "def table_(n):\n",
    "    for i in range(0,10):\n",
    "        n1 = n*(i+1)\n",
    "        print(f\"{n} x {i+1} = {n1}\")"
   ]
  },
  {
   "cell_type": "code",
   "execution_count": 7,
   "id": "d46f0dd5-9306-4344-84f7-4b27afefa711",
   "metadata": {},
   "outputs": [
    {
     "name": "stdout",
     "output_type": "stream",
     "text": [
      "6 x 1 = 6\n",
      "6 x 2 = 12\n",
      "6 x 3 = 18\n",
      "6 x 4 = 24\n",
      "6 x 5 = 30\n",
      "6 x 6 = 36\n",
      "6 x 7 = 42\n",
      "6 x 8 = 48\n",
      "6 x 9 = 54\n",
      "6 x 10 = 60\n"
     ]
    }
   ],
   "source": [
    "table_(6)"
   ]
  },
  {
   "cell_type": "code",
   "execution_count": 44,
   "id": "788f3b1f-a874-463e-95c9-fb172a3d5b15",
   "metadata": {},
   "outputs": [
    {
     "name": "stdout",
     "output_type": "stream",
     "text": [
      " 1   2   3   4   5   6   7   8   9  10  \n",
      " 2   4   6   8  10  12  14  16  18  20  \n",
      " 3   6   9  12  15  18  21  24  27  30  \n",
      " 4   8  12  16  20  24  28  32  36  40  \n",
      " 5  10  15  20  25  30  35  40  45  50  \n",
      " 6  12  18  24  30  36  42  48  54  60  \n",
      " 7  14  21  28  35  42  49  56  63  70  \n",
      " 8  16  24  32  40  48  56  64  72  80  \n",
      " 9  18  27  36  45  54  63  72  81  90  \n",
      "10  20  30  40  50  60  70  80  90  100  \n"
     ]
    }
   ],
   "source": [
    "for i in range(1,11):\n",
    "    for j in range(1,11):\n",
    "        j = j*i   \n",
    "        print (\"{:2d}\".format(j), end ='  ')\n",
    "    print()"
   ]
  },
  {
   "cell_type": "code",
   "execution_count": 62,
   "id": "67650899-258b-4f08-8025-9402c400f1b8",
   "metadata": {},
   "outputs": [
    {
     "name": "stdin",
     "output_type": "stream",
     "text": [
      "enter the value 7\n"
     ]
    },
    {
     "name": "stdout",
     "output_type": "stream",
     "text": [
      "False\n"
     ]
    }
   ],
   "source": [
    "list1 = [1, 5, 8, 3]\n",
    "flag = False\n",
    "enter = int (input (\"enter the value\"))\n",
    "for i in list1:\n",
    "    if enter == i:\n",
    "        flag = True\n",
    "        print( flag)\n",
    "print( flag)"
   ]
  },
  {
   "cell_type": "code",
   "execution_count": 34,
   "id": "378e2e2f-684a-41d3-9033-fa09042b79e1",
   "metadata": {},
   "outputs": [],
   "source": [
    "def is_group_member(group_data, n):\n",
    "    for value in group_data:\n",
    "        if n == value:\n",
    "            return True\n",
    "    return False"
   ]
  },
  {
   "cell_type": "code",
   "execution_count": 35,
   "id": "02f646ba-1642-4208-acc2-dc7652d5e958",
   "metadata": {},
   "outputs": [
    {
     "data": {
      "text/plain": [
       "True"
      ]
     },
     "execution_count": 35,
     "metadata": {},
     "output_type": "execute_result"
    }
   ],
   "source": [
    "is_group_member([1, 5, 8, 3], 3)"
   ]
  },
  {
   "cell_type": "code",
   "execution_count": 70,
   "id": "5210feb7-b63e-44b6-b0d7-8184eb5fd435",
   "metadata": {},
   "outputs": [
    {
     "name": "stdin",
     "output_type": "stream",
     "text": [
      " Enter first value 4\n",
      " Enter second value 3\n"
     ]
    },
    {
     "name": "stdout",
     "output_type": "stream",
     "text": [
      " (4 + 3)^2 = 49 \n"
     ]
    }
   ],
   "source": [
    "a = int (input(\" Enter first value\"))\n",
    "b = int (input(\" Enter second value\"))\n",
    "\n",
    "c = (a+b) * (a+b)\n",
    "\n",
    "print(f\" ({a} + {b})^2 = {c} \")"
   ]
  },
  {
   "cell_type": "code",
   "execution_count": 71,
   "id": "3735a25c-a05a-42a2-9c2a-9ab3cc837804",
   "metadata": {},
   "outputs": [
    {
     "name": "stdout",
     "output_type": "stream",
     "text": [
      "64\n"
     ]
    }
   ],
   "source": [
    "\n",
    "c = 2 ** 6\n",
    "print (c)"
   ]
  },
  {
   "cell_type": "code",
   "execution_count": 74,
   "id": "e692cf5b-e8d8-470c-9824-8fce7dfd2b3c",
   "metadata": {},
   "outputs": [
    {
     "name": "stdin",
     "output_type": "stream",
     "text": [
      "Input days:  4\n",
      "Input hours:  5\n",
      "Input minutes:  20\n",
      "Input seconds:  10\n"
     ]
    },
    {
     "name": "stdout",
     "output_type": "stream",
     "text": [
      "The  amounts of seconds: 364810\n"
     ]
    }
   ],
   "source": [
    "days = int(input(\"Input days: \")) * 3600 * 24\n",
    "hours = int(input(\"Input hours: \")) * 3600\n",
    "minutes = int(input(\"Input minutes: \")) * 60\n",
    "seconds = int(input(\"Input seconds: \"))\n",
    "\n",
    "time = days + hours + minutes + seconds\n",
    "\n",
    "print(\"The  amounts of seconds:\", time)"
   ]
  },
  {
   "cell_type": "code",
   "execution_count": null,
   "id": "d60d43dc-000d-4faf-a2a1-fa5f73adeeea",
   "metadata": {},
   "outputs": [],
   "source": []
  }
 ],
 "metadata": {
  "kernelspec": {
   "display_name": "Python 3",
   "language": "python",
   "name": "python3"
  },
  "language_info": {
   "codemirror_mode": {
    "name": "ipython",
    "version": 3
   },
   "file_extension": ".py",
   "mimetype": "text/x-python",
   "name": "python",
   "nbconvert_exporter": "python",
   "pygments_lexer": "ipython3",
   "version": "3.8.8"
  }
 },
 "nbformat": 4,
 "nbformat_minor": 5
}
