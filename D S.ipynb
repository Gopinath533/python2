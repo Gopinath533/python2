{
 "cells": [
  {
   "cell_type": "code",
   "execution_count": 24,
   "id": "2e7b3a23-7479-45c7-b522-1ca0533be3e3",
   "metadata": {},
   "outputs": [],
   "source": [
    "# Queue implementation in Python\n",
    "class Queue:\n",
    "    def __init__(self):\n",
    "        self.queue = []\n",
    "# Add an element\n",
    "    def enqueue(self, item):\n",
    "        self.queue.append(item)\n",
    "# Remove an element\n",
    "    def dequeue(self):\n",
    "        if len(self.queue) < 1:\n",
    "            return None\n",
    "        return self.queue.pop(2)\n",
    "# Display the queue\n",
    "    def display(self):\n",
    "        print(self.queue)\n",
    "    def size(self):\n",
    "        return len(self.queue)"
   ]
  },
  {
   "cell_type": "code",
   "execution_count": 25,
   "id": "a93311cb-d6fa-44e0-8ea6-4978cf139c8d",
   "metadata": {},
   "outputs": [
    {
     "name": "stdout",
     "output_type": "stream",
     "text": [
      "[1, 2, 3, 4, 5]\n"
     ]
    }
   ],
   "source": [
    "q = Queue()\n",
    "q.enqueue(1)\n",
    "q.enqueue(2)\n",
    "q.enqueue(3)\n",
    "q.enqueue(4)\n",
    "q.enqueue(5)\n",
    "q.display()"
   ]
  },
  {
   "cell_type": "code",
   "execution_count": 26,
   "id": "6ad8e8af-0c77-4349-b3ea-edf4e17b132d",
   "metadata": {},
   "outputs": [
    {
     "name": "stdout",
     "output_type": "stream",
     "text": [
      "After removing an element\n",
      "[1, 2, 4, 5]\n"
     ]
    },
    {
     "data": {
      "text/plain": [
       "4"
      ]
     },
     "execution_count": 26,
     "metadata": {},
     "output_type": "execute_result"
    }
   ],
   "source": [
    "zq.dequeue()\n",
    "print(\"After removing an element\")\n",
    "q.display()\n",
    "q.size()"
   ]
  },
  {
   "cell_type": "markdown",
   "id": "50bfe73a-51d4-44ef-a3f2-2346dd866b5d",
   "metadata": {},
   "source": [
    "## Stack"
   ]
  },
  {
   "cell_type": "code",
   "execution_count": 29,
   "id": "d989d02f-362a-4917-80dc-2444518503fe",
   "metadata": {},
   "outputs": [
    {
     "name": "stdout",
     "output_type": "stream",
     "text": [
      "Initial stack\n",
      "['a', 'b', 'c']\n",
      "\n",
      "Elements poped from stack:\n",
      "c\n",
      "b\n",
      "\n",
      "Stack after elements are poped:\n",
      "['a']\n"
     ]
    }
   ],
   "source": [
    "# Python program to\n",
    "# demonstrate stack implementation\n",
    "# using list\n",
    "stack = []\n",
    "# append() function to push\n",
    "# element in the stack\n",
    "stack.append('a')\n",
    "stack.append('b')\n",
    "stack.append('c')\n",
    "print('Initial stack')\n",
    "print(stack)\n",
    "# pop() fucntion to pop\n",
    "# element from stack in\n",
    "# LIFO order\n",
    "print('\\nElements poped from stack:')\n",
    "print(stack.pop())\n",
    "print(stack.pop())\n",
    "print('\\nStack after elements are poped:')\n",
    "print(stack)\n",
    "# uncommenting print(stack.pop())\n",
    "# will cause an IndexError\n",
    "# as the stack is now empty"
   ]
  },
  {
   "cell_type": "markdown",
   "id": "640651a5-b97d-4363-a058-cfea87de5429",
   "metadata": {},
   "source": [
    "## linked list"
   ]
  },
  {
   "cell_type": "code",
   "execution_count": 36,
   "id": "9c84da25-f398-4c78-836a-1301cdf35c9c",
   "metadata": {},
   "outputs": [],
   "source": [
    "class Node:\n",
    "    def __init__(self,data, next=None):\n",
    "        self.data = data\n",
    "        self.next = next\n",
    "        \n",
    "    # defining getter and setter for data and next\n",
    "    def getData(self):\n",
    "        return self.data\n",
    "    \n",
    "    def setData(self, data):\n",
    "        self.data = data\n",
    "        \n",
    "    def getNextNode(self):\n",
    "        return self.next\n",
    "    \n",
    "    def setNextNode(self, node):\n",
    "        self.next = node\n",
    "        \n",
    "    # class Linked List\n",
    "class LinkedList:\n",
    "    def __init__(self, head=None):\n",
    "        self.head = head\n",
    "        self.size = 0\n",
    "        \n",
    "    def getSize(self):\n",
    "        return self.size\n",
    "    \n",
    "    def addNode(self, data):\n",
    "        node = Node(data, self.head)\n",
    "        self.head = node\n",
    "        # incrementing the size of the linked list\n",
    "        self.size += 1\n",
    "        return True\n",
    "        # delete a node from linked list\n",
    "        \n",
    "    def removeNode(self, value):\n",
    "        prev = None\n",
    "        curr = self.head\n",
    "        while curr:\n",
    "            \n",
    "            if curr.getData() == value:\n",
    "                if prev:\n",
    "                    prev.setNextNode(curr.getNextNode())\n",
    "                else:\n",
    "                    self.head = curr.getNextNode()\n",
    "            return True\n",
    "        prev = curr\n",
    "        curr = curr.getNextNode()\n",
    "        return False\n",
    "   \n",
    "    def findNode(self,value):\n",
    "        curr = self.head\n",
    "        while curr:\n",
    "            if(curr.getData() == value):\n",
    "                return True\n",
    "            else:\n",
    "                curr = curr.getNextNode()\n",
    "        return False\n",
    "                \n",
    "        # print the linked list\n",
    "    def printLL(self):   \n",
    "        curr = self.head\n",
    "        while curr:\n",
    "            print(curr.data)\n",
    "            curr = curr.getNextNode()"
   ]
  },
  {
   "cell_type": "code",
   "execution_count": 37,
   "id": "9b9a9f2e-1471-42a0-8221-acbcf7c85aec",
   "metadata": {},
   "outputs": [
    {
     "name": "stdout",
     "output_type": "stream",
     "text": [
      "Inserting\n",
      "True\n",
      "True\n",
      "True\n",
      "25\n",
      "15\n",
      "5\n",
      "3\n",
      "True\n",
      "True\n",
      "15\n",
      "5\n"
     ]
    }
   ],
   "source": [
    "myList = LinkedList()\n",
    "print(\"Inserting\")\n",
    "print(myList.addNode(5))\n",
    "print(myList.addNode(15))\n",
    "print(myList.addNode(25))\n",
    "myList.printLL()\n",
    "print(myList.getSize())\n",
    "print(myList.findNode(25))\n",
    "print(myList.removeNode(25))\n",
    "myList.printLL()"
   ]
  },
  {
   "cell_type": "code",
   "execution_count": 42,
   "id": "b973b103-702a-46c3-a1b6-3546053beb4f",
   "metadata": {},
   "outputs": [],
   "source": [
    "a = LinkedList()"
   ]
  },
  {
   "cell_type": "markdown",
   "id": "334eaaf4-da2e-4325-8c31-9f1706eb349b",
   "metadata": {},
   "source": [
    "## Double linked list"
   ]
  },
  {
   "cell_type": "code",
   "execution_count": 38,
   "id": "4e4a17b0-18ed-4eae-a934-94e8993a30fc",
   "metadata": {},
   "outputs": [],
   "source": [
    "class Node(object):\n",
    "    def __init__(self, data, Next = None, Previous = None):\n",
    "        self.data = data\n",
    "        self.next = Next\n",
    "        self.previous = Previous\n",
    "        \n",
    "    def getNext(self):\n",
    "        return self.next\n",
    "    \n",
    "    def getPrevious(self):\n",
    "        return self.previous\n",
    "    \n",
    "    def getData(self):\n",
    "        return self.data\n",
    "    \n",
    "    def setData(self, newData):\n",
    "        self.data = newData\n",
    "        \n",
    "    def setNext(self, newNext):\n",
    "        self.next = newNext\n",
    "        \n",
    "    def setPrevious(self, newPrevious):\n",
    "        self.previous = newPrevious\n",
    "        \n",
    "        \n",
    "class LinkedList(object):\n",
    "    def __init__(self):\n",
    "        self.head = None\n",
    "        \n",
    "    def isEmpty(self):\n",
    "        return self.head == None\n",
    "    \n",
    "    def insertFirst(self, data):\n",
    "        newNode = Node(data)\n",
    "        if self.head:\n",
    "            self.head.setPrevious(newNode)\n",
    "        newNode.setNext(self.head)\n",
    "        self.head = newNode\n",
    "            \n",
    "    def insertLast(self, data):\n",
    "        newNode = Node(data)\n",
    "        current = self.head\n",
    "        while current.getNext() != None:\n",
    "            current = current.getNext()\n",
    "        current.setNext(newNode)\n",
    "        newNode.setPrevious(current)\n",
    "            \n",
    "    def getAllData(self):\n",
    "        ''' This function displays the data elements of the Linked List '''\n",
    "        current = self.head\n",
    "        elements = []\n",
    "        while current:\n",
    "            elements.append(current.getData())\n",
    "            current = current.getNext()\n",
    "            \n",
    "        return elements\n",
    "    def remove(self,item):\n",
    "        current = self.head\n",
    "        previous = None\n",
    "        found = False\n",
    "        while not found:\n",
    "            if current.getData() == item:\n",
    "                found = True\n",
    "            else:\n",
    "                previous = current\n",
    "                current = current.getNext()\n",
    "                \n",
    "        if previous == None:\n",
    "            self.head = current.getNext()\n",
    "        else:\n",
    "            previous.setNext(current.getNext())\n",
    "        "
   ]
  },
  {
   "cell_type": "code",
   "execution_count": 41,
   "id": "defbf1b6-714a-40f4-bd5b-f3add6ac4811",
   "metadata": {},
   "outputs": [
    {
     "name": "stdout",
     "output_type": "stream",
     "text": [
      "[22, 32, 1, 2]\n"
     ]
    }
   ],
   "source": [
    "if __name__ == '__main__':\n",
    "    myList = LinkedList()\n",
    "    myList.insertFirst(1)\n",
    "    myList.insertFirst(12)\n",
    "    myList.insertFirst(32)\n",
    "    myList.insertFirst(22)\n",
    "    myList.insertLast(2)\n",
    "    myList.remove(12)\n",
    "    print(myList.getAllData())"
   ]
  },
  {
   "cell_type": "markdown",
   "id": "20d44cf8-fce3-4266-84a0-314f11e604b7",
   "metadata": {},
   "source": [
    "## linear search"
   ]
  },
  {
   "cell_type": "code",
   "execution_count": 23,
   "id": "9463e7e5-2cc4-4dc7-8e4a-49a6537a9992",
   "metadata": {},
   "outputs": [],
   "source": [
    "def linearsearch(arr, x):\n",
    "    for i in range(len(arr)):\n",
    "        if arr[i] == x:\n",
    "            return i\n",
    "    return 'element not found'\n"
   ]
  },
  {
   "cell_type": "code",
   "execution_count": 24,
   "id": "de8400dd-0e90-4b02-ac73-09f672da454b",
   "metadata": {},
   "outputs": [
    {
     "name": "stdout",
     "output_type": "stream",
     "text": [
      "element found at index :3\n"
     ]
    }
   ],
   "source": [
    "arr = ['t','u','t','o','r','i','a','l']\n",
    "x = 'o'\n",
    "print(\"element found at index :\"+str(linearsearch(arr,x)))"
   ]
  },
  {
   "cell_type": "markdown",
   "id": "9d2e7980-f6af-41cb-aaf7-6046c754ee6e",
   "metadata": {},
   "source": [
    "## Bineary search"
   ]
  },
  {
   "cell_type": "code",
   "execution_count": 46,
   "id": "5dc5805d-4dca-4d28-a462-3e20d28af016",
   "metadata": {},
   "outputs": [],
   "source": [
    "# Returns index of x in arr if present, else -1\n",
    "def binary_search(arr, low, high, x):\n",
    "    # Check base case\n",
    "    if high >= low:\n",
    "        mid = (high + low) // 2\n",
    "        # If element is present at the middle itself\n",
    "        if arr[mid] == x:\n",
    "            return mid\n",
    "            # If element is smaller than mid, then it can only\n",
    "            # be present in left subarray\n",
    "        elif arr[mid] > x:\n",
    "            return binary_search(arr, low, mid - 1, x)\n",
    "            # Else the element can only be present in right subarray\n",
    "        else:\n",
    "            return binary_search(arr, mid + 1, high, x)\n",
    "    else:\n",
    "        # Element is not present in the array\n",
    "        return -1"
   ]
  },
  {
   "cell_type": "code",
   "execution_count": 47,
   "id": "9dc1c4a0-882d-4ee8-81bf-b476249278b5",
   "metadata": {},
   "outputs": [
    {
     "name": "stdout",
     "output_type": "stream",
     "text": [
      "Element is present at index 3\n"
     ]
    }
   ],
   "source": [
    "# Test array\n",
    "arr = [ 2, 3, 4, 10, 40 ]\n",
    "x = 10\n",
    "# Function call\n",
    "result = binary_search(arr, 0, len(arr)-1, x)\n",
    "if result != -1:\n",
    "    print(\"Element is present at index\", str(result))\n",
    "else:\n",
    "    print(\"Element is not present in array\")"
   ]
  },
  {
   "cell_type": "markdown",
   "id": "299fc297-8951-4452-81f0-aab60e0909be",
   "metadata": {},
   "source": [
    "## Bubble sort"
   ]
  },
  {
   "cell_type": "code",
   "execution_count": 25,
   "id": "abbd3235-2c99-4638-a978-05c53108b826",
   "metadata": {},
   "outputs": [],
   "source": [
    "# Python program for implementation of Bubble Sort\n",
    "def bubbleSort(arr):\n",
    "    n = len(arr)\n",
    "    # Traverse through all array elements\n",
    "    for i in range(n-1):\n",
    "    # range(n) also work but outer loop will repeat one time more than needed.\n",
    "    # Last i elements are already in place\n",
    "        for j in range(0, n-i-1):\n",
    "        # traverse the array from 0 to n-i-1\n",
    "        # Swap if the element found is greater# than the next element\n",
    "            if arr[j] > arr[j + 1] :\n",
    "                arr[j], arr[j + 1] = arr[j + 1], arr[j]\n",
    "            "
   ]
  },
  {
   "cell_type": "code",
   "execution_count": 26,
   "id": "f0027f91-7bca-439a-84e4-0ae11586f380",
   "metadata": {},
   "outputs": [
    {
     "name": "stdout",
     "output_type": "stream",
     "text": [
      "Sorted array is:\n",
      " 11  12  22  25  34  64  90 "
     ]
    }
   ],
   "source": [
    "# Driver code to test above\n",
    "arr = [64, 34, 25, 12, 22, 11, 90]\n",
    "bubbleSort(arr)\n",
    "print (\"Sorted array is:\")\n",
    "for i in range(len(arr)):\n",
    "    print (\"% d\" % arr[i], end = ' ')"
   ]
  },
  {
   "cell_type": "markdown",
   "id": "5581c879-58d4-478d-8cb9-fff076d53fc1",
   "metadata": {},
   "source": [
    "## Insertion Sort"
   ]
  },
  {
   "cell_type": "code",
   "execution_count": 8,
   "id": "f840284e-4ffe-4fdd-a7d8-24fde6826b2d",
   "metadata": {},
   "outputs": [],
   "source": [
    "# Python program for implementation of Insertion Sort\n",
    "# Function to do insertion sort\n",
    "def insertionSort(arr):# Traverse through 1 to len(arr)\n",
    "    for i in range(1, len(arr)):\n",
    "        key = arr[i]\n",
    "        # Move elements of arr[0..i-1], that are\n",
    "        # greater than key, to one position ahead\n",
    "        # of their current position\n",
    "        j = i-1 \n",
    "        while j >=0 and key < arr[j] :\n",
    "            arr[j+1] = arr[j]\n",
    "            j -= 1\n",
    "            arr[j+1] = key"
   ]
  },
  {
   "cell_type": "code",
   "execution_count": 10,
   "id": "43113032-80c1-4a11-9a0f-2da1a4f3a39b",
   "metadata": {},
   "outputs": [
    {
     "name": "stdout",
     "output_type": "stream",
     "text": [
      "Sorted array is:\n",
      "5\n",
      "6\n",
      "11\n",
      "12\n",
      "13\n"
     ]
    }
   ],
   "source": [
    "# Driver code to test above\n",
    "arr = [12, 11, 13, 5, 6]\n",
    "insertionSort(arr)\n",
    "print (\"Sorted array is:\")\n",
    "for i in range(len(arr)):\n",
    "    print (\"%d\" %arr[i])"
   ]
  },
  {
   "cell_type": "markdown",
   "id": "7cf00c37-a3ca-4219-bc43-2403270abad3",
   "metadata": {},
   "source": [
    "## Selection sort"
   ]
  },
  {
   "cell_type": "code",
   "execution_count": 11,
   "id": "1376b515-1b69-4752-83c8-271583dadf7a",
   "metadata": {},
   "outputs": [],
   "source": [
    "# Python program for implementation of Selection\n",
    "# Sort\n",
    "import sys\n",
    "A = [64, 25, 12, 22, 11]\n",
    "# Traverse through all array elements\n",
    "for i in range(len(A)):\n",
    "    # Find the minimum element in remaining\n",
    "    # unsorted array\n",
    "    min_idx = i\n",
    "    for j in range(i+1, len(A)):\n",
    "        if A[min_idx] > A[j]:\n",
    "            min_idx = j\n",
    "    # Swap the found minimum element with\n",
    "    # the first element\n",
    "    A[i], A[min_idx] = A[min_idx], A[i]\n",
    "\n"
   ]
  },
  {
   "cell_type": "code",
   "execution_count": 12,
   "id": "429c0d65-2d26-416b-a4fa-28655485ee3a",
   "metadata": {},
   "outputs": [
    {
     "name": "stdout",
     "output_type": "stream",
     "text": [
      "Sorted array\n",
      "11\n",
      "12\n",
      "22\n",
      "25\n",
      "64\n"
     ]
    }
   ],
   "source": [
    "# Driver code to test above\n",
    "print (\"Sorted array\")\n",
    "for i in range(len(A)):\n",
    "    print(\"%d\" %A[i])"
   ]
  },
  {
   "cell_type": "markdown",
   "id": "fbf61fcc-8138-42a0-b9d7-6c91e1870fb2",
   "metadata": {},
   "source": [
    "## Merge sort"
   ]
  },
  {
   "cell_type": "code",
   "execution_count": 14,
   "id": "4b3904eb-7b00-479f-b430-9b912ce117d1",
   "metadata": {},
   "outputs": [],
   "source": [
    "# Python program for implementation of MergeSort\n",
    "# Merges two subarrays of arr[].\n",
    "# First subarray is arr[l..m]\n",
    "# Second subarray is arr[m+1..r]\n",
    "def merge(arr, l, m, r):\n",
    "    n1 = m - l + 1\n",
    "    n2 = r- m\n",
    "    \n",
    "    # create temp arrays\n",
    "    L = [0] * (n1)\n",
    "    R = [0] * (n2)\n",
    "    \n",
    "    # Copy data to temp arrays L[] and R[]\n",
    "    for i in range(0 , n1):\n",
    "        L[i] = arr[l + i]\n",
    "        \n",
    "    for j in range(0 , n2):\n",
    "        R[j] = arr[m + 1 + j]\n",
    "        \n",
    "    # Merge the temp arrays back into arr[l..r]\n",
    "    i = 0 # Initial index of first subarray\n",
    "    j = 0 # Initial index of second subarrayk = l # Initial index of merged subarray\n",
    "    k = l # Initial index of merged subarray\n",
    "    \n",
    "    while i < n1 and j < n2 :\n",
    "        if L[i] <= R[j]:\n",
    "            arr[k] = L[i]\n",
    "            i += 1\n",
    "        else:\n",
    "            arr[k] = R[j]\n",
    "            j += 1\n",
    "        k += 1\n",
    "        \n",
    "        # Copy the remaining elements of L[], if there\n",
    "        # are any\n",
    "    while i < n1:\n",
    "        arr[k] = L[i]\n",
    "        i += 1\n",
    "        k += 1\n",
    "        \n",
    "        # Copy the remaining elements of R[], if there\n",
    "        # are any\n",
    "    while j < n2:\n",
    "        arr[k] = R[j]\n",
    "        j += 1\n",
    "        k += 1\n",
    "        \n",
    "# l is for left index and r is right index of the\n",
    "# sub-array of arr to be sorted\n",
    "def mergeSort(arr,l,r):\n",
    "    if l < r:\n",
    "        \n",
    "        # Same as (l+r)//2, but avoids overflow for\n",
    "        # large l and h\n",
    "        m = (l+(r-1))//2\n",
    "        \n",
    "        # Sort first and second halves\n",
    "        mergeSort(arr, l, m)\n",
    "        mergeSort(arr, m+1, r)\n",
    "        merge(arr, l, m, r)"
   ]
  },
  {
   "cell_type": "code",
   "execution_count": 19,
   "id": "ab7e7eb0-2edb-406c-b174-598190eead5a",
   "metadata": {},
   "outputs": [
    {
     "name": "stdout",
     "output_type": "stream",
     "text": [
      "Given array is\n",
      "12 11 13 5 6 7 \n",
      "\n",
      "Sorted array is\n",
      "5 6 7 11 12 13 "
     ]
    }
   ],
   "source": [
    "# Driver code to test above\n",
    "arr = [12, 11, 13, 5, 6, 7]\n",
    "n = len(arr)\n",
    "print (\"Given array is\")\n",
    "for i in range(n):\n",
    "    print (\"%d\" %arr[i], end = ' ')\n",
    "    \n",
    "mergeSort(arr,0,n-1)\n",
    "print (\"\\n\\nSorted array is\")\n",
    "for i in range(n):\n",
    "    print (\"%d\" %arr[i], end = ' ')"
   ]
  },
  {
   "cell_type": "markdown",
   "id": "8f72a867-b5de-4526-93f1-cacb1459351e",
   "metadata": {},
   "source": [
    "## Quick sort"
   ]
  },
  {
   "cell_type": "code",
   "execution_count": 30,
   "id": "2b3a09a7-a139-4d6f-a790-be0d0e434cec",
   "metadata": {},
   "outputs": [],
   "source": [
    "# This function takes last element as pivot, places\n",
    "# the pivot element at its correct position in sorted\n",
    "# array, and places all smaller (smaller than pivot)\n",
    "# to left of pivot and all greater elements to right\n",
    "# of pivot\n",
    "def partition(arr, low, high):\n",
    "    i = (low-1) # index of smaller element\n",
    "    pivot = arr[high] # pivot\n",
    "    for j in range(low, high):\n",
    "        \n",
    "        # If current element is smaller than or\n",
    "        # equal to pivot\n",
    "        if arr[j] <= pivot:\n",
    "            \n",
    "            # increment index of smaller element\n",
    "            i = i+1\n",
    "            arr[i], arr[j] = arr[j], arr[i]\n",
    "    arr[i+1], arr[high] = arr[high], arr[i+1]\n",
    "    return (i+1)# The main function that implements QuickSort\n",
    "\n",
    "\n",
    "# arr[] --> Array to be sorted,\n",
    "# low --> Starting index,\n",
    "# high --> Ending index\n",
    "# Function to do Quick sort\n",
    "def quickSort(arr, low, high):\n",
    "    if len(arr) == 1:\n",
    "        return arr\n",
    "    if low < high:\n",
    "        \n",
    "        # pi is partitioning index, arr[p] is now\n",
    "        # at right place\n",
    "        pi = partition(arr, low, high)\n",
    "        \n",
    "        # Separately sort elements before\n",
    "        # partition and after partition\n",
    "        quickSort(arr, low, pi-1)\n",
    "        quickSort(arr, pi+1, high)\n"
   ]
  },
  {
   "cell_type": "code",
   "execution_count": 31,
   "id": "3a1a4e72-853f-4f20-a5aa-4e6ccc699df6",
   "metadata": {},
   "outputs": [
    {
     "name": "stdout",
     "output_type": "stream",
     "text": [
      "Sorted array is:\n",
      "1 5 7 8 9 10 "
     ]
    }
   ],
   "source": [
    "# Driver code to test above\n",
    "arr = [10, 7, 8, 9, 1, 5]\n",
    "n = len(arr)\n",
    "quickSort(arr, 0, n-1)\n",
    "print(\"Sorted array is:\")\n",
    "for i in range(n):\n",
    "    print(\"%d\" % arr[i], end = ' ')"
   ]
  },
  {
   "cell_type": "code",
   "execution_count": null,
   "id": "58d30d86-6a01-4c5a-b3a4-102d8aa85346",
   "metadata": {},
   "outputs": [],
   "source": []
  }
 ],
 "metadata": {
  "kernelspec": {
   "display_name": "Python 3",
   "language": "python",
   "name": "python3"
  },
  "language_info": {
   "codemirror_mode": {
    "name": "ipython",
    "version": 3
   },
   "file_extension": ".py",
   "mimetype": "text/x-python",
   "name": "python",
   "nbconvert_exporter": "python",
   "pygments_lexer": "ipython3",
   "version": "3.8.8"
  }
 },
 "nbformat": 4,
 "nbformat_minor": 5
}
