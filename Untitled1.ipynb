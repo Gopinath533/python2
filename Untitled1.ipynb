{
 "cells": [
  {
   "cell_type": "markdown",
   "id": "8d966fb8-eff4-4c65-b218-ab10c66ef9ac",
   "metadata": {},
   "source": [
    "## Class and object"
   ]
  },
  {
   "cell_type": "markdown",
   "id": "67e4287c-3a17-4c36-9d7f-0d9a84e5697d",
   "metadata": {},
   "source": [
    "## init() function"
   ]
  },
  {
   "cell_type": "code",
   "execution_count": null,
   "id": "74cff867-0357-44bf-be5b-e0b389cc4ccc",
   "metadata": {},
   "outputs": [],
   "source": [
    "class person:\n",
    "    def __init__(self, name, age):\n",
    "        self.name = name\n",
    "        self.age = age\n",
    "        \n"
   ]
  },
  {
   "cell_type": "code",
   "execution_count": 6,
   "id": "78983a3a-dc01-4044-aab5-fef512487544",
   "metadata": {},
   "outputs": [
    {
     "name": "stdout",
     "output_type": "stream",
     "text": [
      "gopinath\n",
      "26\n"
     ]
    }
   ],
   "source": [
    "p1 = person('gopinath', 26)\n",
    "print(p1.name)\n",
    "print(p1.age)"
   ]
  },
  {
   "cell_type": "code",
   "execution_count": 32,
   "id": "dd92be4b-4b3c-4e12-85f9-53d33ee003fb",
   "metadata": {},
   "outputs": [
    {
     "name": "stdout",
     "output_type": "stream",
     "text": [
      "my name is gopinath\n",
      "my age is 26\n"
     ]
    }
   ],
   "source": [
    "class person:\n",
    "    def __init__(self, name, age):\n",
    "        self.name = name\n",
    "        self.age = age\n",
    "        \n",
    "    def myfun(self):\n",
    "        print(\"my name is \"+self.name)\n",
    "        print(\"my age is {}\".format(self.age))\n",
    "p1 = person('gopinath', 26)\n",
    "p1.myfun()"
   ]
  },
  {
   "cell_type": "code",
   "execution_count": 37,
   "id": "2cc8410d-9ca3-45ff-a409-ef554c133ddf",
   "metadata": {},
   "outputs": [
    {
     "name": "stdout",
     "output_type": "stream",
     "text": [
      "INDIA  got independence\n",
      "on 15th august\n"
     ]
    }
   ],
   "source": [
    "class independence:\n",
    "    def __init__(august, name , year):\n",
    "        august.name = name\n",
    "        august.year = year\n",
    "    \n",
    "    def myind(august):\n",
    "        print(\"{}  got independence\".format(august.name))\n",
    "        print(\"on {}th august\".format(august.year))\n",
    "i1 = independence('INDIA',15)\n",
    "i1.myind()"
   ]
  },
  {
   "cell_type": "markdown",
   "id": "8cad2161-747c-49fb-8df9-379d93697e39",
   "metadata": {},
   "source": [
    "## exercise on class"
   ]
  },
  {
   "cell_type": "code",
   "execution_count": 38,
   "id": "657e176a-9bc2-4f39-b1a4-d60930efe015",
   "metadata": {},
   "outputs": [
    {
     "name": "stdout",
     "output_type": "stream",
     "text": [
      "__name__\n",
      "__doc__\n",
      "__package__\n",
      "__loader__\n",
      "__spec__\n",
      "_array_reconstructor\n",
      "ArrayType\n",
      "array\n",
      "typecodes\n"
     ]
    }
   ],
   "source": [
    "import array\n",
    "for name in array.__dict__:\n",
    "    print(name)"
   ]
  },
  {
   "cell_type": "code",
   "execution_count": null,
   "id": "920c23b5-2896-449e-8878-9d87008c9613",
   "metadata": {},
   "outputs": [],
   "source": []
  }
 ],
 "metadata": {
  "kernelspec": {
   "display_name": "Python 3",
   "language": "python",
   "name": "python3"
  },
  "language_info": {
   "codemirror_mode": {
    "name": "ipython",
    "version": 3
   },
   "file_extension": ".py",
   "mimetype": "text/x-python",
   "name": "python",
   "nbconvert_exporter": "python",
   "pygments_lexer": "ipython3",
   "version": "3.8.8"
  }
 },
 "nbformat": 4,
 "nbformat_minor": 5
}
