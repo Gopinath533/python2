{
 "cells": [
  {
   "cell_type": "code",
   "execution_count": 21,
   "id": "546e207c-7368-4926-943f-4e95b78317bc",
   "metadata": {},
   "outputs": [
    {
     "name": "stdout",
     "output_type": "stream",
     "text": [
      "[[[ 70  56  41]\n",
      "  [ 71  58  43]\n",
      "  [ 68  57  42]\n",
      "  ...\n",
      "  [ 69  54  37]\n",
      "  [ 75  57  35]\n",
      "  [ 73  55  32]]\n",
      "\n",
      " [[192 177 162]\n",
      "  [186 174 158]\n",
      "  [185 176 161]\n",
      "  ...\n",
      "  [189 174 161]\n",
      "  [192 174 155]\n",
      "  [192 174 154]]\n",
      "\n",
      " [[195 179 163]\n",
      "  [190 178 162]\n",
      "  [141 134 119]\n",
      "  ...\n",
      "  [170 155 150]\n",
      "  [195 178 163]\n",
      "  [194 175 160]]\n",
      "\n",
      " ...\n",
      "\n",
      " [[170 147 126]\n",
      "  [170 147 126]\n",
      "  [170 147 126]\n",
      "  ...\n",
      "  [169 154 141]\n",
      "  [185 180 164]\n",
      "  [109 104  88]]\n",
      "\n",
      " [[170 147 126]\n",
      "  [170 147 126]\n",
      "  [170 147 126]\n",
      "  ...\n",
      "  [185 171 158]\n",
      "  [183 178 162]\n",
      "  [113 108  92]]\n",
      "\n",
      " [[170 147 126]\n",
      "  [170 147 126]\n",
      "  [170 147 126]\n",
      "  ...\n",
      "  [133 118 105]\n",
      "  [132 126 111]\n",
      "  [ 92  87  71]]]\n"
     ]
    },
    {
     "data": {
      "text/plain": [
       "-1"
      ]
     },
     "execution_count": 21,
     "metadata": {},
     "output_type": "execute_result"
    }
   ],
   "source": [
    "import cv2\n",
    "from matplotlib import pyplot as plt\n",
    "import numpy as np\n",
    "\n",
    "img = cv2.imread(\"opencv.png\")\n",
    "print(img)\n",
    "\n",
    "# IMREAD_COLOR = 1\n",
    "# IMREAD_UNCHANGED = -1\n",
    "\n",
    "cv2.imshow(\"gopi\",img)\n",
    "cv2.waitKey(0)\n",
    "# cv2.destroyAllWindows()\n",
    "\n",
    "# plt.imshow(img, interpolation = 'bicubic')\n",
    "# plt.plot([500,1000],[80,800], 'c', linewidth = 5)\n",
    "# plt.show()"
   ]
  },
  {
   "cell_type": "code",
   "execution_count": 1,
   "id": "5d7f8c88-fa56-42fe-b4ea-c1bcbe3b2e78",
   "metadata": {},
   "outputs": [
    {
     "ename": "error",
     "evalue": "OpenCV(4.5.3) C:\\Users\\runneradmin\\AppData\\Local\\Temp\\pip-req-build-u4kjpz2z\\opencv\\modules\\imgproc\\src\\color.cpp:182: error: (-215:Assertion failed) !_src.empty() in function 'cv::cvtColor'\n",
     "output_type": "error",
     "traceback": [
      "\u001b[1;31m---------------------------------------------------------------------------\u001b[0m",
      "\u001b[1;31merror\u001b[0m                                     Traceback (most recent call last)",
      "\u001b[1;32m<ipython-input-1-51ca2b80a67d>\u001b[0m in \u001b[0;36m<module>\u001b[1;34m\u001b[0m\n\u001b[0;32m      6\u001b[0m \u001b[1;32mwhile\u001b[0m \u001b[1;32mTrue\u001b[0m\u001b[1;33m:\u001b[0m\u001b[1;33m\u001b[0m\u001b[1;33m\u001b[0m\u001b[0m\n\u001b[0;32m      7\u001b[0m     \u001b[0mrat\u001b[0m\u001b[1;33m,\u001b[0m \u001b[0mframe\u001b[0m \u001b[1;33m=\u001b[0m \u001b[0mcap\u001b[0m\u001b[1;33m.\u001b[0m\u001b[0mread\u001b[0m\u001b[1;33m(\u001b[0m\u001b[1;33m)\u001b[0m\u001b[1;33m\u001b[0m\u001b[1;33m\u001b[0m\u001b[0m\n\u001b[1;32m----> 8\u001b[1;33m     \u001b[0mcv2\u001b[0m\u001b[1;33m.\u001b[0m\u001b[0mimshow\u001b[0m\u001b[1;33m(\u001b[0m\u001b[1;34m'frame'\u001b[0m\u001b[1;33m,\u001b[0m\u001b[0mframe\u001b[0m\u001b[1;33m)\u001b[0m\u001b[1;33m\u001b[0m\u001b[1;33m\u001b[0m\u001b[0m\n\u001b[0m\u001b[0;32m      9\u001b[0m \u001b[1;33m\u001b[0m\u001b[0m\n\u001b[0;32m     10\u001b[0m     \u001b[1;32mif\u001b[0m \u001b[0mcv2\u001b[0m\u001b[1;33m.\u001b[0m\u001b[0mwaitkey\u001b[0m\u001b[1;33m(\u001b[0m\u001b[1;36m1\u001b[0m\u001b[1;33m)\u001b[0m \u001b[1;32mand\u001b[0m \u001b[0mOxFF\u001b[0m \u001b[1;33m==\u001b[0m \u001b[0mord\u001b[0m\u001b[1;33m(\u001b[0m\u001b[1;34m'q'\u001b[0m\u001b[1;33m)\u001b[0m\u001b[1;33m:\u001b[0m\u001b[1;33m\u001b[0m\u001b[1;33m\u001b[0m\u001b[0m\n",
      "\u001b[1;31merror\u001b[0m: OpenCV(4.5.3) C:\\Users\\runneradmin\\AppData\\Local\\Temp\\pip-req-build-u4kjpz2z\\opencv\\modules\\imgproc\\src\\color.cpp:182: error: (-215:Assertion failed) !_src.empty() in function 'cv::cvtColor'\n"
     ]
    }
   ],
   "source": [
    "import cv2\n",
    "import numpy as np\n",
    "\n",
    "cap = cv2.VideoCapture(1)\n",
    "\n",
    "while True:\n",
    "    rat, frame = cap.read()\n",
    "    cv2.imshow('frame',frame)\n",
    "    \n",
    "    if cv2.waitkey(1) and OxFF == ord('q'):\n",
    "        break\n",
    "        \n",
    "# cap.release()\n",
    "# cv2.destroyAllWindows()"
   ]
  },
  {
   "cell_type": "code",
   "execution_count": null,
   "id": "af26e6c7-0799-401f-99c4-6fd7acdd623c",
   "metadata": {},
   "outputs": [],
   "source": []
  }
 ],
 "metadata": {
  "kernelspec": {
   "display_name": "Python 3",
   "language": "python",
   "name": "python3"
  },
  "language_info": {
   "codemirror_mode": {
    "name": "ipython",
    "version": 3
   },
   "file_extension": ".py",
   "mimetype": "text/x-python",
   "name": "python",
   "nbconvert_exporter": "python",
   "pygments_lexer": "ipython3",
   "version": "3.8.8"
  }
 },
 "nbformat": 4,
 "nbformat_minor": 5
}
