{
 "cells": [
  {
   "cell_type": "code",
   "execution_count": null,
   "id": "aa02c7a4-d89d-4636-bfd5-dfbb31b2fc85",
   "metadata": {},
   "outputs": [],
   "source": [
    "a = 10"
   ]
  },
  {
   "cell_type": "markdown",
   "id": "c566162a-52f6-4441-9656-eb0ec92be1ae",
   "metadata": {},
   "source": [
    "## addition"
   ]
  },
  {
   "cell_type": "code",
   "execution_count": 3,
   "id": "62b21cc5-e5b3-4e17-a0e5-09b7de5a2384",
   "metadata": {},
   "outputs": [
    {
     "name": "stdout",
     "output_type": "stream",
     "text": [
      "22\n"
     ]
    }
   ],
   "source": [
    "a = 10 \n",
    "b = 12\n",
    "c = a + b\n",
    "print(c)"
   ]
  },
  {
   "cell_type": "code",
   "execution_count": 4,
   "id": "a73b5b27-e506-4b12-9a4a-8ffd010833b0",
   "metadata": {},
   "outputs": [
    {
     "ename": "TypeError",
     "evalue": "unsupported operand type(s) for +: 'int' and 'str'",
     "output_type": "error",
     "traceback": [
      "\u001b[1;31m---------------------------------------------------------------------------\u001b[0m",
      "\u001b[1;31mTypeError\u001b[0m                                 Traceback (most recent call last)",
      "\u001b[1;32m<ipython-input-4-6b6cffad9640>\u001b[0m in \u001b[0;36m<module>\u001b[1;34m\u001b[0m\n\u001b[0;32m      1\u001b[0m \u001b[0ma\u001b[0m \u001b[1;33m=\u001b[0m \u001b[1;36m10\u001b[0m\u001b[1;33m\u001b[0m\u001b[1;33m\u001b[0m\u001b[0m\n\u001b[0;32m      2\u001b[0m \u001b[0mb\u001b[0m \u001b[1;33m=\u001b[0m \u001b[1;34m\"12\"\u001b[0m\u001b[1;33m\u001b[0m\u001b[1;33m\u001b[0m\u001b[0m\n\u001b[1;32m----> 3\u001b[1;33m \u001b[0mprint\u001b[0m\u001b[1;33m(\u001b[0m\u001b[0ma\u001b[0m \u001b[1;33m+\u001b[0m \u001b[0mb\u001b[0m\u001b[1;33m)\u001b[0m\u001b[1;33m\u001b[0m\u001b[1;33m\u001b[0m\u001b[0m\n\u001b[0m",
      "\u001b[1;31mTypeError\u001b[0m: unsupported operand type(s) for +: 'int' and 'str'"
     ]
    }
   ],
   "source": [
    "a = 10\n",
    "b = \"12\"\n",
    "print(a + b)"
   ]
  },
  {
   "cell_type": "code",
   "execution_count": 5,
   "id": "f598992a-0c44-4a06-8660-61ca4d7514da",
   "metadata": {},
   "outputs": [
    {
     "name": "stdout",
     "output_type": "stream",
     "text": [
      "my name is Gopinath and my age is 27\n"
     ]
    }
   ],
   "source": [
    "a = \"Gopinath\"\n",
    "b = 27\n",
    "print(\"my name is {} and my age is {}\".format(a,b))"
   ]
  },
  {
   "cell_type": "code",
   "execution_count": 8,
   "id": "b41e15be-6004-4fd8-a23a-c76c81c24fca",
   "metadata": {},
   "outputs": [
    {
     "name": "stdout",
     "output_type": "stream",
     "text": [
      "my name is Gopinath and my age is 27\n"
     ]
    }
   ],
   "source": [
    "a = \"Gopinath\"\n",
    "b = 27\n",
    "print(\"my name is {1} and my age is {0}\".format(b,a))"
   ]
  },
  {
   "cell_type": "code",
   "execution_count": 9,
   "id": "497f0275-b671-425f-849c-bb0864da9ba2",
   "metadata": {},
   "outputs": [
    {
     "name": "stdout",
     "output_type": "stream",
     "text": [
      "my name is Gopinath and my age is 27\n"
     ]
    }
   ],
   "source": [
    "a = \"Gopinath\"\n",
    "b = 27\n",
    "print(\"my name is %s and my age is %s\"%(a,b))"
   ]
  },
  {
   "cell_type": "code",
   "execution_count": 19,
   "id": "393153af-669d-4307-ac9b-c763582ace79",
   "metadata": {},
   "outputs": [
    {
     "name": "stdout",
     "output_type": "stream",
     "text": [
      "my name is Gopinath and my age is 27\n"
     ]
    }
   ],
   "source": [
    "a = \"Gopinath\"\n",
    "b = 27\n",
    "print(f\"my name is {a} and my age is {b}\")"
   ]
  },
  {
   "cell_type": "code",
   "execution_count": null,
   "id": "24166534-2372-4882-a752-2eba36829b04",
   "metadata": {},
   "outputs": [],
   "source": []
  }
 ],
 "metadata": {
  "kernelspec": {
   "display_name": "Python 3",
   "language": "python",
   "name": "python3"
  },
  "language_info": {
   "codemirror_mode": {
    "name": "ipython",
    "version": 3
   },
   "file_extension": ".py",
   "mimetype": "text/x-python",
   "name": "python",
   "nbconvert_exporter": "python",
   "pygments_lexer": "ipython3",
   "version": "3.8.8"
  }
 },
 "nbformat": 4,
 "nbformat_minor": 5
}
