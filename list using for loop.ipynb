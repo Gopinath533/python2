{
 "cells": [
  {
   "cell_type": "code",
   "execution_count": 5,
   "id": "698dcffd-5d0a-41c3-98e7-08aeeeeda0b0",
   "metadata": {},
   "outputs": [],
   "source": [
    "list1 = [1,2,3,4,5]\n",
    "list2 = []\n",
    "for i in list1:\n",
    "    if ((i%2==0) and (i%4==0)):\n",
    "        list2.append(i)\n",
    "    else:\n",
    "        pass"
   ]
  },
  {
   "cell_type": "code",
   "execution_count": 6,
   "id": "31de7590-2bb1-4f31-b05f-38faa86841ec",
   "metadata": {},
   "outputs": [
    {
     "name": "stdout",
     "output_type": "stream",
     "text": [
      "[4]\n"
     ]
    }
   ],
   "source": [
    "print(list2)"
   ]
  },
  {
   "cell_type": "code",
   "execution_count": 7,
   "id": "ee615afe-a462-40a7-9dfa-86cc2205b556",
   "metadata": {},
   "outputs": [],
   "source": [
    "list1 = [1,2,15,19,22,16,36,30,12,20]\n",
    "list2 = []\n",
    "for i in list1:\n",
    "    if(i%2==0):\n",
    "        list2.append(i)\n",
    "    else:\n",
    "        pass"
   ]
  },
  {
   "cell_type": "code",
   "execution_count": 8,
   "id": "af86b219-8151-485b-8001-44f71c54b3a1",
   "metadata": {},
   "outputs": [
    {
     "name": "stdout",
     "output_type": "stream",
     "text": [
      "[2, 22, 16, 36, 30, 12, 20]\n"
     ]
    }
   ],
   "source": [
    "print(list2)"
   ]
  },
  {
   "cell_type": "code",
   "execution_count": 37,
   "id": "06572dd5-9d1d-46e9-ae58-459f1a9af557",
   "metadata": {},
   "outputs": [
    {
     "name": "stdout",
     "output_type": "stream",
     "text": [
      "[36, 12]\n"
     ]
    }
   ],
   "source": [
    "list1 = [1,2,15,19,22,16,36,30,12,20]\n",
    "list2 = []\n",
    "for i in list1:\n",
    "    if((i%2==0) and (i%4==0) and (i%6==0)):\n",
    "        list2.append(i)\n",
    "    else:\n",
    "        pass\n",
    "print(list2)"
   ]
  },
  {
   "cell_type": "code",
   "execution_count": 36,
   "id": "506f459e-97d4-455b-936e-b07e5c28fc88",
   "metadata": {},
   "outputs": [
    {
     "name": "stdout",
     "output_type": "stream",
     "text": [
      "[36, 12]\n"
     ]
    }
   ],
   "source": []
  },
  {
   "cell_type": "code",
   "execution_count": 12,
   "id": "3371982d-b251-47dc-835e-fd224ca11d10",
   "metadata": {},
   "outputs": [],
   "source": [
    "list1 = [1,2,15,19,22,16,36,30,12,20]\n",
    "list2 = []\n",
    "for i in list1:\n",
    "    if((i%2==0) and (i%6==0) or (i%4==0)):\n",
    "        list2.append(i)\n",
    "    else:\n",
    "        pass"
   ]
  },
  {
   "cell_type": "code",
   "execution_count": 13,
   "id": "a6d16ce5-6f5a-4943-a7ef-82d73c8b0060",
   "metadata": {},
   "outputs": [
    {
     "name": "stdout",
     "output_type": "stream",
     "text": [
      "[16, 36, 30, 12, 20]\n"
     ]
    }
   ],
   "source": [
    "print(list2)"
   ]
  },
  {
   "cell_type": "code",
   "execution_count": 14,
   "id": "aa115d10-9ae0-4956-bbe2-b52fdd7cf6e6",
   "metadata": {},
   "outputs": [],
   "source": [
    "list1 = [1,2,15,19,22,16,36,30,12,20]\n",
    "list2 = []\n",
    "for i in list1:\n",
    "    if(i%2==0):\n",
    "        list2.append(i)\n",
    "    else:\n",
    "        pass"
   ]
  },
  {
   "cell_type": "code",
   "execution_count": 15,
   "id": "af168d02-dac1-4bc0-a1e9-6ba6103e20c4",
   "metadata": {},
   "outputs": [
    {
     "name": "stdout",
     "output_type": "stream",
     "text": [
      "Even numbers in the list are[2, 22, 16, 36, 30, 12, 20]\n"
     ]
    }
   ],
   "source": [
    "print(\"Even numbers in the list are{}\".format(list2))"
   ]
  },
  {
   "cell_type": "markdown",
   "id": "fcf6f1da-f03b-4eb7-910e-90267f0b2ece",
   "metadata": {},
   "source": []
  },
  {
   "cell_type": "code",
   "execution_count": 1,
   "id": "8298c433-1214-43ce-968d-4cdfdb72edb8",
   "metadata": {},
   "outputs": [
    {
     "name": "stdout",
     "output_type": "stream",
     "text": [
      "odd numbers in the list are[1, 15, 19]\n"
     ]
    }
   ],
   "source": [
    "list1 = [1,2,15,19,22,16,36,30,12,20]\n",
    "list2 = []\n",
    "for i in list1:\n",
    "    if(i==1 or i%2==1):\n",
    "        list2.append(i)\n",
    "    else:\n",
    "        pass\n",
    "\n",
    "print(\"odd numbers in the list are{}\".format(list2))\n"
   ]
  },
  {
   "cell_type": "code",
   "execution_count": 23,
   "id": "9b339666-07dd-4069-a74d-095246512ae4",
   "metadata": {},
   "outputs": [
    {
     "name": "stdout",
     "output_type": "stream",
     "text": [
      "red apple\n",
      "red banana\n",
      "red cherry\n",
      "big apple\n",
      "big banana\n",
      "big cherry\n",
      "tasty apple\n",
      "tasty banana\n",
      "tasty cherry\n"
     ]
    }
   ],
   "source": [
    "adj = [\"red\", \"big\", \"tasty\"]\n",
    "fruits = [\"apple\", \"banana\", \"cherry\"]\n",
    "\n",
    "for x in adj:\n",
    "    for y in fruits:\n",
    "        print(x,y)"
   ]
  },
  {
   "cell_type": "code",
   "execution_count": 16,
   "id": "9ef9f5b3-7c90-456d-9578-ae0e1ef1a5c3",
   "metadata": {},
   "outputs": [
    {
     "name": "stdout",
     "output_type": "stream",
     "text": [
      "cherry\n"
     ]
    }
   ],
   "source": [
    "fruits = [\"apple\", \"banana\", \"cherry\"]\n",
    "for x in fruits:\n",
    "    if x == \"banana\":\n",
    "        continue\n",
    "\n",
    "print(x)"
   ]
  },
  {
   "cell_type": "markdown",
   "id": "505cb922-1b63-4236-84f9-18313d460282",
   "metadata": {},
   "source": [
    "fruits = [\"apple\", \"banana\", \"cherry\"]\n",
    "for x in fruits:\n",
    "    if x == \"banana\":\n",
    "        continue\n",
    "\n",
    "    print(x)\n",
    "    "
   ]
  },
  {
   "cell_type": "code",
   "execution_count": 1,
   "id": "357631ae-7989-49a5-be0c-0f39743e39f8",
   "metadata": {},
   "outputs": [
    {
     "name": "stdout",
     "output_type": "stream",
     "text": [
      "1\n",
      "9\n",
      "25\n",
      "49\n",
      "81\n"
     ]
    }
   ],
   "source": [
    "for i in range(1, 11): \n",
    "    if(i%2==1):\n",
    "        x=i**2\n",
    "        print(x)"
   ]
  },
  {
   "cell_type": "code",
   "execution_count": 3,
   "id": "79669e5e-a0a1-45ad-b86e-60f064340c2c",
   "metadata": {},
   "outputs": [
    {
     "name": "stdout",
     "output_type": "stream",
     "text": [
      "0\n",
      "4\n",
      "16\n",
      "36\n",
      "64\n",
      "100\n"
     ]
    }
   ],
   "source": [
    "for i in range(0, 11): \n",
    "    if(i%2==0):\n",
    "        x=i**2\n",
    "        print(x)"
   ]
  },
  {
   "cell_type": "markdown",
   "id": "07c2f8d7-223c-4c59-9fd5-c75435cdc510",
   "metadata": {},
   "source": [
    "## Exercise by  pavan"
   ]
  },
  {
   "cell_type": "code",
   "execution_count": 1,
   "id": "eed412a3-5bd4-458e-84d8-91662ee88b99",
   "metadata": {},
   "outputs": [
    {
     "name": "stdout",
     "output_type": "stream",
     "text": [
      "[5, 15, 60, 240]\n"
     ]
    }
   ],
   "source": [
    "list1 = [5, 3, 4,4]\n",
    "list2 = []\n",
    "result = 1\n",
    "if(len(list1) ==1):\n",
    "    print (list1)\n",
    "else:\n",
    "    for i in list1:\n",
    "        result = result * i\n",
    "        list2.append(result)\n",
    "    \n",
    "print(list2)"
   ]
  },
  {
   "cell_type": "code",
   "execution_count": null,
   "id": "4cf78182-7fca-4e0d-9284-bc20d83ec72b",
   "metadata": {},
   "outputs": [],
   "source": []
  }
 ],
 "metadata": {
  "kernelspec": {
   "display_name": "Python 3",
   "language": "python",
   "name": "python3"
  },
  "language_info": {
   "codemirror_mode": {
    "name": "ipython",
    "version": 3
   },
   "file_extension": ".py",
   "mimetype": "text/x-python",
   "name": "python",
   "nbconvert_exporter": "python",
   "pygments_lexer": "ipython3",
   "version": "3.8.8"
  }
 },
 "nbformat": 4,
 "nbformat_minor": 5
}
