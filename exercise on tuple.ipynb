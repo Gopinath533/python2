{
 "cells": [
  {
   "cell_type": "code",
   "execution_count": 5,
   "id": "a036a4cb-31f5-40e8-a5c8-aaaa06f29c3e",
   "metadata": {},
   "outputs": [
    {
     "name": "stdout",
     "output_type": "stream",
     "text": [
      "(1, 2, 3, 4, 5)\n"
     ]
    },
    {
     "data": {
      "text/plain": [
       "tuple"
      ]
     },
     "execution_count": 5,
     "metadata": {},
     "output_type": "execute_result"
    }
   ],
   "source": []
  },
  {
   "cell_type": "code",
   "execution_count": 7,
   "id": "776ecdb9-0352-4bfc-ae50-205818c8f735",
   "metadata": {},
   "outputs": [
    {
     "data": {
      "text/plain": [
       "('gopinath', 26, 12.6, True)"
      ]
     },
     "execution_count": 7,
     "metadata": {},
     "output_type": "execute_result"
    }
   ],
   "source": []
  },
  {
   "cell_type": "code",
   "execution_count": 8,
   "id": "351a32ce-5109-4bd3-94d0-6011efd37a9b",
   "metadata": {},
   "outputs": [
    {
     "name": "stdout",
     "output_type": "stream",
     "text": [
      "1\n"
     ]
    }
   ],
   "source": []
  },
  {
   "cell_type": "code",
   "execution_count": 9,
   "id": "99ea48da-3ff1-4e87-b519-f78252f95878",
   "metadata": {},
   "outputs": [
    {
     "name": "stdout",
     "output_type": "stream",
     "text": [
      "1\n",
      "2\n",
      "3\n",
      "4\n"
     ]
    }
   ],
   "source": []
  },
  {
   "cell_type": "code",
   "execution_count": 14,
   "id": "878b4dfe-6816-4f8a-bd5b-1ae460754dce",
   "metadata": {},
   "outputs": [
    {
     "name": "stdout",
     "output_type": "stream",
     "text": [
      "(1, 2, 3, 4, 5, 6)\n"
     ]
    },
    {
     "data": {
      "text/plain": [
       "tuple"
      ]
     },
     "execution_count": 14,
     "metadata": {},
     "output_type": "execute_result"
    }
   ],
   "source": []
  },
  {
   "cell_type": "code",
   "execution_count": 15,
   "id": "5f6711d0-0aff-4b6e-a94c-9d259c2d8897",
   "metadata": {},
   "outputs": [
    {
     "data": {
      "text/plain": [
       "'(1, 2, 3, 4, 5, 6)'"
      ]
     },
     "execution_count": 15,
     "metadata": {},
     "output_type": "execute_result"
    }
   ],
   "source": [
    "tuple1 = str(tuple2)\n",
    "tuple1"
   ]
  },
  {
   "cell_type": "code",
   "execution_count": 17,
   "id": "a6b1b5ad-3709-4326-b011-ad9eac066175",
   "metadata": {},
   "outputs": [
    {
     "name": "stdout",
     "output_type": "stream",
     "text": [
      "venkat\n",
      "i\n"
     ]
    }
   ],
   "source": [
    "tuple1 = (\"gopinath\", \"vagdevi\", \"bharadwaj\", \"venkat\", \"gopiraj\")\n",
    "print(tuple1[3])\n",
    "print(tuple1[4][3])"
   ]
  },
  {
   "cell_type": "code",
   "execution_count": 24,
   "id": "66b655ec-c15a-4228-a0ab-c3b78d354faf",
   "metadata": {},
   "outputs": [
    {
     "name": "stdout",
     "output_type": "stream",
     "text": [
      "1 2 3 5 7 "
     ]
    }
   ],
   "source": [
    "tup = (1, 2, 3, 4, 5, 5, 6, 7, 7, 1, 2, 3)\n",
    "\n",
    "for i in range(0, len(tup)):\n",
    "    \n",
    "    for j in range(i+1, len(tup)):\n",
    "        \n",
    "        if(tup[i] == tup [j]):\n",
    "            print(tup[i], end= \" \")\n",
    "    "
   ]
  },
  {
   "cell_type": "code",
   "execution_count": 42,
   "id": "ca24b8cf-33e4-42a2-9a4d-e5ff8c1b8541",
   "metadata": {},
   "outputs": [
    {
     "name": "stdout",
     "output_type": "stream",
     "text": [
      "True\n",
      "False\n"
     ]
    }
   ],
   "source": [
    "\n",
    "tup1= ('w', 'e', 't', 'r', 's', 'h')\n",
    "print('t' in tup1)\n",
    "print('z' in tup1)"
   ]
  },
  {
   "cell_type": "code",
   "execution_count": null,
   "id": "993ce5e7-e557-4602-bd98-4992cc2c4da4",
   "metadata": {},
   "outputs": [],
   "source": []
  }
 ],
 "metadata": {
  "kernelspec": {
   "display_name": "Python 3",
   "language": "python",
   "name": "python3"
  },
  "language_info": {
   "codemirror_mode": {
    "name": "ipython",
    "version": 3
   },
   "file_extension": ".py",
   "mimetype": "text/x-python",
   "name": "python",
   "nbconvert_exporter": "python",
   "pygments_lexer": "ipython3",
   "version": "3.8.8"
  }
 },
 "nbformat": 4,
 "nbformat_minor": 5
}
