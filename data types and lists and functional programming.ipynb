{
 "cells": [
  {
   "cell_type": "code",
   "execution_count": 3,
   "id": "4ac2d1cd-e690-4e37-9c07-6ffb8d0dcd7f",
   "metadata": {},
   "outputs": [
    {
     "name": "stdout",
     "output_type": "stream",
     "text": [
      "Ram and Lakshman are old 1200bc\n"
     ]
    }
   ],
   "source": [
    "a = \"Ram\"\n",
    "b = \"Lakshman\"\n",
    "c = 1200\n",
    "print(\"{} and {} are old {}bc\".format(a,b,c))"
   ]
  },
  {
   "cell_type": "code",
   "execution_count": 4,
   "id": "4e905ea5-8102-461e-b036-cea39eff0823",
   "metadata": {},
   "outputs": [
    {
     "name": "stdout",
     "output_type": "stream",
     "text": [
      "Ram and Lakshman are old 1200bc\n"
     ]
    }
   ],
   "source": [
    "a = \"Ram\"\n",
    "b = \"Lakshman\"\n",
    "c = 1200\n",
    "print(\"{0} and {2} are old {1}bc\".format(a,c,b))"
   ]
  },
  {
   "cell_type": "code",
   "execution_count": 6,
   "id": "004eaad9-1a57-4c6c-a15e-850e475f8b79",
   "metadata": {},
   "outputs": [
    {
     "name": "stdout",
     "output_type": "stream",
     "text": [
      "Ram and Lakshman are old 1200bc\n"
     ]
    }
   ],
   "source": [
    "a = \"Ram\"\n",
    "b = \"Lakshman\"\n",
    "c = 1200\n",
    "print(\"%s and %s are old %sbc\"%(a,b,c))"
   ]
  },
  {
   "cell_type": "code",
   "execution_count": 7,
   "id": "3ac2b1bd-b4cc-4e78-b4cf-53f4622b0275",
   "metadata": {
    "jupyter": {
     "source_hidden": true
    },
    "tags": []
   },
   "outputs": [
    {
     "name": "stdout",
     "output_type": "stream",
     "text": [
      "Ram and Lakshman are old 1200bc\n"
     ]
    }
   ],
   "source": [
    "a = \"Ram\"\n",
    "b = \"Lakshman\"\n",
    "c = 1200\n",
    "print(f\"{a} and {b} are old {c}bc\")"
   ]
  },
  {
   "cell_type": "code",
   "execution_count": 10,
   "id": "81387d82-0382-44a9-92e9-57ae04f5327c",
   "metadata": {},
   "outputs": [
    {
     "name": "stdout",
     "output_type": "stream",
     "text": [
      "Ram brought 20 apples the apple cost is 19.5\n"
     ]
    }
   ],
   "source": [
    "a = 19.5\n",
    "b = 20\n",
    "c = \"Ram\"\n",
    "print(\"{} brought {} apples the apple cost is {}\".format(c,b,a))"
   ]
  },
  {
   "cell_type": "code",
   "execution_count": 14,
   "id": "b4e825bb-58b5-4568-be0d-54ec18051942",
   "metadata": {},
   "outputs": [
    {
     "name": "stdout",
     "output_type": "stream",
     "text": [
      "Ram brought 20 apples the apple cost is 19.5\n"
     ]
    }
   ],
   "source": [
    "a = 19.5\n",
    "b = 20\n",
    "c = \"Ram\"\n",
    "print(\"{2} brought {1} apples the apple cost is {0}\".format(a,b,c))"
   ]
  },
  {
   "cell_type": "code",
   "execution_count": 15,
   "id": "4b1a69c7-0e81-4acd-b1fe-be0c6b882a75",
   "metadata": {},
   "outputs": [
    {
     "name": "stdout",
     "output_type": "stream",
     "text": [
      "Ram brought 20 apples the apple cost is 19.5\n"
     ]
    }
   ],
   "source": [
    "a = 19.5\n",
    "b = 20\n",
    "c = \"Ram\"\n",
    "print(\"%s brought %s apples the apple cost is %s\"%(c,b,a))"
   ]
  },
  {
   "cell_type": "code",
   "execution_count": 16,
   "id": "cddb4f04-d298-4d09-806c-add4a19dcbcb",
   "metadata": {},
   "outputs": [
    {
     "name": "stdout",
     "output_type": "stream",
     "text": [
      "Ram brought 20 apples the apple cost is 19.5\n"
     ]
    }
   ],
   "source": [
    "a = 19.5\n",
    "b = 20\n",
    "c = \"Ram\"\n",
    "print(f\"{c} brought {b} apples the apple cost is {a}\")"
   ]
  },
  {
   "cell_type": "code",
   "execution_count": 1,
   "id": "853f2d6d-7f98-49dc-a238-ebaa76381102",
   "metadata": {},
   "outputs": [
    {
     "data": {
      "text/plain": [
       "3"
      ]
     },
     "execution_count": 1,
     "metadata": {},
     "output_type": "execute_result"
    }
   ],
   "source": [
    "list1 = [1,2,3,4]\n",
    "list1[2]"
   ]
  },
  {
   "cell_type": "code",
   "execution_count": 20,
   "id": "083876d0-aaea-4a14-a9de-a6d2f4df0464",
   "metadata": {},
   "outputs": [
    {
     "data": {
      "text/plain": [
       "[5, 6, 7, 8, 9]"
      ]
     },
     "execution_count": 20,
     "metadata": {},
     "output_type": "execute_result"
    }
   ],
   "source": [
    "list1 = [1,2,3,4,5,6,7,8,9,10]\n",
    "list1[4:9]"
   ]
  },
  {
   "cell_type": "code",
   "execution_count": 24,
   "id": "6eb13f52-603d-43c5-b86a-5e720d0be8d7",
   "metadata": {},
   "outputs": [
    {
     "data": {
      "text/plain": [
       "[4, 5, 6, 7, 8]"
      ]
     },
     "execution_count": 24,
     "metadata": {},
     "output_type": "execute_result"
    }
   ],
   "source": [
    "list1 = [1,2,3,4,5,6,7,8,9,10]\n",
    "list1[-7:-2]"
   ]
  },
  {
   "cell_type": "code",
   "execution_count": 28,
   "id": "a353baa7-f84d-4402-8ed2-476c67129bb3",
   "metadata": {},
   "outputs": [
    {
     "data": {
      "text/plain": [
       "'cold'"
      ]
     },
     "execution_count": 28,
     "metadata": {},
     "output_type": "execute_result"
    }
   ],
   "source": [
    "list2 = [\"temperature\",\"cold\",\"hot\",\"weather\"]\n",
    "list2[1]"
   ]
  },
  {
   "cell_type": "code",
   "execution_count": 31,
   "id": "8b89f4f7-c747-4d45-a935-420afb9b74f2",
   "metadata": {},
   "outputs": [
    {
     "name": "stdout",
     "output_type": "stream",
     "text": [
      "['temperature', 'cold', 'hot', 'weather', 'rain']\n"
     ]
    }
   ],
   "source": [
    "list2 = [\"temperature\",\"cold\",\"hot\",\"weather\"]\n",
    "list2.append(\"rain\")\n",
    "print(list2)"
   ]
  },
  {
   "cell_type": "code",
   "execution_count": 33,
   "id": "1f2028cf-bbc2-4ceb-b745-25373174979f",
   "metadata": {},
   "outputs": [],
   "source": [
    "list2.insert(2,\"winter\")"
   ]
  },
  {
   "cell_type": "code",
   "execution_count": 34,
   "id": "1295fdfd-2a40-466d-888b-6f6de445a1b0",
   "metadata": {},
   "outputs": [
    {
     "name": "stdout",
     "output_type": "stream",
     "text": [
      "['temperature', 'cold', 'winter', 'hot', 'weather', 'rain']\n"
     ]
    }
   ],
   "source": [
    "print(list2)"
   ]
  },
  {
   "cell_type": "code",
   "execution_count": 35,
   "id": "c8c7da13-e121-4380-be24-ca93a82b244a",
   "metadata": {},
   "outputs": [],
   "source": [
    "list2.remove(\"temperature\")"
   ]
  },
  {
   "cell_type": "code",
   "execution_count": 36,
   "id": "b5e14bdc-f57a-449e-97f8-245eed18a44e",
   "metadata": {},
   "outputs": [
    {
     "name": "stdout",
     "output_type": "stream",
     "text": [
      "['cold', 'winter', 'hot', 'weather', 'rain']\n"
     ]
    }
   ],
   "source": [
    "print(list2)"
   ]
  },
  {
   "cell_type": "code",
   "execution_count": 39,
   "id": "e3216872-5246-43a1-b1f4-f575f79410b6",
   "metadata": {},
   "outputs": [],
   "source": [
    "list2[0]=\"temperature\""
   ]
  },
  {
   "cell_type": "code",
   "execution_count": 40,
   "id": "50a3ffa5-90e3-48b6-99cb-56c980849a44",
   "metadata": {},
   "outputs": [
    {
     "name": "stdout",
     "output_type": "stream",
     "text": [
      "['temperature', 'winter', 'temperature', 'weather', 'rain']\n"
     ]
    }
   ],
   "source": [
    "print(list2)"
   ]
  },
  {
   "cell_type": "code",
   "execution_count": 41,
   "id": "02c45834-9ee9-4c10-8326-595262cf57ad",
   "metadata": {},
   "outputs": [
    {
     "data": {
      "text/plain": [
       "'rain'"
      ]
     },
     "execution_count": 41,
     "metadata": {},
     "output_type": "execute_result"
    }
   ],
   "source": [
    "list2.pop()"
   ]
  },
  {
   "cell_type": "code",
   "execution_count": 42,
   "id": "2269635a-345f-46dc-a66a-10c5d43cc649",
   "metadata": {},
   "outputs": [
    {
     "name": "stdout",
     "output_type": "stream",
     "text": [
      "['temperature', 'winter', 'temperature', 'weather']\n"
     ]
    }
   ],
   "source": [
    "print(list2)"
   ]
  },
  {
   "cell_type": "code",
   "execution_count": 2,
   "id": "9afe4421-b639-45fa-b7a5-ff062ba6b4a7",
   "metadata": {},
   "outputs": [
    {
     "ename": "NameError",
     "evalue": "name 'list2' is not defined",
     "output_type": "error",
     "traceback": [
      "\u001b[1;31m---------------------------------------------------------------------------\u001b[0m",
      "\u001b[1;31mNameError\u001b[0m                                 Traceback (most recent call last)",
      "\u001b[1;32m<ipython-input-2-7ffc002791c1>\u001b[0m in \u001b[0;36m<module>\u001b[1;34m\u001b[0m\n\u001b[1;32m----> 1\u001b[1;33m \u001b[0mlist2\u001b[0m\u001b[1;33m.\u001b[0m\u001b[0msort\u001b[0m\u001b[1;33m(\u001b[0m\u001b[1;33m)\u001b[0m\u001b[1;33m\u001b[0m\u001b[1;33m\u001b[0m\u001b[0m\n\u001b[0m",
      "\u001b[1;31mNameError\u001b[0m: name 'list2' is not defined"
     ]
    }
   ],
   "source": [
    "list2.sort()"
   ]
  },
  {
   "cell_type": "code",
   "execution_count": 44,
   "id": "2194bb5c-1179-4a0e-80c3-b5a98affa1be",
   "metadata": {},
   "outputs": [
    {
     "name": "stdout",
     "output_type": "stream",
     "text": [
      "['temperature', 'temperature', 'weather', 'winter']\n"
     ]
    }
   ],
   "source": [
    "print(list2)"
   ]
  },
  {
   "cell_type": "code",
   "execution_count": 48,
   "id": "d0b01799-037d-42d4-8457-1ea00b357732",
   "metadata": {},
   "outputs": [],
   "source": [
    "list2.sort(reverse = True)"
   ]
  },
  {
   "cell_type": "code",
   "execution_count": 49,
   "id": "7c978cc4-8573-4fcc-88ea-7b9517246941",
   "metadata": {},
   "outputs": [],
   "source": [
    "list2.sort(reverse = True)"
   ]
  },
  {
   "cell_type": "code",
   "execution_count": 50,
   "id": "031ba522-d3e4-4d80-bfee-3bdb93da3e45",
   "metadata": {},
   "outputs": [
    {
     "name": "stdout",
     "output_type": "stream",
     "text": [
      "['winter', 'weather', 'temperature', 'temperature']\n"
     ]
    }
   ],
   "source": [
    "print(list2)"
   ]
  },
  {
   "cell_type": "code",
   "execution_count": 51,
   "id": "be7bf0a3-9155-4933-b246-8873fc1f782c",
   "metadata": {},
   "outputs": [],
   "source": [
    "list2.insert(2,\"rain\")"
   ]
  },
  {
   "cell_type": "code",
   "execution_count": 52,
   "id": "80c2a777-653a-4dba-9061-d7c61edb87d9",
   "metadata": {},
   "outputs": [
    {
     "name": "stdout",
     "output_type": "stream",
     "text": [
      "['winter', 'weather', 'rain', 'temperature', 'temperature']\n"
     ]
    }
   ],
   "source": [
    "print(list2)"
   ]
  },
  {
   "cell_type": "code",
   "execution_count": 53,
   "id": "9143c929-462d-4aa4-86c1-7cf10749d067",
   "metadata": {},
   "outputs": [
    {
     "data": {
      "text/plain": [
       "'temperature'"
      ]
     },
     "execution_count": 53,
     "metadata": {},
     "output_type": "execute_result"
    }
   ],
   "source": [
    "list2.pop()"
   ]
  },
  {
   "cell_type": "code",
   "execution_count": 54,
   "id": "38c14961-9388-4b39-963e-510fc4aefa24",
   "metadata": {},
   "outputs": [
    {
     "name": "stdout",
     "output_type": "stream",
     "text": [
      "['winter', 'weather', 'rain', 'temperature']\n"
     ]
    }
   ],
   "source": [
    "print(list2)"
   ]
  },
  {
   "cell_type": "code",
   "execution_count": 57,
   "id": "37d7901d-7224-4252-909a-3c9a293cdf2f",
   "metadata": {},
   "outputs": [
    {
     "data": {
      "text/plain": [
       "1"
      ]
     },
     "execution_count": 57,
     "metadata": {},
     "output_type": "execute_result"
    }
   ],
   "source": [
    "list2.count(\"rain\")"
   ]
  },
  {
   "cell_type": "code",
   "execution_count": 58,
   "id": "40438ac0-39f0-40ca-b851-0fd69bf2bd7f",
   "metadata": {},
   "outputs": [],
   "source": [
    "list2.sort()"
   ]
  },
  {
   "cell_type": "code",
   "execution_count": 59,
   "id": "a61c3af4-0de2-426b-8b35-7e99897bde7c",
   "metadata": {},
   "outputs": [
    {
     "name": "stdout",
     "output_type": "stream",
     "text": [
      "['rain', 'temperature', 'weather', 'winter']\n"
     ]
    }
   ],
   "source": [
    "print(list2)"
   ]
  },
  {
   "cell_type": "code",
   "execution_count": 60,
   "id": "14e732f0-4f10-4388-8cfa-634d3a193754",
   "metadata": {},
   "outputs": [],
   "source": [
    "list2.sort(reverse = True)"
   ]
  },
  {
   "cell_type": "code",
   "execution_count": 61,
   "id": "d93fa66b-2bca-4042-b93c-1946f512b580",
   "metadata": {},
   "outputs": [
    {
     "name": "stdout",
     "output_type": "stream",
     "text": [
      "['winter', 'weather', 'temperature', 'rain']\n"
     ]
    }
   ],
   "source": [
    "print(list2)"
   ]
  },
  {
   "cell_type": "code",
   "execution_count": 66,
   "id": "1a0019f3-f727-4407-84bb-5795970e35a9",
   "metadata": {},
   "outputs": [
    {
     "data": {
      "text/plain": [
       "3"
      ]
     },
     "execution_count": 66,
     "metadata": {},
     "output_type": "execute_result"
    }
   ],
   "source": [
    "list2.index(\"rain\")"
   ]
  },
  {
   "cell_type": "code",
   "execution_count": 1,
   "id": "f60b7e2e-8a6d-4f3a-9002-a9fd3fa4d7a9",
   "metadata": {},
   "outputs": [
    {
     "data": {
      "text/plain": [
       "bool"
      ]
     },
     "execution_count": 1,
     "metadata": {},
     "output_type": "execute_result"
    }
   ],
   "source": [
    "type(True)"
   ]
  },
  {
   "cell_type": "code",
   "execution_count": 1,
   "id": "20865fa2-c627-421b-874e-be070b4f20c8",
   "metadata": {},
   "outputs": [
    {
     "name": "stdout",
     "output_type": "stream",
     "text": [
      "[175, 210, 245, 280, 315, 350, 385]\n"
     ]
    }
   ],
   "source": [
    "list2 = []\n",
    "\n",
    "for i in range(150,400):\n",
    "    \n",
    "    if(i%5==0 and i%7==0):\n",
    "        list2.append(i)\n",
    "        \n",
    "    else:\n",
    "        pass\n",
    "    \n",
    "print(list2)"
   ]
  },
  {
   "cell_type": "code",
   "execution_count": 2,
   "id": "e9663644-9a31-4037-8c0d-64d12a48233f",
   "metadata": {},
   "outputs": [
    {
     "name": "stdout",
     "output_type": "stream",
     "text": [
      "[180, 270, 360]\n"
     ]
    }
   ],
   "source": [
    "list2 = []\n",
    "\n",
    "for i in range(150,400):\n",
    "    \n",
    "    if(i%9==0 and i%10==0):\n",
    "        list2.append(i)\n",
    "        \n",
    "    else:\n",
    "        pass\n",
    "    \n",
    "print(list2)"
   ]
  },
  {
   "cell_type": "code",
   "execution_count": 3,
   "id": "1412c603-8749-4dd6-96c7-bf5ba0e8073c",
   "metadata": {},
   "outputs": [
    {
     "name": "stdout",
     "output_type": "stream",
     "text": [
      "[156, 168, 175, 180, 192, 204, 210, 216, 228, 240, 245, 252, 264, 276, 280, 288, 300, 312, 315, 324, 336, 348, 350, 360, 372, 384, 385, 396]\n"
     ]
    }
   ],
   "source": [
    "list2 = []\n",
    "\n",
    "for i in range(150,400):\n",
    "    \n",
    "    if(i%5==0 and i%7==0 or i%12==0):\n",
    "        list2.append(i)\n",
    "        \n",
    "    else:\n",
    "        pass\n",
    "    \n",
    "print(list2)"
   ]
  },
  {
   "cell_type": "markdown",
   "id": "7e95cd2c-bb35-47ca-806a-d011e1c9ff2e",
   "metadata": {},
   "source": [
    "## Exercise on strings"
   ]
  },
  {
   "cell_type": "code",
   "execution_count": 1,
   "id": "c46a0b82-37b7-4f39-8f89-d80cc63f50be",
   "metadata": {},
   "outputs": [
    {
     "data": {
      "text/plain": [
       "14"
      ]
     },
     "execution_count": 1,
     "metadata": {},
     "output_type": "execute_result"
    }
   ],
   "source": [
    "stri = 'w3resource.com'\n",
    "len(stri)"
   ]
  },
  {
   "cell_type": "code",
   "execution_count": 2,
   "id": "314ef1b5-439d-4358-846b-aa4297c59a59",
   "metadata": {},
   "outputs": [
    {
     "data": {
      "text/plain": [
       "['g', 'o', 'o', 'g', 'l', 'e', '.', 'c', 'o', 'm']"
      ]
     },
     "execution_count": 2,
     "metadata": {},
     "output_type": "execute_result"
    }
   ],
   "source": [
    "stri =  list(\"google.com\")\n",
    "stri"
   ]
  },
  {
   "cell_type": "code",
   "execution_count": 3,
   "id": "1c6de173-c8a0-4a40-97c5-41a63adcd178",
   "metadata": {},
   "outputs": [
    {
     "name": "stdout",
     "output_type": "stream",
     "text": [
      "{'g': 2, 'o': 3, 'l': 1, 'e': 1, '.': 1, 'c': 1, 'm': 1}\n"
     ]
    }
   ],
   "source": [
    "str1 = 'google.com'\n",
    "dict1 = {}\n",
    "for i in str1:\n",
    "    keys = dict1.keys()\n",
    "    if i in keys:\n",
    "        dict1[i] += 1\n",
    "    else:\n",
    "        dict1[i] = 1\n",
    "##return dict1\n",
    "print(dict1)"
   ]
  },
  {
   "cell_type": "code",
   "execution_count": 4,
   "id": "744dfde8-f4a8-4986-a44d-30cc9b7532e5",
   "metadata": {},
   "outputs": [
    {
     "name": "stdout",
     "output_type": "stream",
     "text": [
      "{'g': 2, 'o': 3, 'l': 1, 'e': 1, '.': 1, 'c': 1, 'm': 1}\n"
     ]
    }
   ],
   "source": [
    "def char_frequency(str1):\n",
    "    dict = {}\n",
    "    for n in str1:\n",
    "        keys = dict.keys()\n",
    "        if n in keys:\n",
    "            dict[n] += 1\n",
    "        else:\n",
    "            dict[n] = 1\n",
    "    return dict\n",
    "print(char_frequency('google.com'))\n"
   ]
  },
  {
   "cell_type": "code",
   "execution_count": 5,
   "id": "95e7ccd3-e0ca-4611-bdec-37d74b9e643e",
   "metadata": {},
   "outputs": [
    {
     "name": "stdin",
     "output_type": "stream",
     "text": [
      "enter the name weschools\n"
     ]
    },
    {
     "name": "stdout",
     "output_type": "stream",
     "text": [
      "wels\n"
     ]
    },
    {
     "name": "stdin",
     "output_type": "stream",
     "text": [
      "enter the name w3sch\n"
     ]
    },
    {
     "name": "stdout",
     "output_type": "stream",
     "text": [
      "w3\n"
     ]
    },
    {
     "name": "stdin",
     "output_type": "stream",
     "text": [
      "enter the name w3\n"
     ]
    },
    {
     "name": "stdout",
     "output_type": "stream",
     "text": [
      "w3w3\n"
     ]
    },
    {
     "name": "stdin",
     "output_type": "stream",
     "text": [
      "enter the name e\n"
     ]
    },
    {
     "name": "stdout",
     "output_type": "stream",
     "text": [
      "string is empty\n"
     ]
    }
   ],
   "source": [
    "str1 = input(str(\"enter the name\"))\n",
    "y = str1[0:2]\n",
    "z = str1[7:9]\n",
    "print(y+z)\n",
    "str2 = input(str(\"enter the name\"))\n",
    "x = str2[0:2]\n",
    "print(x)\n",
    "str4 = input(str(\"enter the name\"))\n",
    "if(len(str4)<=2):\n",
    "    print(str4+str4)\n",
    "else:\n",
    "    print(\"enter the word with 2 words\")\n",
    "\n",
    "str3 = input(str(\"enter the name\"))\n",
    "if(len(str3)<=1):\n",
    "    print(\"string is empty\")\n",
    "else:\n",
    "    print(\"enter the string with one letter\")"
   ]
  },
  {
   "cell_type": "code",
   "execution_count": 6,
   "id": "4d158987-f31e-4030-9649-1e70b0dc0924",
   "metadata": {},
   "outputs": [
    {
     "name": "stdout",
     "output_type": "stream",
     "text": [
      "strawberry\n"
     ]
    },
    {
     "data": {
      "text/plain": [
       "10"
      ]
     },
     "execution_count": 6,
     "metadata": {},
     "output_type": "execute_result"
    }
   ],
   "source": [
    "list1 = [\"apple\", \"strawberry\", \"banana\"]\n",
    "list1.sort()\n",
    "print(list1[2])\n",
    "len(list1[2])"
   ]
  },
  {
   "cell_type": "code",
   "execution_count": 7,
   "id": "b5063bbc-7fd1-44fe-9f08-1f14d8fadf0f",
   "metadata": {},
   "outputs": [
    {
     "name": "stdout",
     "output_type": "stream",
     "text": [
      "xyc abz\n"
     ]
    }
   ],
   "source": [
    "str1 = 'abc'\n",
    "str2 = 'xyz'\n",
    "\n",
    "x = str2[:2] + str1[2:]\n",
    "y = str1[:2] + str2[2:]\n",
    "\n",
    "print(x+ ' ' +y)"
   ]
  },
  {
   "cell_type": "code",
   "execution_count": 1,
   "id": "871ba27e-a1cf-4456-8dae-84d75bbeea48",
   "metadata": {},
   "outputs": [
    {
     "name": "stdout",
     "output_type": "stream",
     "text": [
      "abcing\n",
      "stringly\n"
     ]
    }
   ],
   "source": [
    "str1 = \"abc\"\n",
    "str2 = \"string\"\n",
    "\n",
    "if(len(str1)<3):\n",
    "    print(\"please enter more than 3 char\")\n",
    "else:\n",
    "    str3 = str1+'ing'\n",
    "    print(str3)\n",
    "    \n",
    "if(len(str2)<3):\n",
    "    print(\"please enter more than 3 char\")\n",
    "else:\n",
    "    str4 = str2+'ly'\n",
    "    print(str4)"
   ]
  }
 ],
 "metadata": {
  "kernelspec": {
   "display_name": "Python 3",
   "language": "python",
   "name": "python3"
  },
  "language_info": {
   "codemirror_mode": {
    "name": "ipython",
    "version": 3
   },
   "file_extension": ".py",
   "mimetype": "text/x-python",
   "name": "python",
   "nbconvert_exporter": "python",
   "pygments_lexer": "ipython3",
   "version": "3.8.8"
  }
 },
 "nbformat": 4,
 "nbformat_minor": 5
}
