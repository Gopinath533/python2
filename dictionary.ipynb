{
 "cells": [
  {
   "cell_type": "markdown",
   "id": "de86dad7-6fd2-4296-98b1-72de3d10c02e",
   "metadata": {},
   "source": [
    "## Dictionaries"
   ]
  },
  {
   "cell_type": "code",
   "execution_count": 16,
   "id": "7fbc45ce-61a4-4cb2-94fd-be863cbdd62c",
   "metadata": {},
   "outputs": [
    {
     "data": {
      "text/plain": [
       "{'Name': 'gopinath', 'year': 1201, 1000: 'age'}"
      ]
     },
     "execution_count": 16,
     "metadata": {},
     "output_type": "execute_result"
    }
   ],
   "source": [
    "dict1 = { 'Name' : \"gopinath\",\n",
    "           'year': 1201,\n",
    "            1000 : \"age\"}\n",
    "dict1"
   ]
  },
  {
   "cell_type": "markdown",
   "id": "7658dad7-7e3b-471d-ad4a-738cf5c30879",
   "metadata": {},
   "source": [
    "## UPDATE"
   ]
  },
  {
   "cell_type": "code",
   "execution_count": 17,
   "id": "c3115b22-e839-4f90-8f7d-3e6f3217e23a",
   "metadata": {},
   "outputs": [],
   "source": [
    "dict2 = { 'Name': \"apple\"}\n",
    "dict1.update(dict2)"
   ]
  },
  {
   "cell_type": "code",
   "execution_count": 18,
   "id": "4513bb4b-254c-4292-95b1-79b48377e8b4",
   "metadata": {},
   "outputs": [
    {
     "data": {
      "text/plain": [
       "{'Name': 'apple', 'year': 1201, 1000: 'age'}"
      ]
     },
     "execution_count": 18,
     "metadata": {},
     "output_type": "execute_result"
    }
   ],
   "source": [
    "dict1"
   ]
  },
  {
   "cell_type": "code",
   "execution_count": 19,
   "id": "2c05a1e7-2c90-40ea-8d2a-a9129e01b40a",
   "metadata": {},
   "outputs": [
    {
     "data": {
      "text/plain": [
       "{'Name': 'apple', 'year': 1201, 1000: 'age', 'taste': 'sweet'}"
      ]
     },
     "execution_count": 19,
     "metadata": {},
     "output_type": "execute_result"
    }
   ],
   "source": [
    "dict2 = { 'taste' : \"sweet\"}\n",
    "dict1.update(dict2)\n",
    "dict1"
   ]
  },
  {
   "cell_type": "markdown",
   "id": "b4d2184f-c3be-4eb2-ab6a-a662c6fae2a2",
   "metadata": {},
   "source": [
    "## length"
   ]
  },
  {
   "cell_type": "code",
   "execution_count": 21,
   "id": "85f225c5-6f9e-4fdf-9926-a26a543eb334",
   "metadata": {},
   "outputs": [
    {
     "data": {
      "text/plain": [
       "4"
      ]
     },
     "execution_count": 21,
     "metadata": {},
     "output_type": "execute_result"
    }
   ],
   "source": [
    "len(dict1)"
   ]
  },
  {
   "cell_type": "markdown",
   "id": "32e5161e-74df-4a3f-bba3-d653d711e996",
   "metadata": {},
   "source": [
    "##  Data Types"
   ]
  },
  {
   "cell_type": "code",
   "execution_count": 23,
   "id": "703b5ab0-fb45-4d0c-9226-b4021e802a96",
   "metadata": {},
   "outputs": [
    {
     "name": "stdout",
     "output_type": "stream",
     "text": [
      "<class 'dict'>\n"
     ]
    }
   ],
   "source": [
    "dictdatatype = {'movie': 'baahubali',\n",
    "                 2017 : 'release',\n",
    "                  \"brand\": \"Ford\",\n",
    "                  \"electric\": False,\n",
    "                  \"year\": 1964,\n",
    "                    \"colors\": [\"red\", \"white\", \"blue\"]}\n",
    "print(type(dictdatatype))"
   ]
  },
  {
   "cell_type": "code",
   "execution_count": 24,
   "id": "aa1a627f-6971-4a0b-a494-f90911835a6c",
   "metadata": {},
   "outputs": [
    {
     "name": "stdout",
     "output_type": "stream",
     "text": [
      "{'movie': 'baahubali', 2017: 'release', 'brand': 'Ford', 'electric': False, 'year': 1964, 'colors': ['red', 'white', 'blue']}\n"
     ]
    }
   ],
   "source": [
    "dictdatatype = {'movie': 'baahubali',\n",
    "                 2017 : 'release',\n",
    "                  \"brand\": \"Ford\",\n",
    "                  \"electric\": False,\n",
    "                  \"year\": 1964,\n",
    "                    \"colors\": [\"red\", \"white\", \"blue\"]}\n",
    "print(dictdatatype)"
   ]
  },
  {
   "cell_type": "markdown",
   "id": "8030e4bd-febf-40dd-99d6-ac21e12b8535",
   "metadata": {},
   "source": [
    "## Access elements"
   ]
  },
  {
   "cell_type": "code",
   "execution_count": 26,
   "id": "6e331bd4-5f5a-45ed-a578-713dfc1a1f83",
   "metadata": {},
   "outputs": [
    {
     "data": {
      "text/plain": [
       "'baahubali'"
      ]
     },
     "execution_count": 26,
     "metadata": {},
     "output_type": "execute_result"
    }
   ],
   "source": [
    "dictdatatype['movie']"
   ]
  },
  {
   "cell_type": "code",
   "execution_count": 27,
   "id": "d72c52ab-3117-45c2-a3e3-2121586cf3db",
   "metadata": {},
   "outputs": [
    {
     "data": {
      "text/plain": [
       "'Ford'"
      ]
     },
     "execution_count": 27,
     "metadata": {},
     "output_type": "execute_result"
    }
   ],
   "source": [
    "dictdatatype.get('brand')"
   ]
  },
  {
   "cell_type": "markdown",
   "id": "b2558a64-ed8b-45a6-9de1-88ea31007ade",
   "metadata": {},
   "source": [
    "## get keys"
   ]
  },
  {
   "cell_type": "code",
   "execution_count": 28,
   "id": "5544cde9-91ae-4c30-a515-eff0e7edf981",
   "metadata": {},
   "outputs": [
    {
     "data": {
      "text/plain": [
       "dict_keys(['movie', 2017, 'brand', 'electric', 'year', 'colors'])"
      ]
     },
     "execution_count": 28,
     "metadata": {},
     "output_type": "execute_result"
    }
   ],
   "source": [
    "dictdatatype.keys()"
   ]
  },
  {
   "cell_type": "markdown",
   "id": "9d6c5f71-574f-4c49-9855-00a36363b0da",
   "metadata": {},
   "source": [
    "## checking keys exist"
   ]
  },
  {
   "cell_type": "code",
   "execution_count": 31,
   "id": "ac64f368-b162-4c24-9579-cb515653dd1c",
   "metadata": {},
   "outputs": [
    {
     "name": "stdout",
     "output_type": "stream",
     "text": [
      "yes, 'movie' is the key in dict\n"
     ]
    }
   ],
   "source": [
    "dictdatatype = {'movie': 'baahubali',\n",
    "                 2017 : 'release',\n",
    "                  \"brand\": \"Ford\",\n",
    "                  \"electric\": False,\n",
    "                  \"year\": 1964,\n",
    "                    \"colors\": [\"red\", \"white\", \"blue\"]}\n",
    "if 'movie' in dictdatatype:\n",
    "    print(\"yes, 'movie' is the key in dict\")"
   ]
  },
  {
   "cell_type": "markdown",
   "id": "8caecf88-856b-4f66-9b33-cde4d939dcde",
   "metadata": {},
   "source": [
    "## Update Dictionary"
   ]
  },
  {
   "cell_type": "code",
   "execution_count": 33,
   "id": "627792fb-15a9-4f79-ba39-56d36f3106e4",
   "metadata": {},
   "outputs": [
    {
     "data": {
      "text/plain": [
       "{'movie': 'eega',\n",
       " 2017: 'release',\n",
       " 'brand': 'Ford',\n",
       " 'electric': False,\n",
       " 'year': 1964,\n",
       " 'colors': ['red', 'white', 'blue']}"
      ]
     },
     "execution_count": 33,
     "metadata": {},
     "output_type": "execute_result"
    }
   ],
   "source": [
    "dictdatatype = {'movie': 'baahubali',\n",
    "                 2017 : 'release',\n",
    "                  \"brand\": \"Ford\",\n",
    "                  \"electric\": False,\n",
    "                  \"year\": 1964,\n",
    "                    \"colors\": [\"red\", \"white\", \"blue\"]}\n",
    "dictdatatype.update({'movie':'eega'})\n",
    "dictdatatype"
   ]
  },
  {
   "cell_type": "markdown",
   "id": "ca4709b4-e0b2-4c71-a840-2cacbb49fab9",
   "metadata": {},
   "source": [
    "## Nested dictionary"
   ]
  },
  {
   "cell_type": "code",
   "execution_count": 34,
   "id": "736cd70a-4b25-4d92-9830-74598a9cb435",
   "metadata": {},
   "outputs": [
    {
     "data": {
      "text/plain": [
       "{'child1': {'name': 'lucky', 'year': 2016},\n",
       " 'child2': {'name': 'sanvi', 'year': 2019},\n",
       " 'child3': {'name': 'pavan', 'year': 2016}}"
      ]
     },
     "execution_count": 34,
     "metadata": {},
     "output_type": "execute_result"
    }
   ],
   "source": [
    "myfamily = {\n",
    "  \"child1\" : {\n",
    "    \"name\" : \"lucky\",\n",
    "    \"year\" : 2016\n",
    "  },\n",
    "  \"child2\" : {\n",
    "    \"name\" : \"sanvi\",\n",
    "    \"year\" : 2019\n",
    "  },\n",
    "  \"child3\" : {\n",
    "    \"name\" : \"pavan\",\n",
    "    \"year\" : 2016\n",
    "  }\n",
    "}\n",
    "myfamily"
   ]
  },
  {
   "cell_type": "code",
   "execution_count": 44,
   "id": "e4dfb322-e346-44a2-a654-7acdae75d079",
   "metadata": {},
   "outputs": [
    {
     "data": {
      "text/plain": [
       "{'movie': 'baahubali', 'collection': {2000, 'crores'}}"
      ]
     },
     "execution_count": 44,
     "metadata": {},
     "output_type": "execute_result"
    }
   ],
   "source": [
    "myfamily = {\n",
    "  'movie' : 'baahubali',\n",
    "    'collection' : {2000 ,\"crores\"}\n",
    "} \n",
    "myfamily"
   ]
  },
  {
   "cell_type": "markdown",
   "id": "16bbee2f-2ce5-4b27-8fc9-ff2b759f75df",
   "metadata": {},
   "source": [
    "## Exercise"
   ]
  },
  {
   "cell_type": "code",
   "execution_count": 2,
   "id": "572842cf-d9eb-4c63-ab17-1f765436eb87",
   "metadata": {},
   "outputs": [
    {
     "ename": "AttributeError",
     "evalue": "'dict' object has no attribute 'sorted'",
     "output_type": "error",
     "traceback": [
      "\u001b[1;31m---------------------------------------------------------------------------\u001b[0m",
      "\u001b[1;31mAttributeError\u001b[0m                            Traceback (most recent call last)",
      "\u001b[1;32m<ipython-input-2-62a8a2327b44>\u001b[0m in \u001b[0;36m<module>\u001b[1;34m\u001b[0m\n\u001b[0;32m      5\u001b[0m } \n\u001b[0;32m      6\u001b[0m \u001b[1;33m\u001b[0m\u001b[0m\n\u001b[1;32m----> 7\u001b[1;33m \u001b[0msorting\u001b[0m\u001b[1;33m.\u001b[0m\u001b[0msorted\u001b[0m\u001b[1;33m(\u001b[0m\u001b[1;33m)\u001b[0m\u001b[1;33m\u001b[0m\u001b[1;33m\u001b[0m\u001b[0m\n\u001b[0m",
      "\u001b[1;31mAttributeError\u001b[0m: 'dict' object has no attribute 'sorted'"
     ]
    }
   ],
   "source": [
    "sorting = {\n",
    "  'year' : 1995,\n",
    "    'number' : 1334,\n",
    "    'byte' : 0.125\n",
    "} \n",
    "\n",
    "sorting.sorted()"
   ]
  },
  {
   "cell_type": "code",
   "execution_count": 6,
   "id": "ed5c5476-2e0a-470c-ae96-6266b7ebc12a",
   "metadata": {},
   "outputs": [
    {
     "data": {
      "text/plain": [
       "{0: 10, 1: 20, 2: 30}"
      ]
     },
     "execution_count": 6,
     "metadata": {},
     "output_type": "execute_result"
    }
   ],
   "source": [
    "add_ = {0: 10, 1: 20}\n",
    "\n",
    "add_.update({2:30})\n",
    "add_"
   ]
  },
  {
   "cell_type": "code",
   "execution_count": 16,
   "id": "142af05b-21a8-44dd-a662-797ece480011",
   "metadata": {},
   "outputs": [
    {
     "data": {
      "text/plain": [
       "{1: 10, 2: 20, 3: 30, 4: 40, 5: 50, 6: 60}"
      ]
     },
     "execution_count": 16,
     "metadata": {},
     "output_type": "execute_result"
    }
   ],
   "source": [
    "dic1={1:10, 2:20}\n",
    "dic2={3:30, 4:40}\n",
    "dic3={5:50,6:60}\n",
    "dic1.update(dic2)\n",
    "dic1.update(dic3)\n",
    "dic1"
   ]
  },
  {
   "cell_type": "code",
   "execution_count": 22,
   "id": "a6023054-8851-4c0b-ad1d-211837220cc8",
   "metadata": {},
   "outputs": [
    {
     "name": "stdin",
     "output_type": "stream",
     "text": [
      "enter a dict value 7\n"
     ]
    },
    {
     "name": "stdout",
     "output_type": "stream",
     "text": [
      "7 is not in dict\n"
     ]
    }
   ],
   "source": [
    "x = int (input(\"enter a dict value\"))\n",
    "if(x in dic1):\n",
    "    print(\"{} is in dict\".format(x))\n",
    "else:\n",
    "     print(\"{} is not in dict\".format(x))"
   ]
  },
  {
   "cell_type": "code",
   "execution_count": 27,
   "id": "6451149d-60a9-446b-81e5-7b6224b4948a",
   "metadata": {},
   "outputs": [
    {
     "name": "stdout",
     "output_type": "stream",
     "text": [
      "1 -> 10\n",
      "2 -> 20\n",
      "3 -> 30\n",
      "4 -> 40\n",
      "5 -> 50\n",
      "6 -> 60\n"
     ]
    }
   ],
   "source": [
    "for i,j in dic1.items():\n",
    "    print(i,'->',j)"
   ]
  },
  {
   "cell_type": "code",
   "execution_count": 29,
   "id": "31c762e8-6de4-4108-ba6b-b691f8f0f916",
   "metadata": {},
   "outputs": [
    {
     "name": "stdin",
     "output_type": "stream",
     "text": [
      "enter n value 5\n"
     ]
    },
    {
     "name": "stdout",
     "output_type": "stream",
     "text": [
      "{1: 1, 2: 4, 3: 9, 4: 16, 5: 25}\n"
     ]
    }
   ],
   "source": [
    "n = int(input(\"enter n value\"))\n",
    "multiply = dict()\n",
    "for i in range(1, n+1):\n",
    "    multiply[i] = i*i\n",
    "    \n",
    "print(multiply)"
   ]
  },
  {
   "cell_type": "code",
   "execution_count": null,
   "id": "9fe6490a-557b-43b7-add6-eec01618f346",
   "metadata": {},
   "outputs": [],
   "source": []
  }
 ],
 "metadata": {
  "kernelspec": {
   "display_name": "Python 3",
   "language": "python",
   "name": "python3"
  },
  "language_info": {
   "codemirror_mode": {
    "name": "ipython",
    "version": 3
   },
   "file_extension": ".py",
   "mimetype": "text/x-python",
   "name": "python",
   "nbconvert_exporter": "python",
   "pygments_lexer": "ipython3",
   "version": "3.8.8"
  }
 },
 "nbformat": 4,
 "nbformat_minor": 5
}
