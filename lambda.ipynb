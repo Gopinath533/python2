{
 "cells": [
  {
   "cell_type": "code",
   "execution_count": 2,
   "id": "086cb38b-097c-4ee9-a71a-a8986d4e32af",
   "metadata": {},
   "outputs": [
    {
     "name": "stdout",
     "output_type": "stream",
     "text": [
      "15\n"
     ]
    }
   ],
   "source": [
    "x = lambda a : a + 10\n",
    "print(x(5))"
   ]
  },
  {
   "cell_type": "code",
   "execution_count": 3,
   "id": "9e5b88ec-e9b4-409b-8831-f99b85494394",
   "metadata": {},
   "outputs": [
    {
     "name": "stdout",
     "output_type": "stream",
     "text": [
      "15\n"
     ]
    }
   ],
   "source": [
    "x = lambda a, b: a + b\n",
    "print(x(5,10))"
   ]
  },
  {
   "cell_type": "code",
   "execution_count": 4,
   "id": "5c16c105-6594-4d58-80eb-8eabb49b3438",
   "metadata": {},
   "outputs": [
    {
     "name": "stdout",
     "output_type": "stream",
     "text": [
      "120\n"
     ]
    }
   ],
   "source": [
    "x = lambda a, b, c : a* b * c\n",
    "print(x(4, 5, 6))"
   ]
  },
  {
   "cell_type": "code",
   "execution_count": 2,
   "id": "d66befd5-3450-4b21-9644-f3d97fb72ef0",
   "metadata": {},
   "outputs": [
    {
     "name": "stdout",
     "output_type": "stream",
     "text": [
      "25\n",
      "48\n"
     ]
    }
   ],
   "source": [
    "x = lambda a : a + 15\n",
    "print(x(10))\n",
    "y = lambda a, b: a * b\n",
    "print(y(12, 4))"
   ]
  },
  {
   "cell_type": "code",
   "execution_count": 19,
   "id": "aca8a80e-d534-4029-bb91-b016e30ca630",
   "metadata": {},
   "outputs": [
    {
     "name": "stdout",
     "output_type": "stream",
     "text": [
      "double of the number is: 30\n",
      "triple of the number is: 45\n",
      "quadruple of the number is: 60\n",
      "Quintuple of the number is: 75\n"
     ]
    }
   ],
   "source": [
    "x = lambda a,n : a*n\n",
    "\n",
    "print(\"double of the number is:\",(x(15,2)))\n",
    "\n",
    "print(\"triple of the number is:\", (x(15,3)))\n",
    "\n",
    "print(\"quadruple of the number is:\", (x(15,4)))\n",
    "\n",
    "print(\"Quintuple of the number is:\",(x(15,5)))\n"
   ]
  },
  {
   "cell_type": "code",
   "execution_count": 23,
   "id": "1bf2f5ff-61e9-4edc-a58e-4704ae5dc2b6",
   "metadata": {},
   "outputs": [],
   "source": [
    "def reverse(n):\n",
    "    return n[-1]\n",
    "\n",
    "def tuple_reverse(list1):\n",
    "    return sorted(list1, key = reverse)"
   ]
  },
  {
   "cell_type": "code",
   "execution_count": 24,
   "id": "861f0b61-5bb4-40b5-b0a7-c5f59be8e99a",
   "metadata": {},
   "outputs": [
    {
     "data": {
      "text/plain": [
       "[('Social sciences', 82), ('English', 88), ('Science', 90), ('Maths', 97)]"
      ]
     },
     "execution_count": 24,
     "metadata": {},
     "output_type": "execute_result"
    }
   ],
   "source": [
    "tuple_reverse([('English', 88), ('Science', 90), ('Maths', 97), ('Social sciences', 82)])"
   ]
  },
  {
   "cell_type": "code",
   "execution_count": 35,
   "id": "5e04a9e6-8e92-442d-8f79-a887688799c0",
   "metadata": {},
   "outputs": [
    {
     "name": "stdout",
     "output_type": "stream",
     "text": [
      "list before sorting:[('English', 88), ('Science', 90), ('Maths', 97), ('Social sciences', 82)]\n",
      "list after sorting: [('Social sciences', 82), ('English', 88), ('Science', 90), ('Maths', 97)]\n"
     ]
    }
   ],
   "source": [
    "subject_and_marks = [('English', 88), ('Science', 90), ('Maths', 97), ('Social sciences', 82)]\n",
    "print(\"list before sorting:{}\".format(subject_and_marks))\n",
    "subject_and_marks.sort(key = lambda x: x[1])\n",
    "print(\"list after sorting: {}\".format(subject_and_marks))"
   ]
  },
  {
   "cell_type": "code",
   "execution_count": 38,
   "id": "4ae23b5d-3ef8-43a1-b8b6-dd0c585c236a",
   "metadata": {},
   "outputs": [
    {
     "name": "stdout",
     "output_type": "stream",
     "text": [
      "dictionary before sort: [{'make': 'Nokia', 'model': 216, 'color': 'Black'}, {'make': 'Mi Max', 'model': '2', 'color': 'Gold'}, {'make': 'Samsung', 'model': 7, 'color': 'Blue'}]\n",
      "dictionary after sort: [{'make': 'Nokia', 'model': 216, 'color': 'Black'}, {'make': 'Samsung', 'model': 7, 'color': 'Blue'}, {'make': 'Mi Max', 'model': '2', 'color': 'Gold'}]\n"
     ]
    }
   ],
   "source": [
    "dicti = [{'make': 'Nokia', 'model': 216, 'color': 'Black'}, \n",
    "         {'make': 'Mi Max', 'model': '2', 'color': 'Gold'},\n",
    "         {'make': 'Samsung', 'model': 7, 'color': 'Blue'}]\n",
    "print(\"dictionary before sort: {}\".format(dicti))\n",
    "dicti.sort(key = lambda x : x['color'])\n",
    "print(\"dictionary after sort: {}\".format(dicti))"
   ]
  },
  {
   "cell_type": "code",
   "execution_count": 43,
   "id": "b9447708-d45e-4f3a-8423-3a5643457c92",
   "metadata": {},
   "outputs": [
    {
     "name": "stdout",
     "output_type": "stream",
     "text": [
      "Given list: [1, 2, 3, 4, 5, 6, 7, 8, 9, 10]\n",
      "even numbers from the list: [2, 4, 6, 8, 10]\n",
      "odd numbers from the list: [1, 3, 5, 7, 9]\n"
     ]
    }
   ],
   "source": [
    "list1 = [1, 2, 3, 4, 5, 6, 7, 8, 9, 10]\n",
    "print (\"Given list: {}\".format(list1))\n",
    "even_num = list(filter(lambda x: x%2 == 0, list1))\n",
    "odd_num = list(filter(lambda x: x%2 ==1, list1))\n",
    "print(\"even numbers from the list: {}\".format(even_num))\n",
    "print(\"odd numbers from the list: {}\".format(odd_num))"
   ]
  },
  {
   "cell_type": "code",
   "execution_count": 51,
   "id": "2b25301e-77d8-444c-a236-b7b31a8598e9",
   "metadata": {},
   "outputs": [
    {
     "name": "stdout",
     "output_type": "stream",
     "text": [
      "Given list: [1, 2, 3, 4, 5, 6, 7, 8, 9, 10]\n",
      "even numbers from the list: [1, 4, 9, 16, 25, 36, 49, 64, 81, 100]\n",
      "odd numbers from the list: [1, 8, 27, 64, 125, 216, 343, 512, 729, 1000]\n"
     ]
    }
   ],
   "source": [
    "list1 = [1, 2, 3, 4, 5, 6, 7, 8, 9, 10]\n",
    "print (\"Given list: {}\".format(list1))\n",
    "squ_num = list(map(lambda x: x ** 2 , list1))\n",
    "cube_num = list(map(lambda x: x ** 3 , list1))\n",
    "print(\"even numbers from the list: {}\".format(squ_num))\n",
    "print(\"odd numbers from the list: {}\".format(cube_num))"
   ]
  },
  {
   "cell_type": "code",
   "execution_count": null,
   "id": "b9c70954-63f4-4c5f-aa8e-a4d6314957f1",
   "metadata": {},
   "outputs": [],
   "source": []
  }
 ],
 "metadata": {
  "kernelspec": {
   "display_name": "Python 3",
   "language": "python",
   "name": "python3"
  },
  "language_info": {
   "codemirror_mode": {
    "name": "ipython",
    "version": 3
   },
   "file_extension": ".py",
   "mimetype": "text/x-python",
   "name": "python",
   "nbconvert_exporter": "python",
   "pygments_lexer": "ipython3",
   "version": "3.8.8"
  }
 },
 "nbformat": 4,
 "nbformat_minor": 5
}
