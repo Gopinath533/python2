{
 "cells": [
  {
   "cell_type": "markdown",
   "id": "8d966fb8-eff4-4c65-b218-ab10c66ef9ac",
   "metadata": {},
   "source": [
    "## Class and object"
   ]
  },
  {
   "cell_type": "markdown",
   "id": "67e4287c-3a17-4c36-9d7f-0d9a84e5697d",
   "metadata": {},
   "source": [
    "## init() function"
   ]
  },
  {
   "cell_type": "code",
   "execution_count": null,
   "id": "74cff867-0357-44bf-be5b-e0b389cc4ccc",
   "metadata": {},
   "outputs": [],
   "source": [
    "class person:\n",
    "    def __init__(self, name, age):\n",
    "        self.name = name\n",
    "        self.age = age\n",
    "        \n"
   ]
  },
  {
   "cell_type": "code",
   "execution_count": 6,
   "id": "78983a3a-dc01-4044-aab5-fef512487544",
   "metadata": {},
   "outputs": [
    {
     "name": "stdout",
     "output_type": "stream",
     "text": [
      "gopinath\n",
      "26\n"
     ]
    }
   ],
   "source": [
    "p1 = person('gopinath', 26)\n",
    "print(p1.name)\n",
    "print(p1.age)"
   ]
  },
  {
   "cell_type": "code",
   "execution_count": 32,
   "id": "dd92be4b-4b3c-4e12-85f9-53d33ee003fb",
   "metadata": {},
   "outputs": [
    {
     "name": "stdout",
     "output_type": "stream",
     "text": [
      "my name is gopinath\n",
      "my age is 26\n"
     ]
    }
   ],
   "source": [
    "class person:\n",
    "    def __init__(self, name, age):\n",
    "        self.name = name\n",
    "        self.age = age\n",
    "        \n",
    "    def myfun(self):\n",
    "        print(\"my name is \"+self.name)\n",
    "        print(\"my age is {}\".format(self.age))\n",
    "p1 = person('gopinath', 26)\n",
    "p1.myfun()"
   ]
  },
  {
   "cell_type": "code",
   "execution_count": 37,
   "id": "2cc8410d-9ca3-45ff-a409-ef554c133ddf",
   "metadata": {},
   "outputs": [
    {
     "name": "stdout",
     "output_type": "stream",
     "text": [
      "INDIA  got independence\n",
      "on 15th august\n"
     ]
    }
   ],
   "source": [
    "class independence:\n",
    "    def __init__(august, name , year):\n",
    "        august.name = name\n",
    "        august.year = year\n",
    "    \n",
    "    def myind(august):\n",
    "        print(\"{}  got independence\".format(august.name))\n",
    "        print(\"on {}th august\".format(august.year))\n",
    "i1 = independence('INDIA',15)\n",
    "i1.myind()"
   ]
  },
  {
   "cell_type": "markdown",
   "id": "8cad2161-747c-49fb-8df9-379d93697e39",
   "metadata": {},
   "source": [
    "## exercise on class"
   ]
  },
  {
   "cell_type": "code",
   "execution_count": 38,
   "id": "657e176a-9bc2-4f39-b1a4-d60930efe015",
   "metadata": {},
   "outputs": [
    {
     "name": "stdout",
     "output_type": "stream",
     "text": [
      "__name__\n",
      "__doc__\n",
      "__package__\n",
      "__loader__\n",
      "__spec__\n",
      "_array_reconstructor\n",
      "ArrayType\n",
      "array\n",
      "typecodes\n"
     ]
    }
   ],
   "source": [
    "import array\n",
    "for name in array.__dict__:\n",
    "    print(name)"
   ]
  },
  {
   "cell_type": "code",
   "execution_count": 7,
   "id": "920c23b5-2896-449e-8878-9d87008c9613",
   "metadata": {},
   "outputs": [],
   "source": [
    "class mathematics:\n",
    "    \n",
    "    def __init__(self,a,b):\n",
    "        self.a = a\n",
    "        self.b = b\n",
    "        \n",
    "    def sum_(self):\n",
    "        return self.a + self.b\n",
    "    \n",
    "    def sub_(self):\n",
    "        return self.a - self.b\n",
    "    \n",
    "    def mul_(self):\n",
    "        return self.a * self.b\n",
    "    \n",
    "    def div_(self):\n",
    "        return self.a / self.b"
   ]
  },
  {
   "cell_type": "code",
   "execution_count": 8,
   "id": "be3a76d4-f04c-493e-8a98-11ce21fbc0e9",
   "metadata": {},
   "outputs": [],
   "source": [
    "obj = mathematics(1, 6)"
   ]
  },
  {
   "cell_type": "code",
   "execution_count": 9,
   "id": "d1639b48-41ff-4f17-bceb-21cb5f65dddb",
   "metadata": {},
   "outputs": [
    {
     "data": {
      "text/plain": [
       "7"
      ]
     },
     "execution_count": 9,
     "metadata": {},
     "output_type": "execute_result"
    }
   ],
   "source": [
    "obj.sum_()"
   ]
  },
  {
   "cell_type": "code",
   "execution_count": 11,
   "id": "efa32a4b-1daf-4dfb-9c68-9721930a96ff",
   "metadata": {},
   "outputs": [
    {
     "data": {
      "text/plain": [
       "-5"
      ]
     },
     "execution_count": 11,
     "metadata": {},
     "output_type": "execute_result"
    }
   ],
   "source": [
    "obj.sub_()"
   ]
  },
  {
   "cell_type": "code",
   "execution_count": 12,
   "id": "5109f505-1626-4ace-b89b-ff82787dd42b",
   "metadata": {},
   "outputs": [
    {
     "data": {
      "text/plain": [
       "6"
      ]
     },
     "execution_count": 12,
     "metadata": {},
     "output_type": "execute_result"
    }
   ],
   "source": [
    "obj.mul_()"
   ]
  },
  {
   "cell_type": "code",
   "execution_count": 13,
   "id": "20de5a84-db75-4a93-b314-5f89c88a8285",
   "metadata": {},
   "outputs": [
    {
     "data": {
      "text/plain": [
       "0.16666666666666666"
      ]
     },
     "execution_count": 13,
     "metadata": {},
     "output_type": "execute_result"
    }
   ],
   "source": [
    "obj.div_()"
   ]
  },
  {
   "cell_type": "markdown",
   "id": "07d11fb5-0d01-46aa-9eb1-fa489e8d94ef",
   "metadata": {},
   "source": [
    "# Polymorphism"
   ]
  },
  {
   "cell_type": "code",
   "execution_count": 15,
   "id": "a2a5d7f3-c9c1-49a2-b60e-863470b855ae",
   "metadata": {},
   "outputs": [],
   "source": [
    "class Food_item:\n",
    "    def __init__(self, name, price):\n",
    "        self.name = name\n",
    "        self.price = price\n",
    "        \n",
    "    def info(self):\n",
    "        print(f\"my food name is {self.name} and my price is {self.price}crores\")\n",
    "        \n",
    "    def status_(self):\n",
    "        print(\"good item\")\n",
    "class fruit_item:\n",
    "    def __init__(self, name, price):\n",
    "        self.name = name\n",
    "        self.price = price\n",
    "        \n",
    "    def info(self):\n",
    "        print(f\"my food name is {self.name} and my price is {self.price}crores\")\n",
    "        \n",
    "    def status_(self):\n",
    "        print(\"nice fruit\")"
   ]
  },
  {
   "cell_type": "code",
   "execution_count": 16,
   "id": "df2bb3f2-4210-4852-a606-ee6d2b080110",
   "metadata": {},
   "outputs": [],
   "source": [
    "obj1 = Food_item('biryani',20)\n",
    "obj2 = fruit_item('apple',12)"
   ]
  },
  {
   "cell_type": "code",
   "execution_count": 17,
   "id": "5499c910-414b-4c79-b74b-b6f404844799",
   "metadata": {},
   "outputs": [
    {
     "name": "stdout",
     "output_type": "stream",
     "text": [
      "my food name is biryani and my price is 20crores\n",
      "good item\n",
      "my food name is apple and my price is 12crores\n",
      "nice fruit\n"
     ]
    }
   ],
   "source": [
    "for i in (obj1, obj2):\n",
    "    i.info()\n",
    "    i.status_()"
   ]
  },
  {
   "cell_type": "markdown",
   "id": "0f7a0315-df34-44b2-b9f9-159bfe89a16e",
   "metadata": {},
   "source": [
    "# Single inheritence"
   ]
  },
  {
   "cell_type": "code",
   "execution_count": 1,
   "id": "2e01a828-cbc2-46b0-b88d-bff51d90c71a",
   "metadata": {},
   "outputs": [],
   "source": [
    "class bird:\n",
    "    def intro(self):\n",
    "        print(\"there are many types of birds\")\n",
    "        \n",
    "    def flight(self):\n",
    "        print(\"most of the birds can fly but some cannot\")\n",
    "        \n",
    "class sparrow(bird):\n",
    "    def flight(self):\n",
    "        print(\"sparrow can fly\")"
   ]
  },
  {
   "cell_type": "markdown",
   "id": "7d6eca1b-c68e-4499-81ad-e33216997934",
   "metadata": {},
   "source": [
    "+ object for parent class(bird) only"
   ]
  },
  {
   "cell_type": "code",
   "execution_count": 2,
   "id": "18c5a172-9a6a-439c-93f2-0a09445cdaac",
   "metadata": {},
   "outputs": [],
   "source": [
    "obj_bird = bird()"
   ]
  },
  {
   "cell_type": "code",
   "execution_count": 3,
   "id": "5bf1ddf9-fa71-47cc-b387-9754a0bf81ab",
   "metadata": {},
   "outputs": [
    {
     "name": "stdout",
     "output_type": "stream",
     "text": [
      "there are many types of birds\n"
     ]
    }
   ],
   "source": [
    "obj_bird.intro()"
   ]
  },
  {
   "cell_type": "code",
   "execution_count": 4,
   "id": "d611e592-7ce4-426c-9740-c4080ba9dbf2",
   "metadata": {},
   "outputs": [
    {
     "name": "stdout",
     "output_type": "stream",
     "text": [
      "most of the birds can fly but some cannot\n"
     ]
    }
   ],
   "source": [
    "obj_bird.flight()"
   ]
  },
  {
   "cell_type": "markdown",
   "id": "90781153-d340-42b9-9343-86fb68eb75f3",
   "metadata": {},
   "source": [
    "+ object for child class(sparrow)"
   ]
  },
  {
   "cell_type": "code",
   "execution_count": 5,
   "id": "8dada397-158b-411d-9c24-66badfaca00d",
   "metadata": {},
   "outputs": [],
   "source": [
    "obj_sparrow = sparrow()"
   ]
  },
  {
   "cell_type": "code",
   "execution_count": 6,
   "id": "bc779a39-a44c-4715-8a56-a40f515b86e9",
   "metadata": {},
   "outputs": [
    {
     "name": "stdout",
     "output_type": "stream",
     "text": [
      "there are many types of birds\n"
     ]
    }
   ],
   "source": [
    "obj_sparrow.intro()"
   ]
  },
  {
   "cell_type": "code",
   "execution_count": 7,
   "id": "355ae04e-7287-4909-b49c-e2ff8b8483b3",
   "metadata": {},
   "outputs": [
    {
     "name": "stdout",
     "output_type": "stream",
     "text": [
      "sparrow can fly\n"
     ]
    }
   ],
   "source": [
    "obj_sparrow.flight()"
   ]
  },
  {
   "cell_type": "markdown",
   "id": "ceb6a1f6-20b4-4ba3-887d-30cf39746ee3",
   "metadata": {},
   "source": [
    "+ child class will overide the parent class"
   ]
  },
  {
   "cell_type": "markdown",
   "id": "7ac96bce-9e7f-40cc-8021-93d08b872f07",
   "metadata": {},
   "source": [
    "# Encapsulation"
   ]
  },
  {
   "cell_type": "code",
   "execution_count": 24,
   "id": "7da4ce63-a8bc-4789-bfc8-73a0928def18",
   "metadata": {},
   "outputs": [],
   "source": [
    "class computer:\n",
    "    def __init__(self):\n",
    "        self.maxprice = 900\n",
    "        \n",
    "    def sell(self):\n",
    "        print(\"price of the computer {}\".format(self.maxprice))"
   ]
  },
  {
   "cell_type": "code",
   "execution_count": 25,
   "id": "704fb032-2547-473f-bf8c-e690303cbd9a",
   "metadata": {},
   "outputs": [],
   "source": [
    "c1 = computer()"
   ]
  },
  {
   "cell_type": "code",
   "execution_count": 26,
   "id": "56f6788b-b6b8-4c26-a6aa-2748b011f82a",
   "metadata": {},
   "outputs": [
    {
     "name": "stdout",
     "output_type": "stream",
     "text": [
      "price of the computer 900\n"
     ]
    }
   ],
   "source": [
    "c1.sell()"
   ]
  },
  {
   "cell_type": "code",
   "execution_count": 27,
   "id": "10458a10-a0a8-4905-b2da-c2c555a22f21",
   "metadata": {},
   "outputs": [],
   "source": [
    "class computer:\n",
    "    def __init__(self):\n",
    "        self.maxprice = 900"
   ]
  },
  {
   "cell_type": "code",
   "execution_count": 28,
   "id": "8e98bf24-fd9d-4ad9-8f95-1ec6e78e3d20",
   "metadata": {},
   "outputs": [],
   "source": [
    "c1 = computer()"
   ]
  },
  {
   "cell_type": "code",
   "execution_count": 29,
   "id": "bfca204f-e4a2-44c0-a549-7d683436e232",
   "metadata": {},
   "outputs": [],
   "source": [
    "c1.maxprice = 1000"
   ]
  },
  {
   "cell_type": "code",
   "execution_count": 30,
   "id": "2c16f9d4-fcc6-4f5f-bd33-daad4a60eb96",
   "metadata": {},
   "outputs": [
    {
     "data": {
      "text/plain": [
       "1000"
      ]
     },
     "execution_count": 30,
     "metadata": {},
     "output_type": "execute_result"
    }
   ],
   "source": [
    "c1.maxprice"
   ]
  },
  {
   "cell_type": "code",
   "execution_count": 31,
   "id": "8b9f3d50-a0c2-45ba-b96d-0398882ebc9a",
   "metadata": {},
   "outputs": [],
   "source": [
    "class computer:\n",
    "    def __init__(self):\n",
    "        self.__maxprice = 900\n",
    "        \n",
    "    def sell(self):\n",
    "        print(\"price of the computer {}\".format(self.__maxprice))"
   ]
  },
  {
   "cell_type": "code",
   "execution_count": 32,
   "id": "1dea2398-5be4-480d-b2c2-59545e816c65",
   "metadata": {},
   "outputs": [],
   "source": [
    "c1 = computer()"
   ]
  },
  {
   "cell_type": "code",
   "execution_count": 33,
   "id": "007dbe7f-6b22-42b0-9f84-2f03d0c1440e",
   "metadata": {},
   "outputs": [
    {
     "name": "stdout",
     "output_type": "stream",
     "text": [
      "price of the computer 900\n"
     ]
    }
   ],
   "source": [
    "c1.sell()"
   ]
  },
  {
   "cell_type": "code",
   "execution_count": 34,
   "id": "334852b9-e74f-49f6-957f-0049eb7f81d3",
   "metadata": {},
   "outputs": [
    {
     "ename": "AttributeError",
     "evalue": "'computer' object has no attribute '__maxprice'",
     "output_type": "error",
     "traceback": [
      "\u001b[1;31m---------------------------------------------------------------------------\u001b[0m",
      "\u001b[1;31mAttributeError\u001b[0m                            Traceback (most recent call last)",
      "\u001b[1;32m<ipython-input-34-79ffd184a832>\u001b[0m in \u001b[0;36m<module>\u001b[1;34m\u001b[0m\n\u001b[1;32m----> 1\u001b[1;33m \u001b[0mc1\u001b[0m\u001b[1;33m.\u001b[0m\u001b[0m__maxprice\u001b[0m\u001b[1;33m\u001b[0m\u001b[1;33m\u001b[0m\u001b[0m\n\u001b[0m",
      "\u001b[1;31mAttributeError\u001b[0m: 'computer' object has no attribute '__maxprice'"
     ]
    }
   ],
   "source": [
    "c1.__maxprice"
   ]
  },
  {
   "cell_type": "markdown",
   "id": "4af31d49-564c-4f24-b751-fcb65d28123b",
   "metadata": {},
   "source": [
    "+ __maxprice will be hidden"
   ]
  },
  {
   "cell_type": "code",
   "execution_count": 35,
   "id": "66855a3b-db9b-4bdf-a183-cc8ea6418cd4",
   "metadata": {},
   "outputs": [],
   "source": [
    "class computer:\n",
    "    def __init__(self):\n",
    "        self.__maxprice = 900\n",
    "        \n",
    "    def sell(self):\n",
    "        print(\"price of the computer {}\".format(self.__maxprice))\n",
    "        \n",
    "    def setmaxprice(self, price):\n",
    "        self.__maxprice = price\n",
    "        "
   ]
  },
  {
   "cell_type": "code",
   "execution_count": 36,
   "id": "66843465-7535-477e-b49d-6c7e5a600140",
   "metadata": {},
   "outputs": [],
   "source": [
    "c1 = computer()"
   ]
  },
  {
   "cell_type": "code",
   "execution_count": 37,
   "id": "2a5c7a1f-6dfb-420a-8c63-359d132af9ef",
   "metadata": {},
   "outputs": [
    {
     "name": "stdout",
     "output_type": "stream",
     "text": [
      "price of the computer 900\n"
     ]
    }
   ],
   "source": [
    "c1.sell()"
   ]
  },
  {
   "cell_type": "code",
   "execution_count": 38,
   "id": "7ed337b7-d6a1-4416-aded-dc45ff977013",
   "metadata": {},
   "outputs": [],
   "source": [
    "c1.__maxprice = 100"
   ]
  },
  {
   "cell_type": "code",
   "execution_count": 39,
   "id": "f4c487dd-5349-4e4c-8d6d-0235cfdd8f02",
   "metadata": {},
   "outputs": [
    {
     "name": "stdout",
     "output_type": "stream",
     "text": [
      "price of the computer 900\n"
     ]
    }
   ],
   "source": [
    "c1.sell()"
   ]
  },
  {
   "cell_type": "code",
   "execution_count": 40,
   "id": "e6e061a9-bb6d-4806-8dae-07cae925b9ed",
   "metadata": {},
   "outputs": [],
   "source": [
    "c1.setmaxprice(1000)"
   ]
  },
  {
   "cell_type": "code",
   "execution_count": 41,
   "id": "876d1489-07d0-458a-9011-8512e6c11b33",
   "metadata": {},
   "outputs": [
    {
     "name": "stdout",
     "output_type": "stream",
     "text": [
      "price of the computer 1000\n"
     ]
    }
   ],
   "source": [
    "c1.sell()"
   ]
  },
  {
   "cell_type": "markdown",
   "id": "b146020b-0694-42ea-bbd7-004b7f8fcb08",
   "metadata": {},
   "source": [
    "# Data Abstraction"
   ]
  },
  {
   "cell_type": "code",
   "execution_count": 51,
   "id": "56e1efdb-08df-42b3-a5af-041d392bfbf3",
   "metadata": {},
   "outputs": [],
   "source": [
    "from abc import ABC, abstractmethod\n",
    "class shape(ABC):\n",
    "    @abstractmethod\n",
    "\n",
    "    def area(self):\n",
    "        pass\n",
    "    \n",
    "class rectangle(shape):\n",
    "    length = 7\n",
    "    breadth = 4\n",
    "    def area(self):\n",
    "        return self.length * self.breadth\n",
    "    \n",
    "class square(shape):\n",
    "    length = 4\n",
    "    def area(self):\n",
    "        return self.length * self.length\n",
    "    \n",
    "class circle(shape):\n",
    "    radius = 3\n",
    "    def area(self):\n",
    "        return 3.14 * self.radius * self.radius\n",
    "    \n",
    "class triangle(shape):\n",
    "    length = 6\n",
    "    width = 7\n",
    "    def area(self):\n",
    "        return 0.5 * self.length * self.width"
   ]
  },
  {
   "cell_type": "code",
   "execution_count": 43,
   "id": "ee282bcf-d54f-4f95-80e1-efcec5844cb8",
   "metadata": {},
   "outputs": [],
   "source": [
    "r = rectangle()"
   ]
  },
  {
   "cell_type": "code",
   "execution_count": 45,
   "id": "b6e2f784-1efc-428c-abbf-1ca143633097",
   "metadata": {},
   "outputs": [
    {
     "data": {
      "text/plain": [
       "28"
      ]
     },
     "execution_count": 45,
     "metadata": {},
     "output_type": "execute_result"
    }
   ],
   "source": [
    "r.area()"
   ]
  },
  {
   "cell_type": "code",
   "execution_count": 47,
   "id": "94fefd0e-a301-43fb-85db-b7b2a6afd257",
   "metadata": {},
   "outputs": [],
   "source": [
    "s = square()"
   ]
  },
  {
   "cell_type": "code",
   "execution_count": 48,
   "id": "70c73c77-fc26-49db-b516-c0d42bf3601d",
   "metadata": {},
   "outputs": [
    {
     "data": {
      "text/plain": [
       "16"
      ]
     },
     "execution_count": 48,
     "metadata": {},
     "output_type": "execute_result"
    }
   ],
   "source": [
    "s.area()"
   ]
  },
  {
   "cell_type": "code",
   "execution_count": 52,
   "id": "1385ec54-a413-4e3c-b7f7-a8fd451a4b87",
   "metadata": {},
   "outputs": [],
   "source": [
    "c = circle()"
   ]
  },
  {
   "cell_type": "code",
   "execution_count": 53,
   "id": "8b23b2df-0250-4644-b081-238b300a55c2",
   "metadata": {},
   "outputs": [
    {
     "data": {
      "text/plain": [
       "28.259999999999998"
      ]
     },
     "execution_count": 53,
     "metadata": {},
     "output_type": "execute_result"
    }
   ],
   "source": [
    "c.area()"
   ]
  },
  {
   "cell_type": "code",
   "execution_count": 56,
   "id": "855e9014-94c1-41f6-ad69-b5e909a46bfe",
   "metadata": {},
   "outputs": [],
   "source": [
    "t = triangle()"
   ]
  },
  {
   "cell_type": "code",
   "execution_count": 57,
   "id": "95f11b67-4384-4fce-824d-941526304cc3",
   "metadata": {},
   "outputs": [
    {
     "data": {
      "text/plain": [
       "21.0"
      ]
     },
     "execution_count": 57,
     "metadata": {},
     "output_type": "execute_result"
    }
   ],
   "source": [
    "t.area()"
   ]
  },
  {
   "cell_type": "markdown",
   "id": "7ef45622-a50e-4a35-b984-680268639182",
   "metadata": {},
   "source": [
    "# Task"
   ]
  },
  {
   "cell_type": "code",
   "execution_count": 104,
   "id": "77c12ac8-03d6-4124-ad12-9aad7bb921be",
   "metadata": {},
   "outputs": [],
   "source": [
    "class Vehicle:\n",
    "\n",
    "    def __init__(self,color, name, max_speed, mileage):\n",
    "        self.color = color\n",
    "        self.name = name\n",
    "        self.max_speed = max_speed\n",
    "        self.mileage = mileage\n",
    "\n",
    "class Bus(Vehicle):\n",
    "    pass"
   ]
  },
  {
   "cell_type": "code",
   "execution_count": 105,
   "id": "1e65738d-7e23-4dd6-9aeb-5db9fd4ddfe2",
   "metadata": {},
   "outputs": [
    {
     "name": "stdout",
     "output_type": "stream",
     "text": [
      "vehicle color : white , Vehicle Name:  School Volvo , Speed:  180 , Mileage:  12\n"
     ]
    }
   ],
   "source": [
    "School_bus = Bus(\"white\", \"School Volvo\", 180, 12)\n",
    "print('vehicle color :', School_bus.color, \", Vehicle Name: \", School_bus.name, \", Speed: \", School_bus.max_speed, \", Mileage: \", School_bus.mileage)"
   ]
  },
  {
   "cell_type": "code",
   "execution_count": null,
   "id": "2142c71b-8bf2-438d-897d-c5e7a414674a",
   "metadata": {},
   "outputs": [],
   "source": []
  },
  {
   "cell_type": "markdown",
   "id": "083fc268-a25a-4918-8d1e-169e63d185c2",
   "metadata": {},
   "source": [
    "# multiple inheritance"
   ]
  },
  {
   "cell_type": "code",
   "execution_count": 84,
   "id": "592c96db-6629-45b3-b1b4-0b129f8c8a71",
   "metadata": {},
   "outputs": [],
   "source": [
    "#parent class\n",
    "class bus:\n",
    "    def __init__(self, color, vehicle_name,speed, milage):\n",
    "        self.color = color\n",
    "        self.vehicle_name = vehicle_name\n",
    "        self.speed = speed\n",
    "        self.milage = milage\n",
    "        \n",
    "#parent class\n",
    "class car:\n",
    "    def __init__(self, color1, vehicle_name1,speed1, milage1):\n",
    "        self.color1 = color1\n",
    "        self.vehicle_name1 = vehicle_name1\n",
    "        self.speed1 = speed1\n",
    "        self.milage1 = milage1\n",
    "        \n",
    "#child class\n",
    "class vehicle(bus,car):\n",
    "    def __init__(self, color, vehicle_name,speed, milage, color1, vehicle_name1,speed1, milage1):\n",
    "        bus.__init__(self, color, vehicle_name,speed, milage)\n",
    "        car.__init__(self, color1, vehicle_name1,speed1, milage1)\n",
    "        \n",
    "        print(\"Color: {}, Vehicle name: {}, Speed: {}, Mileage: {}\".format(color,vehicle_name,speed, milage))\n",
    "        print(\"Color: {}, Vehicle name: {}, Speed: {}, Mileage: {}\".format(color1, vehicle_name1,speed1, milage1))"
   ]
  },
  {
   "cell_type": "code",
   "execution_count": 85,
   "id": "684c6ead-9f37-415d-a092-98996f944aaa",
   "metadata": {},
   "outputs": [
    {
     "name": "stdout",
     "output_type": "stream",
     "text": [
      "Color: white, Vehicle name: school_bus, Speed: 120, Mileage: 60\n",
      "Color: white, Vehicle name: audi_Q5, Speed: 120, Mileage: 30\n"
     ]
    }
   ],
   "source": [
    "obj_vehile = vehicle('white', 'school_bus', 120, 60, 'white','audi_Q5',120,30)"
   ]
  },
  {
   "cell_type": "code",
   "execution_count": null,
   "id": "ae53a57e-4ddf-45b0-b6df-a30d5b30ee5f",
   "metadata": {},
   "outputs": [],
   "source": []
  },
  {
   "cell_type": "code",
   "execution_count": 65,
   "id": "dab234ca-bbc4-43d6-9cec-94ca42c9fd72",
   "metadata": {},
   "outputs": [],
   "source": [
    "class cat:\n",
    "    def __init__(self, name, breed, age):\n",
    "        self.name = name\n",
    "        self.breed = breed\n",
    "        self.age = age\n",
    "        \n",
    "    def info(self):\n",
    "        print(f\"my cat name is {self.name} and breed of cat is {self.breed} and age of cat is {self.age}\")\n",
    "        \n",
    "    def status_(self):\n",
    "        print(\"friendly cat\")\n",
    "class dog:\n",
    "    def __init__(self, name, breed, age):\n",
    "        self.name = name\n",
    "        self.breed = breed\n",
    "        self.age = age\n",
    "        \n",
    "    def info(self):\n",
    "        print(f\"my dog name is {self.name} and breed of dog is {self.breed} and age of dog is {self.age}\")\n",
    "        \n",
    "    def status_(self):\n",
    "        print(\"friendly dog\")"
   ]
  },
  {
   "cell_type": "code",
   "execution_count": 67,
   "id": "c0a45538-c852-40b2-8624-a6bdebc70c19",
   "metadata": {},
   "outputs": [],
   "source": [
    "obj1 = cat('silk','wild', 20)\n",
    "obj2 = dog('tommy','pug', 6)"
   ]
  },
  {
   "cell_type": "code",
   "execution_count": 68,
   "id": "05e87b2b-c328-4010-a937-aa0568c39ce6",
   "metadata": {},
   "outputs": [
    {
     "name": "stdout",
     "output_type": "stream",
     "text": [
      "my cat name is silk and breed of cat is wild and age of cat is 20\n",
      "friendly cat\n",
      "my dog name is tommy and breed of dog is pug and age of dog is 6\n",
      "friendly dog\n"
     ]
    }
   ],
   "source": [
    "for i in (obj1, obj2):\n",
    "    i.info()\n",
    "    i.status_()"
   ]
  },
  {
   "cell_type": "code",
   "execution_count": 73,
   "id": "be3da83d-b995-4b97-b8de-b7fa9ce4076b",
   "metadata": {},
   "outputs": [],
   "source": [
    "class rose:\n",
    "    def __init__(self, color, type1):\n",
    "        self.color = color\n",
    "        self.type1 = type1\n",
    "        \n",
    "    def info(self):\n",
    "        print(f\"color of the rose is {self.color} and rose is {self.type1} type\")\n",
    "        \n",
    "    def status_(self):\n",
    "        print(\"nice flower\")\n",
    "class lilly:\n",
    "    def __init__(self, color, type1):\n",
    "        self.color = color\n",
    "        self.type1 = type1\n",
    "        \n",
    "    def info(self):\n",
    "        print(f\"color of the lilly is {self.color} and lilly is {self.type1} type\")\n",
    "        \n",
    "    def status_(self):\n",
    "        print(\"nice flower\")"
   ]
  },
  {
   "cell_type": "code",
   "execution_count": 74,
   "id": "3339efc8-7671-4674-b195-02cc713a7955",
   "metadata": {},
   "outputs": [],
   "source": [
    "obj1 = rose('pink','hybrid')\n",
    "obj2 = lilly('white','normal')"
   ]
  },
  {
   "cell_type": "code",
   "execution_count": 75,
   "id": "0ef741e9-c1a9-44d3-8a2a-ac1ae289c22c",
   "metadata": {},
   "outputs": [
    {
     "name": "stdout",
     "output_type": "stream",
     "text": [
      "color of the rose is pink and rose is hybrid type\n",
      "nice flower\n",
      "color of the lilly is white and lilly is normal type\n",
      "nice flower\n"
     ]
    }
   ],
   "source": [
    "for i in (obj1, obj2):\n",
    "    i.info()\n",
    "    i.status_()"
   ]
  },
  {
   "cell_type": "code",
   "execution_count": 1,
   "id": "4024a704-536d-41a1-8578-1fa7036bf2d1",
   "metadata": {},
   "outputs": [],
   "source": [
    "class vehicles:\n",
    "    def show_vehicles(self):\n",
    "        print(\"These are the types of vehicles\")\n",
    "class vehicle1(vehicles):\n",
    "    def show_vehicle1(self,color,vehicle_name,speed,mileage):\n",
    "        print(self.color,self.vehicle_name,self.speed,self.mileage)\n",
    "class vehicle2(vehicles):\n",
    "    def show_vehicle2(self,color1,vehicle_name1,speed1,mileage1):\n",
    "                print(self.color,self.vehicle_name,self.speed,self.mileage)\n",
    "class types(vehicle1,vehicle2):\n",
    "    def vehicles_types(self):\n",
    "        print(\"Color: {}, Vehicle name: {}, Speed: {}, Mileage: {}\".format(color,vehicle_name,speed, mileage))\n",
    "        print(\"Color: {}, Vehicle name: {}, Speed: {}, Mileage: {}\".format(color1,vehicle_name1,speed1, mileage1))"
   ]
  },
  {
   "cell_type": "code",
   "execution_count": 16,
   "id": "f19e61c5-9819-405e-8ad2-7c5c81f64f50",
   "metadata": {},
   "outputs": [],
   "source": [
    "class team:\n",
    "    def show_team(self):\n",
    "        print(\"This is our team\")\n",
    "class datascience(team):\n",
    "    def show_datascience(self,datasciencename):\n",
    "        print(self.datasciencename)\n",
    "class developer1(team):\n",
    "    def show_developername(self,developername):\n",
    "        print(self.developername)\n",
    "class developer2(team):\n",
    "    def show_developername2(self,developername2):\n",
    "        print(self.developername2)\n",
    "class python(datascience,developer1,developer2):\n",
    "    def team_python(self):\n",
    "        print(\"datascience:\",self.datasciencename)\n",
    "        print(\"developer:\",self.developername)\n",
    "        print(\"developer2:\",self.developername2)"
   ]
  },
  {
   "cell_type": "code",
   "execution_count": 8,
   "id": "75a900e1-9883-423e-bc0b-7e1e6e689546",
   "metadata": {},
   "outputs": [],
   "source": [
    "obj = python()"
   ]
  },
  {
   "cell_type": "code",
   "execution_count": 19,
   "id": "7af61fe3-3429-4621-b0ad-2d2188832b4e",
   "metadata": {},
   "outputs": [],
   "source": [
    "obj.datasciencename='gopinath'\n",
    "obj.developername = 'vagdevi'\n",
    "obj.developername2 ='rushi'"
   ]
  },
  {
   "cell_type": "code",
   "execution_count": 21,
   "id": "a0cf87f1-1adc-49a3-961f-7278b3e9621a",
   "metadata": {},
   "outputs": [
    {
     "name": "stdout",
     "output_type": "stream",
     "text": [
      "This is our team\n"
     ]
    }
   ],
   "source": [
    "obj.show_team()"
   ]
  },
  {
   "cell_type": "code",
   "execution_count": null,
   "id": "bbf60c4e-64e2-4b09-b757-860929b7832b",
   "metadata": {},
   "outputs": [],
   "source": []
  }
 ],
 "metadata": {
  "kernelspec": {
   "display_name": "Python 3",
   "language": "python",
   "name": "python3"
  },
  "language_info": {
   "codemirror_mode": {
    "name": "ipython",
    "version": 3
   },
   "file_extension": ".py",
   "mimetype": "text/x-python",
   "name": "python",
   "nbconvert_exporter": "python",
   "pygments_lexer": "ipython3",
   "version": "3.8.8"
  }
 },
 "nbformat": 4,
 "nbformat_minor": 5
}
