{
 "cells": [
  {
   "cell_type": "markdown",
   "id": "384822db-0527-4b6d-acb5-b5d990586640",
   "metadata": {},
   "source": [
    "## Functional programming"
   ]
  },
  {
   "cell_type": "code",
   "execution_count": 1,
   "id": "82fbff2a-b5c9-4840-b77a-ac1a194bcf9a",
   "metadata": {},
   "outputs": [],
   "source": [
    "def divi(man):\n",
    "    odd_number = []\n",
    "    even_number = []\n",
    "    for i in man:\n",
    "        if(i%2 == 0):\n",
    "            even_number.append(i)\n",
    "        else:\n",
    "            odd_number.append(i)\n",
    "    return(odd_number,even_number)"
   ]
  },
  {
   "cell_type": "code",
   "execution_count": 2,
   "id": "2d7acaef-4a3d-4612-9a3d-e5f6e3837ec2",
   "metadata": {},
   "outputs": [
    {
     "data": {
      "text/plain": [
       "([3, 5, 7, 1, 79, 69, 33, 35, 37, 43], [2, 4, 6, 78, 56, 34, 36])"
      ]
     },
     "execution_count": 2,
     "metadata": {},
     "output_type": "execute_result"
    }
   ],
   "source": [
    "divi([2, 3, 4, 5, 6, 7, 1, 78, 79, 69, 56, 34, 33, 35, 36, 37, 43])"
   ]
  },
  {
   "cell_type": "code",
   "execution_count": 3,
   "id": "cb08eb39-6d45-4725-969f-bb3dde80d8a9",
   "metadata": {},
   "outputs": [],
   "source": [
    "def flatt(list1):\n",
    "    for i in list1:\n",
    "        for j in i:\n",
    "            print(j, end =' ')"
   ]
  },
  {
   "cell_type": "code",
   "execution_count": 4,
   "id": "d38c5275-4445-4373-b70e-4fda45b955e6",
   "metadata": {},
   "outputs": [
    {
     "name": "stdout",
     "output_type": "stream",
     "text": [
      "1 2 3 4 5 6 7 8 9 "
     ]
    }
   ],
   "source": [
    "flatt([[1, 2], [3, 4, 5],[6, 7, 8,9]])"
   ]
  },
  {
   "cell_type": "code",
   "execution_count": 5,
   "id": "4dc90b79-9347-4246-a90b-7ed6df887b16",
   "metadata": {},
   "outputs": [],
   "source": [
    "def greet(name,msg='good morning'):\n",
    "    return(name + ' '+ msg)"
   ]
  },
  {
   "cell_type": "code",
   "execution_count": 6,
   "id": "1ea3e437-a0cf-40a8-9ad4-0b5f43b53666",
   "metadata": {},
   "outputs": [
    {
     "data": {
      "text/plain": [
       "'gopinath good morning'"
      ]
     },
     "execution_count": 6,
     "metadata": {},
     "output_type": "execute_result"
    }
   ],
   "source": [
    "greet('gopinath')"
   ]
  },
  {
   "cell_type": "code",
   "execution_count": 7,
   "id": "6617b16d-6b1a-45b4-97c2-c46e9d78bbbe",
   "metadata": {},
   "outputs": [
    {
     "data": {
      "text/plain": [
       "(3+5j)"
      ]
     },
     "execution_count": 7,
     "metadata": {},
     "output_type": "execute_result"
    }
   ],
   "source": [
    "complex(3,5)"
   ]
  },
  {
   "cell_type": "code",
   "execution_count": 8,
   "id": "e92d0c1d-15a5-42a3-8023-f6fa4e398213",
   "metadata": {},
   "outputs": [],
   "source": [
    "def add_(a,b):\n",
    "    return a+b"
   ]
  },
  {
   "cell_type": "code",
   "execution_count": 9,
   "id": "f05ac90e-bd70-49db-9932-c0958a130b85",
   "metadata": {},
   "outputs": [
    {
     "data": {
      "text/plain": [
       "7"
      ]
     },
     "execution_count": 9,
     "metadata": {},
     "output_type": "execute_result"
    }
   ],
   "source": [
    "add_(3, 4)"
   ]
  },
  {
   "cell_type": "markdown",
   "id": "e548ed6c-5085-4954-bd09-21533ebc5e07",
   "metadata": {},
   "source": [
    "## Task"
   ]
  },
  {
   "cell_type": "code",
   "execution_count": 10,
   "id": "1204db1d-59e8-46c2-adb7-94afdec1c598",
   "metadata": {},
   "outputs": [],
   "source": [
    "def compare_(list1, list2):\n",
    "    if(len(list1) != len(list2)):\n",
    "        return false\n",
    "    elif(list1 == list2):\n",
    "        return True\n",
    "    else:\n",
    "        return False"
   ]
  },
  {
   "cell_type": "code",
   "execution_count": 11,
   "id": "35fac302-5b16-4265-885d-cce5a9a550bb",
   "metadata": {},
   "outputs": [
    {
     "data": {
      "text/plain": [
       "True"
      ]
     },
     "execution_count": 11,
     "metadata": {},
     "output_type": "execute_result"
    }
   ],
   "source": [
    "compare_([1, 2, 3, 4, 5],[1, 2, 3, 4, 5])"
   ]
  },
  {
   "cell_type": "code",
   "execution_count": 12,
   "id": "0027b001-f674-4a76-91d4-ea2ee52c7470",
   "metadata": {},
   "outputs": [],
   "source": [
    "def add_(*gopinath):\n",
    "    sum = 0\n",
    "    for i in gopinath:\n",
    "        sum = sum + i\n",
    "    return sum"
   ]
  },
  {
   "cell_type": "code",
   "execution_count": 13,
   "id": "f5003a45-de07-4183-a36c-edaa71573aae",
   "metadata": {},
   "outputs": [
    {
     "data": {
      "text/plain": [
       "15"
      ]
     },
     "execution_count": 13,
     "metadata": {},
     "output_type": "execute_result"
    }
   ],
   "source": [
    "add_(1, 2, 3, 4, 5)"
   ]
  },
  {
   "cell_type": "code",
   "execution_count": 14,
   "id": "b9b7e7d0-2e5a-4697-bca6-4e1bf7f5814f",
   "metadata": {},
   "outputs": [],
   "source": [
    "def hello(name, msg):\n",
    "    \n",
    "    return ('Hello'+' '+name +' '+'madam garu'+ ' ' +msg)"
   ]
  },
  {
   "cell_type": "code",
   "execution_count": 15,
   "id": "9b37b6da-620f-48f8-9f25-9a462d3c1470",
   "metadata": {},
   "outputs": [
    {
     "data": {
      "text/plain": [
       "'Hello vagdevi madam garu good morning'"
      ]
     },
     "execution_count": 15,
     "metadata": {},
     "output_type": "execute_result"
    }
   ],
   "source": [
    "hello('vagdevi','good morning')"
   ]
  },
  {
   "cell_type": "code",
   "execution_count": 16,
   "id": "83cc55c5-85f6-4d8b-ba33-f127a512c93a",
   "metadata": {},
   "outputs": [],
   "source": [
    "def check_odd_or_even(list1):\n",
    "    odd_num = []\n",
    "    even_num = []\n",
    "    for i in list1:\n",
    "        if(i%2==0):\n",
    "            even_num.append(i)\n",
    "        else:\n",
    "            odd_num.append(i)\n",
    "    print( \"Even numbers from the list are\", even_num, \"and  Odd numbers in the list are\",odd_num)"
   ]
  },
  {
   "cell_type": "code",
   "execution_count": 17,
   "id": "795ae525-6261-4e61-9d65-8550a479953f",
   "metadata": {},
   "outputs": [
    {
     "name": "stdout",
     "output_type": "stream",
     "text": [
      "Even numbers from the list are [34, 36, 38] and  Odd numbers in the list are [23, 35, 37, 39]\n"
     ]
    }
   ],
   "source": [
    "check_odd_or_even([23, 34, 35, 36, 37, 38, 39])"
   ]
  },
  {
   "cell_type": "code",
   "execution_count": 18,
   "id": "6c5eb5c4-8636-4782-8d65-5fe2e9ce5278",
   "metadata": {},
   "outputs": [],
   "source": [
    "def number_positive_negative(number):\n",
    "    if(number < 0):\n",
    "        print(\"number is negative\")\n",
    "    elif(number > 0):\n",
    "        print(\"number is positive\")\n",
    "    else:\n",
    "        print(\"number is zero\")"
   ]
  },
  {
   "cell_type": "code",
   "execution_count": 19,
   "id": "a6fb7f6a-ad6c-4434-babc-c2053a7101f3",
   "metadata": {},
   "outputs": [
    {
     "name": "stdout",
     "output_type": "stream",
     "text": [
      "number is positive\n"
     ]
    }
   ],
   "source": [
    "number_positive_negative(23)"
   ]
  },
  {
   "cell_type": "code",
   "execution_count": 20,
   "id": "54f104b7-1f54-48e6-8371-fa03b71f9b90",
   "metadata": {},
   "outputs": [
    {
     "name": "stdout",
     "output_type": "stream",
     "text": [
      "number is negative\n"
     ]
    }
   ],
   "source": [
    "number_positive_negative(-2)"
   ]
  },
  {
   "cell_type": "code",
   "execution_count": 21,
   "id": "dcd24daf-2f6b-4fc9-9d73-38fc7a05b51c",
   "metadata": {},
   "outputs": [
    {
     "name": "stdout",
     "output_type": "stream",
     "text": [
      "number is zero\n"
     ]
    }
   ],
   "source": [
    "number_positive_negative(0)"
   ]
  },
  {
   "cell_type": "code",
   "execution_count": 34,
   "id": "be47d313-4944-4010-a213-0cc39c0a41c9",
   "metadata": {},
   "outputs": [],
   "source": [
    "def temerature_(temp):\n",
    "    if(temp <= 0):\n",
    "        print(\"climate is too cool\")\n",
    "    elif(temp>0 and temp <=10):\n",
    "        print(\"climate is in slightly cool\")\n",
    "    elif(temp>10 and temp <=20):\n",
    "        print(\"climate is in slightly cool\")\n",
    "    elif(temp>20 and temp <=30):\n",
    "        print(\"climate is slightly hot\")\n",
    "    else:\n",
    "        print(\"climate is very hot\")"
   ]
  },
  {
   "cell_type": "code",
   "execution_count": 35,
   "id": "3897410d-b361-4dc0-962b-7035fcbf1488",
   "metadata": {},
   "outputs": [
    {
     "name": "stdout",
     "output_type": "stream",
     "text": [
      "climate is in slightly cool\n"
     ]
    }
   ],
   "source": [
    "temerature_(20)"
   ]
  },
  {
   "cell_type": "code",
   "execution_count": 36,
   "id": "ac234209-13e2-43e0-8b3a-2affe51de5a4",
   "metadata": {},
   "outputs": [
    {
     "name": "stdout",
     "output_type": "stream",
     "text": [
      "climate is in slightly cool\n"
     ]
    }
   ],
   "source": [
    "temerature_(19)"
   ]
  },
  {
   "cell_type": "code",
   "execution_count": 37,
   "id": "08e2c036-fb8a-468d-a113-1819a1199cfe",
   "metadata": {},
   "outputs": [
    {
     "name": "stdout",
     "output_type": "stream",
     "text": [
      "climate is slightly hot\n"
     ]
    }
   ],
   "source": [
    "temerature_(22)"
   ]
  },
  {
   "cell_type": "code",
   "execution_count": 38,
   "id": "a339fb5b-88b1-44f9-96ba-a48261356b1e",
   "metadata": {},
   "outputs": [
    {
     "name": "stdout",
     "output_type": "stream",
     "text": [
      "climate is too cool\n"
     ]
    }
   ],
   "source": [
    "temerature_(-1)"
   ]
  },
  {
   "cell_type": "code",
   "execution_count": 39,
   "id": "5e3026d9-458b-4063-bfff-e41f7057bba3",
   "metadata": {},
   "outputs": [
    {
     "name": "stdout",
     "output_type": "stream",
     "text": [
      "climate is very hot\n"
     ]
    }
   ],
   "source": [
    "temerature_(31)"
   ]
  },
  {
   "cell_type": "code",
   "execution_count": 92,
   "id": "dd11c62e-a717-4948-97d9-7017f31e198d",
   "metadata": {},
   "outputs": [],
   "source": [
    "def get_string(str1,str3,str4):\n",
    "    x = str1[:2] + str1[8:10]\n",
    "   # y = str2[:2] + str2[2:4]\n",
    "    z = str3[:2] + str3[:2]\n",
    "    if(len(str4) == 1):\n",
    "        empty =  'string is empty' \n",
    "    else:\n",
    "        empty = 'enter only one char'\n",
    "    return (x,z,empty)"
   ]
  },
  {
   "cell_type": "code",
   "execution_count": 88,
   "id": "bc71af4a-7abe-4cb2-a976-cde7a83bbee0",
   "metadata": {},
   "outputs": [
    {
     "data": {
      "text/plain": [
       "('w3ce', 'w3w3', 'string is empty')"
      ]
     },
     "execution_count": 88,
     "metadata": {},
     "output_type": "execute_result"
    }
   ],
   "source": [
    "get_string('w3resource', 'w3', 'w' )"
   ]
  },
  {
   "cell_type": "code",
   "execution_count": 90,
   "id": "6417f444-0b5c-4c30-931f-72d1ed0c6fdd",
   "metadata": {},
   "outputs": [
    {
     "data": {
      "text/plain": [
       "('goMa', 'gogo', 'string is empty')"
      ]
     },
     "execution_count": 90,
     "metadata": {},
     "output_type": "execute_result"
    }
   ],
   "source": [
    "get_string('gopinathMaadam', 'go', 'g' )"
   ]
  },
  {
   "cell_type": "code",
   "execution_count": 93,
   "id": "f8cd4113-a3e4-4dd1-bed4-68d625059c08",
   "metadata": {},
   "outputs": [
    {
     "data": {
      "text/plain": [
       "('goMa', 'gogo', 'enter only one char')"
      ]
     },
     "execution_count": 93,
     "metadata": {},
     "output_type": "execute_result"
    }
   ],
   "source": [
    "get_string('gopinathMaadam', 'go', 'ga' )"
   ]
  },
  {
   "cell_type": "code",
   "execution_count": 123,
   "id": "c2a9ea89-4430-4d42-9ff5-3ca547b0d91b",
   "metadata": {},
   "outputs": [],
   "source": [
    "def prime_numbers(n):\n",
    "    print(\"prime numbers between 1 and {} are:\".format(n))\n",
    "    for i in range(1,n+1):\n",
    "        if (i == 1):\n",
    "            continue\n",
    "        for j in range(2, i):\n",
    "            if(i%j == 0):\n",
    "                break\n",
    "        else:\n",
    "            print(i, end = ' ')\n",
    " "
   ]
  },
  {
   "cell_type": "code",
   "execution_count": 124,
   "id": "48929db3-bd2d-47de-a95f-28f119c6dbac",
   "metadata": {},
   "outputs": [
    {
     "name": "stdout",
     "output_type": "stream",
     "text": [
      "prime numbers between 1 and 10 are:\n",
      "2 3 5 7 "
     ]
    }
   ],
   "source": [
    "prime_numbers(10)"
   ]
  },
  {
   "cell_type": "code",
   "execution_count": 125,
   "id": "444983e0-0839-4200-8380-6c8daeac3cc5",
   "metadata": {},
   "outputs": [
    {
     "name": "stdout",
     "output_type": "stream",
     "text": [
      "prime numbers between 1 and 56 are:\n",
      "2 3 5 7 11 13 17 19 23 29 31 37 41 43 47 53 "
     ]
    }
   ],
   "source": [
    "prime_numbers(56)"
   ]
  },
  {
   "cell_type": "code",
   "execution_count": 140,
   "id": "8eb6c560-8b2c-469c-bb99-c5feb9c4315a",
   "metadata": {},
   "outputs": [],
   "source": [
    "def table_(n):\n",
    "    for i in range(0,10):\n",
    "        n1 = n*(i+1)\n",
    "        print(f\"{n} x {i+1} = {n1}\")"
   ]
  },
  {
   "cell_type": "code",
   "execution_count": 143,
   "id": "ddf3ab13-b07f-4ed2-890e-87a462e6e3dd",
   "metadata": {},
   "outputs": [
    {
     "name": "stdout",
     "output_type": "stream",
     "text": [
      "6 x 1 = 6\n",
      "6 x 2 = 12\n",
      "6 x 3 = 18\n",
      "6 x 4 = 24\n",
      "6 x 5 = 30\n",
      "6 x 6 = 36\n",
      "6 x 7 = 42\n",
      "6 x 8 = 48\n",
      "6 x 9 = 54\n",
      "6 x 10 = 60\n"
     ]
    }
   ],
   "source": [
    "table_(6)"
   ]
  },
  {
   "cell_type": "code",
   "execution_count": 1,
   "id": "82559aaf-b5bc-4b1e-b09f-79b294efbda3",
   "metadata": {},
   "outputs": [],
   "source": [
    "def count_words(str1):\n",
    "    dict1 = {}\n",
    "    for i in str1:\n",
    "        keys = dict1.keys()\n",
    "        if i in keys:\n",
    "            dict1[i] += 1\n",
    "        else:\n",
    "            dict1[i] = 1\n",
    "    return dict1     "
   ]
  },
  {
   "cell_type": "code",
   "execution_count": 2,
   "id": "c87ebf49-b59c-42bb-8f29-4019df2b387e",
   "metadata": {},
   "outputs": [
    {
     "data": {
      "text/plain": [
       "{'g': 2, 'o': 3, 'l': 1, 'e': 1, '.': 1, 'c': 1, 'm': 1}"
      ]
     },
     "execution_count": 2,
     "metadata": {},
     "output_type": "execute_result"
    }
   ],
   "source": [
    "count_words('google.com')"
   ]
  },
  {
   "cell_type": "code",
   "execution_count": 3,
   "id": "0f246fa5-75ad-4923-8624-5881ae745526",
   "metadata": {},
   "outputs": [
    {
     "data": {
      "text/plain": [
       "{'v': 2, 'a': 1, 'g': 1, 'd': 1, 'e': 1, 'i': 1}"
      ]
     },
     "execution_count": 3,
     "metadata": {},
     "output_type": "execute_result"
    }
   ],
   "source": [
    "count_words('vagdevi')"
   ]
  },
  {
   "cell_type": "code",
   "execution_count": 4,
   "id": "e24bd434-c84b-4aa4-8c8b-b96e24496f38",
   "metadata": {},
   "outputs": [
    {
     "data": {
      "text/plain": [
       "{'g': 1, 'o': 1, 'p': 1, 'i': 1, 'n': 1, 'a': 1, 't': 1, 'h': 1}"
      ]
     },
     "execution_count": 4,
     "metadata": {},
     "output_type": "execute_result"
    }
   ],
   "source": [
    "count_words('gopinath')"
   ]
  },
  {
   "cell_type": "code",
   "execution_count": 21,
   "id": "dfca640c-2856-4dff-9698-af355259f7a8",
   "metadata": {},
   "outputs": [],
   "source": [
    "def add_tostring(str1,str2):\n",
    "    if (len(str1) < 3 and len(str2) < 3):\n",
    "        print(\"please enter more than three character\")\n",
    "    else:\n",
    "        str3 = str1 + 'ing'\n",
    "        str4 = str2 + 'ly'\n",
    "        return (str3+' '+ str4)"
   ]
  },
  {
   "cell_type": "code",
   "execution_count": 22,
   "id": "34908234-a715-431a-add4-ff71709c28db",
   "metadata": {},
   "outputs": [
    {
     "data": {
      "text/plain": [
       "'abcing stringly'"
      ]
     },
     "execution_count": 22,
     "metadata": {},
     "output_type": "execute_result"
    }
   ],
   "source": [
    "add_tostring('abc','string')"
   ]
  },
  {
   "cell_type": "code",
   "execution_count": 30,
   "id": "c21e2ef6-1936-4767-a7c8-ae7593247b37",
   "metadata": {},
   "outputs": [],
   "source": [
    "def exchange_char(str1,str2):\n",
    "    \n",
    "    str3 = str2[:2] + str1[2:]\n",
    "    str4 = str1[:2] + str2[2:]\n",
    "    \n",
    "    return(\"after exchange {} {}\".format(str3, str4))"
   ]
  },
  {
   "cell_type": "code",
   "execution_count": 31,
   "id": "c6d459b5-e863-42dc-92bf-877d18e64d7a",
   "metadata": {},
   "outputs": [
    {
     "data": {
      "text/plain": [
       "'after exchange xyc abz'"
      ]
     },
     "execution_count": 31,
     "metadata": {},
     "output_type": "execute_result"
    }
   ],
   "source": [
    "exchange_char('abc','xyz')"
   ]
  },
  {
   "cell_type": "markdown",
   "id": "75c0a375-caff-4e69-94b7-b25b88c9e087",
   "metadata": {},
   "source": [
    "## Recursion"
   ]
  },
  {
   "cell_type": "code",
   "execution_count": 203,
   "id": "ca66e32a-b466-4bc6-af7b-3139b5acb971",
   "metadata": {},
   "outputs": [],
   "source": [
    "def factorial_(num):\n",
    "    if(num == 0):\n",
    "        return 1\n",
    "    else:\n",
    "        return (num * factorial_(num-1))\n"
   ]
  },
  {
   "cell_type": "code",
   "execution_count": 207,
   "id": "a9c5e525-1657-40b1-bff8-74ecf29d92da",
   "metadata": {},
   "outputs": [
    {
     "data": {
      "text/plain": [
       "24"
      ]
     },
     "execution_count": 207,
     "metadata": {},
     "output_type": "execute_result"
    }
   ],
   "source": [
    "factorial_(4)"
   ]
  },
  {
   "cell_type": "code",
   "execution_count": 144,
   "id": "d4d217dc-8ecd-46f9-8ac8-7d10bc1f1683",
   "metadata": {},
   "outputs": [],
   "source": [
    "def fibonacci_(n):\n",
    "    if (n <= 1):\n",
    "        return n\n",
    "    else:\n",
    "        return (fibonacci_(n-1)+fibonacci_(n-2))"
   ]
  },
  {
   "cell_type": "code",
   "execution_count": 152,
   "id": "e511ccfa-5f15-4aa7-8662-2c80215af60c",
   "metadata": {},
   "outputs": [
    {
     "data": {
      "text/plain": [
       "2"
      ]
     },
     "execution_count": 152,
     "metadata": {},
     "output_type": "execute_result"
    }
   ],
   "source": [
    "fibonacci_(3)"
   ]
  },
  {
   "cell_type": "code",
   "execution_count": 153,
   "id": "ca47303a-c682-449f-95e2-880d3ca9eb10",
   "metadata": {},
   "outputs": [
    {
     "name": "stdin",
     "output_type": "stream",
     "text": [
      "enter the number for fib series 3\n"
     ]
    },
    {
     "name": "stdout",
     "output_type": "stream",
     "text": [
      "fibonacci series\n",
      "0 1 1 2 "
     ]
    }
   ],
   "source": [
    "n = int(input(\"enter the number for fib series\"))\n",
    "if(n<0):\n",
    "    print(\"enter a positive value\")\n",
    "else:\n",
    "    print(\"fibonacci series\")\n",
    "    for i in range(n+1):\n",
    "        print(fibonacci_(i), end = ' ')"
   ]
  },
  {
   "cell_type": "markdown",
   "id": "f317f747-dc78-48ef-b255-878c057fe942",
   "metadata": {},
   "source": [
    "## Sum of integers using list"
   ]
  },
  {
   "cell_type": "code",
   "execution_count": 169,
   "id": "e90dcd8a-15bd-43c0-8f3c-77dd95e3cf38",
   "metadata": {},
   "outputs": [],
   "source": [
    "def sum_(list1):\n",
    "    if len(list1)==1:\n",
    "        return list1[0]\n",
    "    else:\n",
    "        return (list1[0] + sum(list1[1:]))"
   ]
  },
  {
   "cell_type": "code",
   "execution_count": 170,
   "id": "e5a27ddb-64c7-4ec3-9f89-3cf13c398a79",
   "metadata": {},
   "outputs": [
    {
     "data": {
      "text/plain": [
       "55"
      ]
     },
     "execution_count": 170,
     "metadata": {},
     "output_type": "execute_result"
    }
   ],
   "source": [
    "sum_([1,2,3,4,5,6,7,8,9,10])"
   ]
  },
  {
   "cell_type": "code",
   "execution_count": 165,
   "id": "a938ea38-63f4-4d5b-ae53-d50d46b25c79",
   "metadata": {},
   "outputs": [
    {
     "data": {
      "text/plain": [
       "239"
      ]
     },
     "execution_count": 165,
     "metadata": {},
     "output_type": "execute_result"
    }
   ],
   "source": [
    "sum_([23, 34, 35, 12, 89, 17,29])"
   ]
  },
  {
   "cell_type": "code",
   "execution_count": 167,
   "id": "a0848762-1ebb-4e77-9b29-5507ffe8e94a",
   "metadata": {},
   "outputs": [
    {
     "data": {
      "text/plain": [
       "1"
      ]
     },
     "execution_count": 167,
     "metadata": {},
     "output_type": "execute_result"
    }
   ],
   "source": [
    "sum_([1])"
   ]
  },
  {
   "cell_type": "code",
   "execution_count": 168,
   "id": "adee50d1-b2a6-4def-ada3-a5c3f02a4e15",
   "metadata": {},
   "outputs": [
    {
     "data": {
      "text/plain": [
       "3"
      ]
     },
     "execution_count": 168,
     "metadata": {},
     "output_type": "execute_result"
    }
   ],
   "source": [
    "sum_([1, 2])"
   ]
  },
  {
   "cell_type": "code",
   "execution_count": 192,
   "id": "8a760f4f-8172-4ef1-bd34-b0858057b6a4",
   "metadata": {},
   "outputs": [],
   "source": [
    "def multiply_(list1):\n",
    "    if len(list1)==1:\n",
    "        return list1[0]\n",
    "    else:\n",
    "        return (list1[0] * multiply_(list1[1:]))"
   ]
  },
  {
   "cell_type": "code",
   "execution_count": 193,
   "id": "b81dc8b5-4e0d-44c8-8f47-314ca7f99793",
   "metadata": {},
   "outputs": [
    {
     "data": {
      "text/plain": [
       "120"
      ]
     },
     "execution_count": 193,
     "metadata": {},
     "output_type": "execute_result"
    }
   ],
   "source": [
    "multiply_([2,3,4,5])"
   ]
  },
  {
   "cell_type": "code",
   "execution_count": 196,
   "id": "9312c5ad-fc2d-41c5-b269-540e18446c13",
   "metadata": {},
   "outputs": [],
   "source": [
    "def last(n):\n",
    "    return n[-1]\n",
    "\n",
    "def sort_list_last(tuples):\n",
    "    return sorted(tuples, key=last)"
   ]
  },
  {
   "cell_type": "code",
   "execution_count": 197,
   "id": "c15dbb05-44ec-4c2f-a3f7-416a35f4ff25",
   "metadata": {},
   "outputs": [
    {
     "data": {
      "text/plain": [
       "[(2, 1), (1, 2), (2, 3), (4, 4), (2, 5)]"
      ]
     },
     "execution_count": 197,
     "metadata": {},
     "output_type": "execute_result"
    }
   ],
   "source": [
    "sort_list_last([(2, 5), (1, 2), (4, 4), (2, 3), (2, 1)])"
   ]
  },
  {
   "cell_type": "code",
   "execution_count": 177,
   "id": "77bb424f-6058-45b7-8e2b-081979417c72",
   "metadata": {},
   "outputs": [],
   "source": [
    "def string_rev(str1):\n",
    "    return str1[::-1]"
   ]
  },
  {
   "cell_type": "code",
   "execution_count": 178,
   "id": "25bf0fe8-19d0-4379-9949-04d5ec4266ec",
   "metadata": {},
   "outputs": [
    {
     "data": {
      "text/plain": [
       "'4321dcba'"
      ]
     },
     "execution_count": 178,
     "metadata": {},
     "output_type": "execute_result"
    }
   ],
   "source": [
    "string_rev('abcd1234')"
   ]
  },
  {
   "cell_type": "code",
   "execution_count": 10,
   "id": "0849fe48-7e38-4ac3-b3e8-47c07b203e9b",
   "metadata": {},
   "outputs": [],
   "source": [
    "def prime_or_not(n):\n",
    "    flag = False\n",
    "    if(n>=2):\n",
    "        for i in range(2,n):\n",
    "            if(n%i==0):\n",
    "                flag = True\n",
    "                break\n",
    "    if flag:\n",
    "        print(\"given number is not prime number\")\n",
    "    else:\n",
    "        print(\"given number is a prime number\")"
   ]
  },
  {
   "cell_type": "code",
   "execution_count": 12,
   "id": "0effbf2a-ead7-4283-9071-823e0570dbb7",
   "metadata": {},
   "outputs": [
    {
     "name": "stdout",
     "output_type": "stream",
     "text": [
      "given number is not prime number\n"
     ]
    }
   ],
   "source": [
    "prime_or_not(18)"
   ]
  },
  {
   "cell_type": "code",
   "execution_count": 24,
   "id": "ac9838d0-4d43-41e6-9f25-85fca391a97b",
   "metadata": {},
   "outputs": [],
   "source": [
    "def palindrome(str1):\n",
    "    if(str1[:]== str1 [::-1]):\n",
    "        return (\"given string is a palindrome\")\n",
    "    else:\n",
    "        return (\"given string is not a palindrome\")"
   ]
  },
  {
   "cell_type": "code",
   "execution_count": 25,
   "id": "636716ed-d1d3-48df-b84a-5af108ba4a0d",
   "metadata": {},
   "outputs": [
    {
     "data": {
      "text/plain": [
       "'given string is a palindrome'"
      ]
     },
     "execution_count": 25,
     "metadata": {},
     "output_type": "execute_result"
    }
   ],
   "source": [
    "palindrome('madam')"
   ]
  },
  {
   "cell_type": "code",
   "execution_count": 29,
   "id": "3b958ac9-c51a-4475-8f0b-3b135723f5a0",
   "metadata": {},
   "outputs": [],
   "source": [
    "def list_(list1):\n",
    "    list2 = set(list1)\n",
    "    list3 = list(list2)\n",
    "    return list3"
   ]
  },
  {
   "cell_type": "code",
   "execution_count": 30,
   "id": "a78680f1-8b13-4f95-9c43-664966603451",
   "metadata": {},
   "outputs": [
    {
     "data": {
      "text/plain": [
       "[1, 2, 3, 4, 5]"
      ]
     },
     "execution_count": 30,
     "metadata": {},
     "output_type": "execute_result"
    }
   ],
   "source": [
    "list_([1, 2, 3, 3, 3, 3, 3, 4, 5])"
   ]
  },
  {
   "cell_type": "code",
   "execution_count": 57,
   "id": "9f1422d0-4340-44fc-b364-82eca1f572ee",
   "metadata": {},
   "outputs": [],
   "source": [
    "def square_():\n",
    "    list2 = []\n",
    "    n = int(input(\"enter the n value\"))\n",
    "    for i in range(1, n+1):\n",
    "        list2.append(i*i)\n",
    "    print(list2, end = ' ')"
   ]
  },
  {
   "cell_type": "code",
   "execution_count": 58,
   "id": "c84c6bc3-2ac1-4b0c-b896-7cc96cd7b9a6",
   "metadata": {},
   "outputs": [
    {
     "name": "stdin",
     "output_type": "stream",
     "text": [
      "enter the n value 10\n"
     ]
    },
    {
     "name": "stdout",
     "output_type": "stream",
     "text": [
      "[1, 4, 9, 16, 25, 36, 49, 64, 81, 100] "
     ]
    }
   ],
   "source": [
    "square_()"
   ]
  },
  {
   "cell_type": "markdown",
   "id": "cc7c79d4-85dd-43d5-abfd-b89046ee6ec3",
   "metadata": {},
   "source": [
    "## Pascal triangle"
   ]
  },
  {
   "cell_type": "code",
   "execution_count": 105,
   "id": "70f08cb4-fb16-49a8-95bc-bbf30ba5a2a6",
   "metadata": {},
   "outputs": [],
   "source": [
    "def triangle(n):\n",
    "    pascal = []\n",
    "    for i in range(n):\n",
    "        newrow = [1]\n",
    "        for j in range(1, i+1):\n",
    "            newcol = newrow[j-1] * float(i+1-j)/j\n",
    "            newrow.append(int(newcol))\n",
    "        pascal.append(newrow)\n",
    "    print( pascal)\n",
    "   "
   ]
  },
  {
   "cell_type": "code",
   "execution_count": 106,
   "id": "95c02037-178f-4b6d-a429-81f6d3ba13e7",
   "metadata": {},
   "outputs": [
    {
     "name": "stdout",
     "output_type": "stream",
     "text": [
      "[[1], [1, 1], [1, 2, 1], [1, 3, 3, 1]]\n"
     ]
    }
   ],
   "source": [
    "triangle(4)"
   ]
  },
  {
   "cell_type": "code",
   "execution_count": 108,
   "id": "0ac5bab2-dbe4-4172-af5e-c9cd2e000335",
   "metadata": {},
   "outputs": [
    {
     "name": "stdout",
     "output_type": "stream",
     "text": [
      "[[1], [1, 1], [1, 2, 1], [1, 3, 3, 1], [1, 4, 6, 4, 1]]\n"
     ]
    }
   ],
   "source": [
    "triangle(5)"
   ]
  },
  {
   "cell_type": "code",
   "execution_count": 109,
   "id": "20572bb2-862f-4c23-9197-09ec69bcc1c8",
   "metadata": {},
   "outputs": [
    {
     "name": "stdout",
     "output_type": "stream",
     "text": [
      "[[1], [1, 1], [1, 2, 1], [1, 3, 3, 1], [1, 4, 6, 4, 1], [1, 5, 10, 10, 5, 1]]\n"
     ]
    }
   ],
   "source": [
    "triangle(6)"
   ]
  },
  {
   "cell_type": "code",
   "execution_count": null,
   "id": "9d971a75-0f1e-4554-bc25-0619ac6f167c",
   "metadata": {},
   "outputs": [],
   "source": []
  }
 ],
 "metadata": {
  "kernelspec": {
   "display_name": "Python 3",
   "language": "python",
   "name": "python3"
  },
  "language_info": {
   "codemirror_mode": {
    "name": "ipython",
    "version": 3
   },
   "file_extension": ".py",
   "mimetype": "text/x-python",
   "name": "python",
   "nbconvert_exporter": "python",
   "pygments_lexer": "ipython3",
   "version": "3.8.8"
  }
 },
 "nbformat": 4,
 "nbformat_minor": 5
}
