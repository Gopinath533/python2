{
 "cells": [
  {
   "cell_type": "markdown",
   "id": "e1d98262-a3f9-422d-8a4c-d21874754a30",
   "metadata": {},
   "source": [
    "## SETS"
   ]
  },
  {
   "cell_type": "code",
   "execution_count": 1,
   "id": "038820dc-002f-4e10-b6e8-76562360e28f",
   "metadata": {},
   "outputs": [],
   "source": [
    "set1 = {1, 2, 3, 4, 5}"
   ]
  },
  {
   "cell_type": "code",
   "execution_count": 2,
   "id": "138e71cb-5202-4d67-ab96-1193134c714b",
   "metadata": {},
   "outputs": [
    {
     "data": {
      "text/plain": [
       "set"
      ]
     },
     "execution_count": 2,
     "metadata": {},
     "output_type": "execute_result"
    }
   ],
   "source": [
    "type(set1)"
   ]
  },
  {
   "cell_type": "code",
   "execution_count": 5,
   "id": "b39bd241-f5c9-467d-ab5f-c7a83e15d67b",
   "metadata": {},
   "outputs": [
    {
     "name": "stdout",
     "output_type": "stream",
     "text": [
      "1\n",
      "2\n",
      "3\n",
      "4\n",
      "5\n"
     ]
    }
   ],
   "source": [
    "for x in set1:\n",
    "    print(x)"
   ]
  },
  {
   "cell_type": "code",
   "execution_count": 6,
   "id": "f38a04c9-a9b3-4c1c-aff4-befdabfdc525",
   "metadata": {},
   "outputs": [],
   "source": [
    "set2 = {5, 6, 7, 8, 9}"
   ]
  },
  {
   "cell_type": "code",
   "execution_count": 7,
   "id": "b44b6c5f-4ee4-4a3d-8aca-f7ed681b3848",
   "metadata": {},
   "outputs": [
    {
     "ename": "TypeError",
     "evalue": "unhashable type: 'set'",
     "output_type": "error",
     "traceback": [
      "\u001b[1;31m---------------------------------------------------------------------------\u001b[0m",
      "\u001b[1;31mTypeError\u001b[0m                                 Traceback (most recent call last)",
      "\u001b[1;32m<ipython-input-7-cf6aa2fc3871>\u001b[0m in \u001b[0;36m<module>\u001b[1;34m\u001b[0m\n\u001b[1;32m----> 1\u001b[1;33m \u001b[0mset1\u001b[0m\u001b[1;33m.\u001b[0m\u001b[0madd\u001b[0m\u001b[1;33m(\u001b[0m\u001b[0mset2\u001b[0m\u001b[1;33m)\u001b[0m\u001b[1;33m\u001b[0m\u001b[1;33m\u001b[0m\u001b[0m\n\u001b[0m",
      "\u001b[1;31mTypeError\u001b[0m: unhashable type: 'set'"
     ]
    }
   ],
   "source": [
    "set1.add(set2)"
   ]
  },
  {
   "cell_type": "code",
   "execution_count": 8,
   "id": "e6be20d4-1a16-4eee-a95a-02cc4c442d83",
   "metadata": {},
   "outputs": [],
   "source": [
    "a = {}"
   ]
  },
  {
   "cell_type": "code",
   "execution_count": 9,
   "id": "c6353ecb-24e3-418c-a584-32159263c04d",
   "metadata": {},
   "outputs": [
    {
     "data": {
      "text/plain": [
       "dict"
      ]
     },
     "execution_count": 9,
     "metadata": {},
     "output_type": "execute_result"
    }
   ],
   "source": [
    "type(a)"
   ]
  },
  {
   "cell_type": "code",
   "execution_count": 10,
   "id": "fe0efe43-fba0-4c10-a9e9-d47edfca9478",
   "metadata": {},
   "outputs": [],
   "source": [
    "a = {1,2,3,4}"
   ]
  },
  {
   "cell_type": "code",
   "execution_count": 11,
   "id": "fb2304d0-b89a-4b5b-926f-6344179f9190",
   "metadata": {},
   "outputs": [
    {
     "data": {
      "text/plain": [
       "set"
      ]
     },
     "execution_count": 11,
     "metadata": {},
     "output_type": "execute_result"
    }
   ],
   "source": [
    "type(a)"
   ]
  },
  {
   "cell_type": "markdown",
   "id": "67db1a4e-fbcd-487b-bab0-9b581c75733e",
   "metadata": {},
   "source": [
    "## ADD the elements into sets"
   ]
  },
  {
   "cell_type": "code",
   "execution_count": 14,
   "id": "cd032470-cb31-410b-a25d-22edb090dd89",
   "metadata": {},
   "outputs": [],
   "source": [
    "a.add(5)"
   ]
  },
  {
   "cell_type": "code",
   "execution_count": 15,
   "id": "b3b05d11-2069-4d00-bf36-56cea569fc9a",
   "metadata": {},
   "outputs": [
    {
     "name": "stdout",
     "output_type": "stream",
     "text": [
      "{1, 2, 3, 4, 5}\n"
     ]
    }
   ],
   "source": [
    "print(a)"
   ]
  },
  {
   "cell_type": "code",
   "execution_count": 16,
   "id": "59e5b3f3-a8c1-474b-be11-2845ebcbb8ee",
   "metadata": {},
   "outputs": [
    {
     "name": "stdout",
     "output_type": "stream",
     "text": [
      "{1, 2, 3, 4, 5, 6, 7, 8}\n"
     ]
    }
   ],
   "source": [
    "a.update([6, 7, 8])\n",
    "print(a)"
   ]
  },
  {
   "cell_type": "markdown",
   "id": "0bff6808-6550-4353-8076-539b7fd8720a",
   "metadata": {},
   "source": [
    "## Delete the elements in sets"
   ]
  },
  {
   "cell_type": "code",
   "execution_count": 17,
   "id": "69022831-cb38-44d8-927d-8fd031cb76bb",
   "metadata": {},
   "outputs": [
    {
     "name": "stdout",
     "output_type": "stream",
     "text": [
      "{2, 3, 4, 5, 6, 7, 8}\n"
     ]
    }
   ],
   "source": [
    "a.pop()\n",
    "print(a)"
   ]
  },
  {
   "cell_type": "code",
   "execution_count": 18,
   "id": "8ff64f12-dd92-4f02-a1fb-3939ac260ec9",
   "metadata": {},
   "outputs": [
    {
     "name": "stdout",
     "output_type": "stream",
     "text": [
      "{2, 3, 4, 6, 7, 8}\n"
     ]
    }
   ],
   "source": [
    "a.remove(5)\n",
    "print(a)"
   ]
  },
  {
   "cell_type": "code",
   "execution_count": 19,
   "id": "cb3e0c70-ff82-47d1-b6f6-b594d78497c8",
   "metadata": {},
   "outputs": [
    {
     "name": "stdout",
     "output_type": "stream",
     "text": [
      "{2, 3, 4, 6, 7}\n"
     ]
    }
   ],
   "source": [
    "a.discard(8)\n",
    "print(a)"
   ]
  },
  {
   "cell_type": "code",
   "execution_count": 20,
   "id": "523fe457-1955-4f99-9375-4f02ccd561e1",
   "metadata": {},
   "outputs": [
    {
     "data": {
      "text/plain": [
       "{2, 3, 4, 6, 7}"
      ]
     },
     "execution_count": 20,
     "metadata": {},
     "output_type": "execute_result"
    }
   ],
   "source": [
    "a"
   ]
  },
  {
   "cell_type": "markdown",
   "id": "b1f378aa-981c-41e1-9993-45f542a56814",
   "metadata": {},
   "source": [
    "## Join sets"
   ]
  },
  {
   "cell_type": "code",
   "execution_count": 21,
   "id": "854396d3-c3c6-4cbc-9c12-519aed2ca6b7",
   "metadata": {},
   "outputs": [
    {
     "name": "stdout",
     "output_type": "stream",
     "text": [
      "{2, 3, 4, 6, 7, 1}\n"
     ]
    }
   ],
   "source": [
    "a.add(1)\n",
    "print(a)"
   ]
  },
  {
   "cell_type": "code",
   "execution_count": 22,
   "id": "0658326e-f062-4491-b621-86cbda0dfeec",
   "metadata": {},
   "outputs": [],
   "source": [
    "b = list(a)"
   ]
  },
  {
   "cell_type": "code",
   "execution_count": 23,
   "id": "5a05150b-43a8-48dc-93eb-36d2ae87ca57",
   "metadata": {},
   "outputs": [
    {
     "name": "stdout",
     "output_type": "stream",
     "text": [
      "[2, 3, 4, 6, 7, 1]\n"
     ]
    }
   ],
   "source": [
    "print(b)"
   ]
  },
  {
   "cell_type": "code",
   "execution_count": 24,
   "id": "683eb0d6-a66e-4e81-9332-a0a5e73a9c23",
   "metadata": {},
   "outputs": [
    {
     "name": "stdout",
     "output_type": "stream",
     "text": [
      "{1, 2, 3, 4, 6, 7}\n"
     ]
    }
   ],
   "source": [
    "a = set(b)\n",
    "print(a)"
   ]
  },
  {
   "cell_type": "code",
   "execution_count": 26,
   "id": "c1c7b0d8-601b-41fd-8b0e-626f11e2c804",
   "metadata": {},
   "outputs": [
    {
     "data": {
      "text/plain": [
       "{1, 2, 3, 4, 5, 6, 7, 8, 9, 10, 11}"
      ]
     },
     "execution_count": 26,
     "metadata": {},
     "output_type": "execute_result"
    }
   ],
   "source": [
    "c = {4, 5, 6, 8, 9, 10, 11}\n",
    "a.union(c)"
   ]
  },
  {
   "cell_type": "code",
   "execution_count": 27,
   "id": "6d990d4e-26c8-4855-af88-d9fe1349e9c1",
   "metadata": {},
   "outputs": [
    {
     "data": {
      "text/plain": [
       "{4, 6}"
      ]
     },
     "execution_count": 27,
     "metadata": {},
     "output_type": "execute_result"
    }
   ],
   "source": [
    "a.intersection(c)"
   ]
  },
  {
   "cell_type": "code",
   "execution_count": 29,
   "id": "200d231f-fbda-457a-9caa-cc7544713e5f",
   "metadata": {},
   "outputs": [
    {
     "data": {
      "text/plain": [
       "{1, 2, 3, 5, 7, 8, 9, 10, 11}"
      ]
     },
     "execution_count": 29,
     "metadata": {},
     "output_type": "execute_result"
    }
   ],
   "source": [
    "a.symmetric_difference(c)"
   ]
  },
  {
   "cell_type": "markdown",
   "id": "d97b2d41-b12c-4604-ad91-1bfba9d8898e",
   "metadata": {},
   "source": [
    "## Frozenset"
   ]
  },
  {
   "cell_type": "code",
   "execution_count": 30,
   "id": "861c0d67-5d2f-4135-aea3-59af57e79b88",
   "metadata": {},
   "outputs": [],
   "source": [
    "fro_set = {\"Gopinath\", \"apple\", \"cold\", \"temperature\"}\n",
    "x = frozenset(fro_set)"
   ]
  },
  {
   "cell_type": "code",
   "execution_count": 31,
   "id": "8e90aa24-00d6-40de-bc59-bc3dac97b176",
   "metadata": {},
   "outputs": [
    {
     "name": "stdout",
     "output_type": "stream",
     "text": [
      "frozenset({'Gopinath', 'cold', 'apple', 'temperature'})\n"
     ]
    }
   ],
   "source": [
    "print(x)"
   ]
  },
  {
   "cell_type": "code",
   "execution_count": 32,
   "id": "4d679bf6-3393-4247-8e93-cf71ba47b168",
   "metadata": {},
   "outputs": [
    {
     "data": {
      "text/plain": [
       "frozenset({'Gopinath', 'apple', 'cold', 'temperature'})"
      ]
     },
     "execution_count": 32,
     "metadata": {},
     "output_type": "execute_result"
    }
   ],
   "source": [
    "x"
   ]
  },
  {
   "cell_type": "code",
   "execution_count": 33,
   "id": "7d7bf96a-be3d-47d3-8219-1e994534c5d3",
   "metadata": {},
   "outputs": [],
   "source": [
    "y = set((x))"
   ]
  },
  {
   "cell_type": "code",
   "execution_count": 34,
   "id": "6e660879-163a-4594-a28f-056c5de584bb",
   "metadata": {},
   "outputs": [
    {
     "data": {
      "text/plain": [
       "{'Gopinath', 'apple', 'cold', 'temperature'}"
      ]
     },
     "execution_count": 34,
     "metadata": {},
     "output_type": "execute_result"
    }
   ],
   "source": [
    "y"
   ]
  },
  {
   "cell_type": "code",
   "execution_count": 35,
   "id": "14013acf-06b3-45d8-b207-0c239a33367d",
   "metadata": {},
   "outputs": [],
   "source": [
    "y.add(2)"
   ]
  },
  {
   "cell_type": "code",
   "execution_count": 36,
   "id": "784d21ed-151a-43bd-a224-b3740543523e",
   "metadata": {},
   "outputs": [
    {
     "data": {
      "text/plain": [
       "{2, 'Gopinath', 'apple', 'cold', 'temperature'}"
      ]
     },
     "execution_count": 36,
     "metadata": {},
     "output_type": "execute_result"
    }
   ],
   "source": [
    "y"
   ]
  },
  {
   "cell_type": "code",
   "execution_count": 37,
   "id": "d5a8577e-7762-47ef-80ed-9767a6d59286",
   "metadata": {},
   "outputs": [
    {
     "name": "stdout",
     "output_type": "stream",
     "text": [
      "{'Gopinath', 2, 'apple', 4, 'turn', 'cold', 'down', 'temperature'}\n"
     ]
    }
   ],
   "source": [
    "y.update([\"turn\", \"down\", 4])\n",
    "print(y)"
   ]
  },
  {
   "cell_type": "code",
   "execution_count": 38,
   "id": "1b960711-23af-4b16-bd5d-c9a2a220acda",
   "metadata": {},
   "outputs": [],
   "source": [
    "list1 = [\"banana\", \"grapes\", \"cold\"]\n",
    "y.update(list1)"
   ]
  },
  {
   "cell_type": "code",
   "execution_count": 40,
   "id": "75ba1272-8f3c-472b-aa54-a61c2db0ffc3",
   "metadata": {},
   "outputs": [
    {
     "name": "stdout",
     "output_type": "stream",
     "text": [
      "{'Gopinath', 2, 'apple', 4, 'grapes', 'turn', 'cold', 'down', 'banana', 'temperature'}\n"
     ]
    }
   ],
   "source": [
    "print(y)"
   ]
  },
  {
   "cell_type": "markdown",
   "id": "aee487a4-6dcd-4d44-851f-b83a35673a71",
   "metadata": {},
   "source": [
    "## Exercise on sets"
   ]
  },
  {
   "cell_type": "code",
   "execution_count": 1,
   "id": "7af050fa-af3a-4209-917a-866430f4c812",
   "metadata": {},
   "outputs": [
    {
     "name": "stdout",
     "output_type": "stream",
     "text": [
      "{1, 2, 3, 4, 5, 6, 7}\n"
     ]
    },
    {
     "data": {
      "text/plain": [
       "set"
      ]
     },
     "execution_count": 1,
     "metadata": {},
     "output_type": "execute_result"
    }
   ],
   "source": [
    "set1 = {1, 2, 3, 2, 4, 5, 6, 7}\n",
    "print(set1)\n",
    "type(set1)"
   ]
  },
  {
   "cell_type": "code",
   "execution_count": 5,
   "id": "20858197-dada-4c0e-a4ca-b2dae5de866a",
   "metadata": {},
   "outputs": [
    {
     "data": {
      "text/plain": [
       "{1, 2, 3, 4, 5, 6, 7, 8, 9}"
      ]
     },
     "execution_count": 5,
     "metadata": {},
     "output_type": "execute_result"
    }
   ],
   "source": [
    "set2 = {4, 5, 6, 7, 8, 9}\n",
    "set1.update(set2)\n",
    "set1"
   ]
  },
  {
   "cell_type": "code",
   "execution_count": 6,
   "id": "3a5f3b47-1b46-45ac-9eca-26e9a1fd7551",
   "metadata": {},
   "outputs": [
    {
     "name": "stdout",
     "output_type": "stream",
     "text": [
      "1 2 3 4 5 6 7 8 9 "
     ]
    }
   ],
   "source": [
    "for i in set1:\n",
    "    print(i, end = ' ')"
   ]
  },
  {
   "cell_type": "code",
   "execution_count": 7,
   "id": "e21ca640-a9f6-4a86-9f28-fa1539707970",
   "metadata": {},
   "outputs": [
    {
     "data": {
      "text/plain": [
       "{2, 3, 4, 5, 6, 7, 8, 9}"
      ]
     },
     "execution_count": 7,
     "metadata": {},
     "output_type": "execute_result"
    }
   ],
   "source": [
    "set1.pop()\n",
    "set1"
   ]
  },
  {
   "cell_type": "code",
   "execution_count": 8,
   "id": "c7fc02ae-3ee5-46bd-ae11-29c75d544e7c",
   "metadata": {},
   "outputs": [
    {
     "data": {
      "text/plain": [
       "{2, 3, 4, 5, 6, 7, 9}"
      ]
     },
     "execution_count": 8,
     "metadata": {},
     "output_type": "execute_result"
    }
   ],
   "source": [
    "set1.remove(8)\n",
    "set1"
   ]
  },
  {
   "cell_type": "code",
   "execution_count": 10,
   "id": "3c73076c-0a19-4a4f-b20d-f00669186876",
   "metadata": {},
   "outputs": [
    {
     "data": {
      "text/plain": [
       "{4, 5, 6, 7, 9}"
      ]
     },
     "execution_count": 10,
     "metadata": {},
     "output_type": "execute_result"
    }
   ],
   "source": [
    "set3 = set1.intersection(set2)\n",
    "set3"
   ]
  },
  {
   "cell_type": "code",
   "execution_count": 11,
   "id": "c54bb563-d569-493c-8b9f-41c3ab9f9ad5",
   "metadata": {},
   "outputs": [
    {
     "data": {
      "text/plain": [
       "{2, 3, 4, 5, 6, 7, 8, 9}"
      ]
     },
     "execution_count": 11,
     "metadata": {},
     "output_type": "execute_result"
    }
   ],
   "source": [
    "set3 = set1.union(set2)\n",
    "set3"
   ]
  },
  {
   "cell_type": "code",
   "execution_count": 15,
   "id": "0ec3bc60-f852-4df3-b4cd-f627fef5bf43",
   "metadata": {},
   "outputs": [
    {
     "data": {
      "text/plain": [
       "{2, 3}"
      ]
     },
     "execution_count": 15,
     "metadata": {},
     "output_type": "execute_result"
    }
   ],
   "source": [
    "set3 = set1.difference(set2)\n",
    "set3"
   ]
  },
  {
   "cell_type": "code",
   "execution_count": 18,
   "id": "618b0627-437f-4d58-ae32-8f5e299acfb1",
   "metadata": {},
   "outputs": [
    {
     "data": {
      "text/plain": [
       "{2, 3, 8}"
      ]
     },
     "execution_count": 18,
     "metadata": {},
     "output_type": "execute_result"
    }
   ],
   "source": [
    "set3 = set1.symmetric_difference(set2)\n",
    "set3"
   ]
  },
  {
   "cell_type": "code",
   "execution_count": 19,
   "id": "f9c3dff5-99a9-4144-82a5-125922dd749c",
   "metadata": {},
   "outputs": [
    {
     "data": {
      "text/plain": [
       "False"
      ]
     },
     "execution_count": 19,
     "metadata": {},
     "output_type": "execute_result"
    }
   ],
   "source": [
    "set3 = set1.issubset(set2)\n",
    "set3"
   ]
  },
  {
   "cell_type": "code",
   "execution_count": 18,
   "id": "90953a9d-0ca9-4932-84c6-df006b30d497",
   "metadata": {},
   "outputs": [
    {
     "name": "stdout",
     "output_type": "stream",
     "text": [
      "[5, 15, 60, 240]\n"
     ]
    }
   ],
   "source": []
  },
  {
   "cell_type": "code",
   "execution_count": null,
   "id": "ff1c9ae7-9629-4cc3-b557-9f8a236c410c",
   "metadata": {},
   "outputs": [],
   "source": []
  }
 ],
 "metadata": {
  "kernelspec": {
   "display_name": "Python 3",
   "language": "python",
   "name": "python3"
  },
  "language_info": {
   "codemirror_mode": {
    "name": "ipython",
    "version": 3
   },
   "file_extension": ".py",
   "mimetype": "text/x-python",
   "name": "python",
   "nbconvert_exporter": "python",
   "pygments_lexer": "ipython3",
   "version": "3.8.8"
  }
 },
 "nbformat": 4,
 "nbformat_minor": 5
}
