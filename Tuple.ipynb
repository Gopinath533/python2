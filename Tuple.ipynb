{
 "cells": [
  {
   "cell_type": "markdown",
   "id": "db37740e-431b-4e97-bace-bc9cce1b2410",
   "metadata": {},
   "source": [
    "## TUPLE"
   ]
  },
  {
   "cell_type": "code",
   "execution_count": 7,
   "id": "3a36704e-ac31-45dc-9bc0-a1816a672766",
   "metadata": {},
   "outputs": [
    {
     "name": "stdout",
     "output_type": "stream",
     "text": [
      "[1, 2, 3, 4, 5, 1, 2, 3, 4, 5]\n"
     ]
    }
   ],
   "source": [
    "numbers = (1, 2, 3, 4, 5)\n",
    "x = numbers * 2\n",
    "\n",
    "print(x)"
   ]
  },
  {
   "cell_type": "code",
   "execution_count": 8,
   "id": "6739cf99-b435-4acf-9df5-720b0b3e26f6",
   "metadata": {},
   "outputs": [
    {
     "name": "stdout",
     "output_type": "stream",
     "text": [
      "(1, 2, 3, 4)\n"
     ]
    }
   ],
   "source": [
    "numbers = (1,2,3,4)\n",
    "print(numbers)\n"
   ]
  },
  {
   "cell_type": "code",
   "execution_count": 9,
   "id": "1d56f755-3476-4d5f-9389-94524d31ba3f",
   "metadata": {},
   "outputs": [
    {
     "name": "stdout",
     "output_type": "stream",
     "text": [
      "2\n"
     ]
    }
   ],
   "source": [
    "numbers = (1,2,3,4)\n",
    "print(numbers[1])"
   ]
  },
  {
   "cell_type": "code",
   "execution_count": 2,
   "id": "2fa42a7f-e694-465a-8155-549031c96521",
   "metadata": {},
   "outputs": [
    {
     "data": {
      "text/plain": [
       "('banana', 'grapes')"
      ]
     },
     "execution_count": 2,
     "metadata": {},
     "output_type": "execute_result"
    }
   ],
   "source": [
    "fruits = (\"apple\", \"banana\", \"orange\", \"grapes\", \"strawberry\")\n",
    "fruits[1:4:2]"
   ]
  },
  {
   "cell_type": "code",
   "execution_count": 11,
   "id": "4d6226f5-7a86-46f8-8293-9b70ddaad422",
   "metadata": {},
   "outputs": [
    {
     "data": {
      "text/plain": [
       "(89, 3764)"
      ]
     },
     "execution_count": 11,
     "metadata": {},
     "output_type": "execute_result"
    }
   ],
   "source": [
    "numbers = (1, 2, 3, 4, 89, 34, 498, 3764, 87478, 386764, 3)\n",
    "numbers[4:9:3]\n",
    "numbers[]"
   ]
  },
  {
   "cell_type": "code",
   "execution_count": 15,
   "id": "272bdf02-d440-4314-bd7f-3123bd2821ef",
   "metadata": {},
   "outputs": [
    {
     "data": {
      "text/plain": [
       "(12, 67)"
      ]
     },
     "execution_count": 15,
     "metadata": {},
     "output_type": "execute_result"
    }
   ],
   "source": [
    "num2 = (7, 8, 9, 12, 14, 23, 56, 67, 65, 34)\n",
    "num2[3:9:4]"
   ]
  },
  {
   "cell_type": "code",
   "execution_count": 1,
   "id": "198c31ba-1052-43bf-851f-c8275b991183",
   "metadata": {},
   "outputs": [
    {
     "data": {
      "text/plain": [
       "'banana'"
      ]
     },
     "execution_count": 1,
     "metadata": {},
     "output_type": "execute_result"
    }
   ],
   "source": [
    "fruits = (\"apples\", \"banana\", \"grapes\", \"oranges\")\n",
    "fruits[1]"
   ]
  },
  {
   "cell_type": "code",
   "execution_count": 7,
   "id": "201f9b7a-7eec-4d36-9575-75af0ef6affb",
   "metadata": {},
   "outputs": [],
   "source": [
    "fruits = (\"apples\")"
   ]
  },
  {
   "cell_type": "code",
   "execution_count": 8,
   "id": "69c6071f-78c2-4ae8-a2e0-44eac3c94969",
   "metadata": {},
   "outputs": [
    {
     "data": {
      "text/plain": [
       "'apples'"
      ]
     },
     "execution_count": 8,
     "metadata": {},
     "output_type": "execute_result"
    }
   ],
   "source": [
    "fruits"
   ]
  },
  {
   "cell_type": "markdown",
   "id": "833f6984-5112-487b-bfc8-48c3da1fa164",
   "metadata": {},
   "source": [
    "## ADD items to tuples"
   ]
  },
  {
   "cell_type": "code",
   "execution_count": 9,
   "id": "ebb95a99-2745-46fe-9f5f-e29109ab10e0",
   "metadata": {},
   "outputs": [
    {
     "data": {
      "text/plain": [
       "('apples', 'banana', 'grapes', 'oranges', 'grapes')"
      ]
     },
     "execution_count": 9,
     "metadata": {},
     "output_type": "execute_result"
    }
   ],
   "source": [
    "fruits = (\"apples\", \"banana\", \"grapes\", \"oranges\")\n",
    "x = list(fruits)\n",
    "x.append(\"grapes\")\n",
    "fruits = tuple(x)\n",
    "fruits"
   ]
  },
  {
   "cell_type": "code",
   "execution_count": 11,
   "id": "b312bf3d-ba6f-4f6a-bb03-896c868458a3",
   "metadata": {},
   "outputs": [],
   "source": [
    "\n",
    "x = list(fruits)\n",
    "x[3] = \"cherries\"\n",
    "fruits = tuple(x)"
   ]
  },
  {
   "cell_type": "code",
   "execution_count": 12,
   "id": "b364e3ad-988b-44bd-af43-903d1d06a89d",
   "metadata": {},
   "outputs": [
    {
     "data": {
      "text/plain": [
       "('apples', 'banana', 'grapes', 'cherries', 'grapes')"
      ]
     },
     "execution_count": 12,
     "metadata": {},
     "output_type": "execute_result"
    }
   ],
   "source": [
    "fruits"
   ]
  },
  {
   "cell_type": "code",
   "execution_count": 13,
   "id": "7da8a29c-8901-45cc-b66a-2d6c93cd7a84",
   "metadata": {},
   "outputs": [],
   "source": [
    "y = (\"strawberry\",)\n",
    "fruits = fruits + y"
   ]
  },
  {
   "cell_type": "code",
   "execution_count": 15,
   "id": "23df4d0a-b188-4e36-a484-442fb22eaaaf",
   "metadata": {},
   "outputs": [
    {
     "name": "stdout",
     "output_type": "stream",
     "text": [
      "('apples', 'banana', 'grapes', 'cherries', 'grapes', 'strawberry')\n"
     ]
    }
   ],
   "source": [
    "print (fruits)"
   ]
  },
  {
   "cell_type": "markdown",
   "id": "ce0a8ee8-ca48-42f1-b73f-238ceba5385d",
   "metadata": {},
   "source": [
    "## Unpacking tuple"
   ]
  },
  {
   "cell_type": "code",
   "execution_count": 19,
   "id": "5a99e5e6-ff0a-4666-8e99-d840d15c4807",
   "metadata": {},
   "outputs": [
    {
     "name": "stdout",
     "output_type": "stream",
     "text": [
      "cherries\n"
     ]
    }
   ],
   "source": [
    "(a, b, c, d, e, f) = fruits\n",
    "print(d)"
   ]
  },
  {
   "cell_type": "code",
   "execution_count": 20,
   "id": "a892e0ca-7be6-4e07-9045-fc9960e1f9a1",
   "metadata": {},
   "outputs": [],
   "source": [
    "(a, b, *c) = fruits"
   ]
  },
  {
   "cell_type": "code",
   "execution_count": 21,
   "id": "5100eae6-ecba-42a5-b600-b277e7e3e765",
   "metadata": {},
   "outputs": [
    {
     "name": "stdout",
     "output_type": "stream",
     "text": [
      "banana\n"
     ]
    }
   ],
   "source": [
    "print(b)"
   ]
  },
  {
   "cell_type": "code",
   "execution_count": 22,
   "id": "1107d72c-bf97-47af-925a-42329a08544e",
   "metadata": {},
   "outputs": [
    {
     "ename": "ValueError",
     "evalue": "too many values to unpack (expected 3)",
     "output_type": "error",
     "traceback": [
      "\u001b[1;31m---------------------------------------------------------------------------\u001b[0m",
      "\u001b[1;31mValueError\u001b[0m                                Traceback (most recent call last)",
      "\u001b[1;32m<ipython-input-22-09114d1af875>\u001b[0m in \u001b[0;36m<module>\u001b[1;34m\u001b[0m\n\u001b[1;32m----> 1\u001b[1;33m \u001b[1;33m(\u001b[0m\u001b[0ma\u001b[0m\u001b[1;33m,\u001b[0m \u001b[0mb\u001b[0m\u001b[1;33m,\u001b[0m \u001b[0mc\u001b[0m\u001b[1;33m)\u001b[0m \u001b[1;33m=\u001b[0m \u001b[0mfruits\u001b[0m\u001b[1;33m\u001b[0m\u001b[1;33m\u001b[0m\u001b[0m\n\u001b[0m",
      "\u001b[1;31mValueError\u001b[0m: too many values to unpack (expected 3)"
     ]
    }
   ],
   "source": [
    "(a, b, c) = fruits"
   ]
  },
  {
   "cell_type": "markdown",
   "id": "609d458d-45e1-4ca4-833b-e290f6a419e4",
   "metadata": {},
   "source": [
    "## USING FOR LOOP"
   ]
  },
  {
   "cell_type": "code",
   "execution_count": 24,
   "id": "7d61d82f-a168-4fc4-98f5-09ab305988fa",
   "metadata": {},
   "outputs": [
    {
     "name": "stdout",
     "output_type": "stream",
     "text": [
      "apples\n",
      "banana\n",
      "grapes\n",
      "cherries\n",
      "grapes\n",
      "strawberry\n"
     ]
    }
   ],
   "source": [
    "for i in fruits:\n",
    "    print(i)"
   ]
  },
  {
   "cell_type": "code",
   "execution_count": 31,
   "id": "45ee94ba-c6cb-411e-85fd-067ee00fc0dc",
   "metadata": {},
   "outputs": [
    {
     "name": "stdout",
     "output_type": "stream",
     "text": [
      "apples\n",
      "banana\n",
      "grapes\n",
      "cherries\n",
      "grapes\n",
      "strawberry\n"
     ]
    }
   ],
   "source": [
    "for i in range(len(fruits)):\n",
    "    print(fruits[i])"
   ]
  },
  {
   "cell_type": "code",
   "execution_count": 35,
   "id": "d05655f1-7cdb-4ddd-8a0a-9c358e683785",
   "metadata": {},
   "outputs": [
    {
     "name": "stdout",
     "output_type": "stream",
     "text": [
      "('apples', 'banana', 'grapes', 'cherries', 'grapes', 'strawberry')\n",
      "('apples', 'banana', 'grapes', 'cherries', 'grapes', 'strawberry')\n",
      "('apples', 'banana', 'grapes', 'cherries', 'grapes', 'strawberry')\n",
      "('apples', 'banana', 'grapes', 'cherries', 'grapes', 'strawberry')\n",
      "('apples', 'banana', 'grapes', 'cherries', 'grapes', 'strawberry')\n",
      "('apples', 'banana', 'grapes', 'cherries', 'grapes', 'strawberry')\n"
     ]
    }
   ],
   "source": [
    "for i in range(len(fruits)):\n",
    "    print(fruits)"
   ]
  },
  {
   "cell_type": "code",
   "execution_count": 33,
   "id": "e1372e2d-c370-4ef6-b156-b9d97775e287",
   "metadata": {},
   "outputs": [
    {
     "name": "stdout",
     "output_type": "stream",
     "text": [
      "0\n",
      "1\n",
      "2\n",
      "3\n",
      "4\n",
      "5\n"
     ]
    }
   ],
   "source": [
    "for i in range(len(fruits)):\n",
    "    print(i)"
   ]
  },
  {
   "cell_type": "markdown",
   "id": "2dd6c967-dedf-4aeb-82c1-61dfec030065",
   "metadata": {},
   "source": [
    "## while loop"
   ]
  },
  {
   "cell_type": "code",
   "execution_count": 37,
   "id": "9ed88006-2c19-43c1-b356-7418554ac065",
   "metadata": {},
   "outputs": [
    {
     "name": "stdout",
     "output_type": "stream",
     "text": [
      "apples\n",
      "banana\n",
      "grapes\n",
      "cherries\n",
      "grapes\n",
      "strawberry\n"
     ]
    }
   ],
   "source": [
    "i = 0\n",
    "while i< len(fruits):\n",
    "    print (fruits[i])\n",
    "    i = i+1"
   ]
  },
  {
   "cell_type": "markdown",
   "id": "89be5872-6287-44e6-b072-d4b84658c791",
   "metadata": {},
   "source": [
    "## exercise on tuple"
   ]
  },
  {
   "cell_type": "code",
   "execution_count": 1,
   "id": "db6cd78e-78ff-4710-9a41-b7b001684316",
   "metadata": {},
   "outputs": [
    {
     "name": "stdout",
     "output_type": "stream",
     "text": [
      "(1, 2, 3, 4, 5)\n"
     ]
    },
    {
     "data": {
      "text/plain": [
       "tuple"
      ]
     },
     "execution_count": 1,
     "metadata": {},
     "output_type": "execute_result"
    }
   ],
   "source": [
    "tuple1 = (1, 2, 3, 4, 5)\n",
    "print(tuple1)\n",
    "type(tuple1)"
   ]
  },
  {
   "cell_type": "code",
   "execution_count": 2,
   "id": "433136d2-180d-43f1-9e00-78e1c275c91e",
   "metadata": {},
   "outputs": [
    {
     "data": {
      "text/plain": [
       "('gopinath', 26, 12.6, True)"
      ]
     },
     "execution_count": 2,
     "metadata": {},
     "output_type": "execute_result"
    }
   ],
   "source": [
    "tuple2 = ('gopinath', 26, 12.6, True)\n",
    "tuple2"
   ]
  },
  {
   "cell_type": "code",
   "execution_count": 3,
   "id": "233793bb-8210-4c72-ab1c-306f5e52a034",
   "metadata": {},
   "outputs": [
    {
     "name": "stdout",
     "output_type": "stream",
     "text": [
      "1\n"
     ]
    }
   ],
   "source": [
    "tuple1 = (1, 2, 3, 4, 5)\n",
    "print(tuple1[0])"
   ]
  },
  {
   "cell_type": "code",
   "execution_count": 4,
   "id": "a24c1b97-9195-4c6a-9ee7-8f40c4187b24",
   "metadata": {},
   "outputs": [
    {
     "name": "stdout",
     "output_type": "stream",
     "text": [
      "1\n",
      "2\n",
      "3\n",
      "4\n"
     ]
    }
   ],
   "source": [
    "(a, b, c, d, e) = tuple1\n",
    "print(a)\n",
    "print(b)\n",
    "print(c)\n",
    "print(d)"
   ]
  },
  {
   "cell_type": "code",
   "execution_count": 5,
   "id": "48e0efed-d0e7-4d09-8ce1-e18cba601720",
   "metadata": {},
   "outputs": [
    {
     "name": "stdout",
     "output_type": "stream",
     "text": [
      "(1, 2, 3, 4, 5, 6)\n"
     ]
    },
    {
     "data": {
      "text/plain": [
       "tuple"
      ]
     },
     "execution_count": 5,
     "metadata": {},
     "output_type": "execute_result"
    }
   ],
   "source": [
    "list1 = list(tuple1)\n",
    "list1.insert(6,6)\n",
    "tuple2 = tuple(list1)\n",
    "print(tuple2)\n",
    "type(tuple2)"
   ]
  },
  {
   "cell_type": "code",
   "execution_count": 6,
   "id": "a1fe8997-59a7-4b9f-b3bc-f6fb527bb5c7",
   "metadata": {},
   "outputs": [
    {
     "data": {
      "text/plain": [
       "'(1, 2, 3, 4, 5, 6)'"
      ]
     },
     "execution_count": 6,
     "metadata": {},
     "output_type": "execute_result"
    }
   ],
   "source": [
    "tuple1 = str(tuple2)\n",
    "tuple1"
   ]
  },
  {
   "cell_type": "code",
   "execution_count": 7,
   "id": "119b5a50-9ccb-429f-81c0-bd9e4b2064f1",
   "metadata": {},
   "outputs": [
    {
     "name": "stdout",
     "output_type": "stream",
     "text": [
      "venkat\n",
      "i\n"
     ]
    }
   ],
   "source": [
    "tuple1 = (\"gopinath\", \"vagdevi\", \"bharadwaj\", \"venkat\", \"gopiraj\")\n",
    "print(tuple1[3])\n",
    "print(tuple1[4][3])"
   ]
  },
  {
   "cell_type": "code",
   "execution_count": 8,
   "id": "3fcc97c8-240e-4816-8f63-f8b56ee81869",
   "metadata": {},
   "outputs": [
    {
     "name": "stdout",
     "output_type": "stream",
     "text": [
      "1 2 3 5 7 "
     ]
    }
   ],
   "source": [
    "tup = (1, 2, 3, 4, 5, 5, 6, 7, 7, 1, 2, 3)\n",
    "\n",
    "for i in range(0, len(tup)):\n",
    "    \n",
    "    for j in range(i+1, len(tup)):\n",
    "        \n",
    "        if(tup[i] == tup [j]):\n",
    "            print(tup[i], end= \" \")\n",
    "    "
   ]
  },
  {
   "cell_type": "code",
   "execution_count": 9,
   "id": "a2a42576-e3f0-43d1-bc87-b3126c15a9f6",
   "metadata": {},
   "outputs": [
    {
     "name": "stdout",
     "output_type": "stream",
     "text": [
      "True\n",
      "False\n"
     ]
    }
   ],
   "source": [
    "tup1= ('w', 'e', 't', 'r', 's', 'h')\n",
    "print('t' in tup1)\n",
    "print('z' in tup1)"
   ]
  },
  {
   "cell_type": "code",
   "execution_count": 1,
   "id": "7c6ebaf9-7cb1-49ae-858c-aaedda070320",
   "metadata": {},
   "outputs": [
    {
     "name": "stdout",
     "output_type": "stream",
     "text": [
      "Id of the list inside the tuple after appending:\n"
     ]
    },
    {
     "data": {
      "text/plain": [
       "(1, 'a', 1, 7.6, [1.2, 3.4, 4])"
      ]
     },
     "execution_count": 1,
     "metadata": {},
     "output_type": "execute_result"
    }
   ],
   "source": [
    "tup=(1,'a',1,7.6,[1.2,3.4])\n",
    "id(tup[-1])\n",
    "tup[-1].append(4)\n",
    "print(\"Id of the list inside the tuple after appending:\")\n",
    "id(tup[-1])\n",
    "tup"
   ]
  },
  {
   "cell_type": "code",
   "execution_count": null,
   "id": "4a0a1d69-46ae-4ecb-98d3-f4bfbdcf02c5",
   "metadata": {},
   "outputs": [],
   "source": []
  }
 ],
 "metadata": {
  "kernelspec": {
   "display_name": "Python 3",
   "language": "python",
   "name": "python3"
  },
  "language_info": {
   "codemirror_mode": {
    "name": "ipython",
    "version": 3
   },
   "file_extension": ".py",
   "mimetype": "text/x-python",
   "name": "python",
   "nbconvert_exporter": "python",
   "pygments_lexer": "ipython3",
   "version": "3.8.8"
  }
 },
 "nbformat": 4,
 "nbformat_minor": 5
}
