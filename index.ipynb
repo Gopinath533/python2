{
 "cells": [
  {
   "cell_type": "markdown",
   "id": "7d857cb4-9f04-405b-bcf2-764ad380f9ba",
   "metadata": {},
   "source": [
    "## indexing"
   ]
  },
  {
   "cell_type": "code",
   "execution_count": 1,
   "id": "583f638f-dea0-476e-9dda-224b50a9f840",
   "metadata": {},
   "outputs": [
    {
     "data": {
      "text/plain": [
       "2"
      ]
     },
     "execution_count": 1,
     "metadata": {},
     "output_type": "execute_result"
    }
   ],
   "source": [
    "list1 = [1, 2, 3, 4, 5]\n",
    "list1[1]"
   ]
  },
  {
   "cell_type": "code",
   "execution_count": 3,
   "id": "d82d5f2a-c3de-432b-a6ce-c89c16e8ea16",
   "metadata": {},
   "outputs": [
    {
     "data": {
      "text/plain": [
       "'five'"
      ]
     },
     "execution_count": 3,
     "metadata": {},
     "output_type": "execute_result"
    }
   ],
   "source": [
    "list1 = [\"ten\", \"three\", \"two\", \"five\"]\n",
    "list1[3]"
   ]
  },
  {
   "cell_type": "markdown",
   "id": "f013bfe7-0c1b-4e38-bf12-b63ede116f67",
   "metadata": {},
   "source": [
    "## Range in index"
   ]
  },
  {
   "cell_type": "code",
   "execution_count": 5,
   "id": "94f43d46-ec7a-4148-9300-756cdb55631f",
   "metadata": {},
   "outputs": [
    {
     "data": {
      "text/plain": [
       "[12, 23, 67]"
      ]
     },
     "execution_count": 5,
     "metadata": {},
     "output_type": "execute_result"
    }
   ],
   "source": [
    "list2 = [7, 8, 9, 12, 14, 23, 56, 67, 65, 34]\n",
    "list2[3:8:2]"
   ]
  },
  {
   "cell_type": "code",
   "execution_count": 8,
   "id": "374461a6-ae76-4bd2-a505-78823c42c503",
   "metadata": {},
   "outputs": [
    {
     "data": {
      "text/plain": [
       "[14, 56, 65]"
      ]
     },
     "execution_count": 8,
     "metadata": {},
     "output_type": "execute_result"
    }
   ],
   "source": [
    "list2 = [7, 8, 9, 12, 14, 23, 56, 67, 65, 34]\n",
    "list2[4:10:2]"
   ]
  },
  {
   "cell_type": "code",
   "execution_count": 7,
   "id": "c1dc4ae3-440b-4cf8-a0c4-c535d7e9c258",
   "metadata": {},
   "outputs": [
    {
     "data": {
      "text/plain": [
       "[12]"
      ]
     },
     "execution_count": 7,
     "metadata": {},
     "output_type": "execute_result"
    }
   ],
   "source": [
    "list2 = [7, 8, 9, 12, 14, 23, 56, 67, 65, 34]\n",
    "list2[3:5:4]"
   ]
  },
  {
   "cell_type": "markdown",
   "id": "56b3ae9c-8ceb-4c56-b2f6-0acca49a17ec",
   "metadata": {},
   "source": [
    "## Nested_list"
   ]
  },
  {
   "cell_type": "code",
   "execution_count": 3,
   "id": "4da36593-bb90-4faa-b1e1-c15fa119b97a",
   "metadata": {},
   "outputs": [
    {
     "data": {
      "text/plain": [
       "'GO'"
      ]
     },
     "execution_count": 3,
     "metadata": {},
     "output_type": "execute_result"
    }
   ],
   "source": [
    "my_list = [\"GOPINATH\", [1, 2, 3, 4, 5]]\n",
    "my_list[0][0:2]"
   ]
  },
  {
   "cell_type": "code",
   "execution_count": 11,
   "id": "de3cbc79-d32a-4ef4-afbf-cf730e512aba",
   "metadata": {},
   "outputs": [
    {
     "data": {
      "text/plain": [
       "[1, 2, 3, 4, 5]"
      ]
     },
     "execution_count": 11,
     "metadata": {},
     "output_type": "execute_result"
    }
   ],
   "source": [
    "my_list[1]"
   ]
  },
  {
   "cell_type": "code",
   "execution_count": 12,
   "id": "e510bff7-984f-4aef-9b5e-7fdcb749eaec",
   "metadata": {},
   "outputs": [
    {
     "data": {
      "text/plain": [
       "4"
      ]
     },
     "execution_count": 12,
     "metadata": {},
     "output_type": "execute_result"
    }
   ],
   "source": [
    "my_list[1][3]"
   ]
  },
  {
   "cell_type": "code",
   "execution_count": 19,
   "id": "b5e4a695-3a11-4977-a04a-4c06d65690f9",
   "metadata": {},
   "outputs": [
    {
     "data": {
      "text/plain": [
       "3"
      ]
     },
     "execution_count": 19,
     "metadata": {},
     "output_type": "execute_result"
    }
   ],
   "source": [
    "my_list = [\"GOPINATH\", [1, 2, 3, 4, 5]]\n",
    "my_list[1][2]"
   ]
  },
  {
   "cell_type": "code",
   "execution_count": 20,
   "id": "6a2d9e9a-a51d-4732-af78-3ec135adaaeb",
   "metadata": {},
   "outputs": [
    {
     "data": {
      "text/plain": [
       "[3, 4]"
      ]
     },
     "execution_count": 20,
     "metadata": {},
     "output_type": "execute_result"
    }
   ],
   "source": [
    "my_list[1][2:4]"
   ]
  },
  {
   "cell_type": "code",
   "execution_count": 23,
   "id": "fc80c14d-d8b6-4b85-a9b5-6a0139959391",
   "metadata": {},
   "outputs": [],
   "source": [
    "my_list = list(\"gopinath\")"
   ]
  },
  {
   "cell_type": "code",
   "execution_count": 24,
   "id": "c1535cea-dede-4d9f-8ce4-c5215823085f",
   "metadata": {},
   "outputs": [
    {
     "data": {
      "text/plain": [
       "['g', 'o', 'p', 'i', 'n', 'a', 't', 'h']"
      ]
     },
     "execution_count": 24,
     "metadata": {},
     "output_type": "execute_result"
    }
   ],
   "source": [
    "my_list"
   ]
  },
  {
   "cell_type": "code",
   "execution_count": 25,
   "id": "90203986-ae84-40d9-afdb-e7414111270a",
   "metadata": {},
   "outputs": [
    {
     "data": {
      "text/plain": [
       "['a', 't', 'h']"
      ]
     },
     "execution_count": 25,
     "metadata": {},
     "output_type": "execute_result"
    }
   ],
   "source": [
    "my_list[-3:]"
   ]
  },
  {
   "cell_type": "code",
   "execution_count": 26,
   "id": "1cdf56d9-5aa3-4f68-be7f-d7f2770f4252",
   "metadata": {},
   "outputs": [
    {
     "data": {
      "text/plain": [
       "['g', 'o', 'p', 'i']"
      ]
     },
     "execution_count": 26,
     "metadata": {},
     "output_type": "execute_result"
    }
   ],
   "source": [
    "my_list[:-4]"
   ]
  },
  {
   "cell_type": "code",
   "execution_count": 27,
   "id": "c4e79b1f-6afc-484e-bfe9-d830dbb47ae5",
   "metadata": {},
   "outputs": [
    {
     "data": {
      "text/plain": [
       "['h', 't', 'a', 'n', 'i', 'p', 'o', 'g']"
      ]
     },
     "execution_count": 27,
     "metadata": {},
     "output_type": "execute_result"
    }
   ],
   "source": [
    "my_list[::-1]"
   ]
  },
  {
   "cell_type": "code",
   "execution_count": 28,
   "id": "6c3d573e-9fd6-47e4-80c0-6542b765dad0",
   "metadata": {},
   "outputs": [
    {
     "data": {
      "text/plain": [
       "[]"
      ]
     },
     "execution_count": 28,
     "metadata": {},
     "output_type": "execute_result"
    }
   ],
   "source": [
    "my_list[-3:-6]"
   ]
  },
  {
   "cell_type": "code",
   "execution_count": 29,
   "id": "ad0ed637-362e-41bb-b75f-fd7d07161447",
   "metadata": {},
   "outputs": [
    {
     "data": {
      "text/plain": [
       "['p', 'i', 'n']"
      ]
     },
     "execution_count": 29,
     "metadata": {},
     "output_type": "execute_result"
    }
   ],
   "source": [
    "my_list[-6:-3]"
   ]
  },
  {
   "cell_type": "code",
   "execution_count": null,
   "id": "b997cfb7-ca06-4551-a753-f4ede894d607",
   "metadata": {},
   "outputs": [],
   "source": []
  }
 ],
 "metadata": {
  "kernelspec": {
   "display_name": "Python 3",
   "language": "python",
   "name": "python3"
  },
  "language_info": {
   "codemirror_mode": {
    "name": "ipython",
    "version": 3
   },
   "file_extension": ".py",
   "mimetype": "text/x-python",
   "name": "python",
   "nbconvert_exporter": "python",
   "pygments_lexer": "ipython3",
   "version": "3.8.8"
  }
 },
 "nbformat": 4,
 "nbformat_minor": 5
}
