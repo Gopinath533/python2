{
 "cells": [
  {
   "cell_type": "code",
   "execution_count": 1,
   "id": "4c039a76-6958-46c6-a77e-8ab810a51cd5",
   "metadata": {},
   "outputs": [
    {
     "name": "stdout",
     "output_type": "stream",
     "text": [
      "12 is less than 15\n"
     ]
    }
   ],
   "source": [
    "a = 12\n",
    "b = 15\n",
    "c = 20\n",
    "\n",
    "if(a>b):\n",
    "    print(\"{} is greater than {}\".format(a,b))\n",
    "else:\n",
    "    print(\"{} is less than {}\".format(a,b))"
   ]
  },
  {
   "cell_type": "code",
   "execution_count": 3,
   "id": "32056860-22a9-4e15-a1fd-861a99c36a15",
   "metadata": {},
   "outputs": [
    {
     "name": "stdout",
     "output_type": "stream",
     "text": [
      "15 is less than 20\n"
     ]
    }
   ],
   "source": [
    "a = 12\n",
    "b = 15\n",
    "c = 20\n",
    "\n",
    "if(b<c):\n",
    "    print(\"{1} is less than {0}\".format(c,b))\n",
    "else:\n",
    "    print(\"{1} is greater than {0}\".format(c,b))"
   ]
  },
  {
   "cell_type": "code",
   "execution_count": 4,
   "id": "19397d61-e312-4d4f-8320-a17039a05708",
   "metadata": {},
   "outputs": [
    {
     "name": "stdout",
     "output_type": "stream",
     "text": [
      "false\n"
     ]
    }
   ],
   "source": [
    "a = 12\n",
    "b = 15\n",
    "c = 20\n",
    "\n",
    "if(a<b and b>c):\n",
    "    print(\"true\")\n",
    "else:\n",
    "    print(\"false\")\n",
    "    "
   ]
  },
  {
   "cell_type": "code",
   "execution_count": 5,
   "id": "1c11f7b5-a5fd-45e7-9258-762e07b05152",
   "metadata": {},
   "outputs": [
    {
     "name": "stdout",
     "output_type": "stream",
     "text": [
      "true\n"
     ]
    }
   ],
   "source": [
    "a = 12\n",
    "b = 15\n",
    "c = 20\n",
    "\n",
    "if(a<b or b<c):\n",
    "    print(\"true\")\n",
    "else:\n",
    "    print(\"false\")"
   ]
  },
  {
   "cell_type": "code",
   "execution_count": 10,
   "id": "ba160792-e91d-4587-b245-710c27aca747",
   "metadata": {},
   "outputs": [],
   "source": [
    "a = 12\n",
    "b = 15\n",
    "c = 20\n",
    "\n",
    "if(a==b):\n",
    "    print(\"false\")\n",
    "pass"
   ]
  },
  {
   "cell_type": "code",
   "execution_count": 8,
   "id": "1f6b3071-2d47-4078-b03c-7e5fe5b1ca48",
   "metadata": {},
   "outputs": [
    {
     "name": "stdin",
     "output_type": "stream",
     "text": [
      "Enter the value of a: 12\n",
      "Enter the value of b: 23\n",
      "Enter the value of c: 13\n"
     ]
    },
    {
     "name": "stdout",
     "output_type": "stream",
     "text": [
      "Statement is true\n"
     ]
    }
   ],
   "source": [
    "a = input(\"Enter the value of a:\")\n",
    "b = input(\"Enter the value of b:\")\n",
    "c = input(\"Enter the value of c:\")\n",
    "\n",
    "if(a>b):\n",
    "    print(\"value of a is greater than b\")\n",
    "elif(a<b and b>c):\n",
    "    print(\"Statement is true\")\n",
    "else:\n",
    "    print(\"conditions are not equal\")"
   ]
  },
  {
   "cell_type": "code",
   "execution_count": 1,
   "id": "56448e6a-c012-49f6-8431-9624be404b8a",
   "metadata": {},
   "outputs": [
    {
     "name": "stdin",
     "output_type": "stream",
     "text": [
      "Enter the value of a: -4\n"
     ]
    },
    {
     "name": "stdout",
     "output_type": "stream",
     "text": [
      "given value is negative\n"
     ]
    }
   ],
   "source": [
    "a = int(input(\"Enter the value of a:\"))\n",
    "\n",
    "if (a>0):\n",
    "    print(\"given value is positive\")\n",
    "elif(a<0):\n",
    "    print(\"given value is negative\")\n",
    "else:\n",
    "    print(\"given number is zero\")"
   ]
  },
  {
   "cell_type": "code",
   "execution_count": 32,
   "id": "f9f37d41-cb73-43ad-9de1-a1d759c683d2",
   "metadata": {},
   "outputs": [
    {
     "name": "stdin",
     "output_type": "stream",
     "text": [
      "enter the value of num 9\n"
     ]
    },
    {
     "name": "stdout",
     "output_type": "stream",
     "text": [
      "given number is positive\n"
     ]
    }
   ],
   "source": [
    "num = float(input(\"enter the value of num\"))\n",
    "\n",
    "if(num>=0):\n",
    "    if(num==0):\n",
    "        print(\"given number is zero\")\n",
    "    else:\n",
    "        print(\"given number is positive\")\n",
    "else:\n",
    "    print(\"given number is negative\")"
   ]
  },
  {
   "cell_type": "code",
   "execution_count": 8,
   "id": "e9c7c29d-b9fc-41ca-b353-d99fb5e95751",
   "metadata": {},
   "outputs": [
    {
     "name": "stdin",
     "output_type": "stream",
     "text": [
      "enter the temperature -1\n"
     ]
    },
    {
     "name": "stdout",
     "output_type": "stream",
     "text": [
      "climate is too cool\n"
     ]
    }
   ],
   "source": [
    "temp = float(input(\"enter the temperature\"))\n",
    "if(temp<=20):\n",
    "    if(temp<=0):\n",
    "        print(\"climate is too cool\")\n",
    "    else:\n",
    "        print(\"climate is in normal condition\")\n",
    "else:\n",
    "    print(\"climate is very hot\")"
   ]
  },
  {
   "cell_type": "code",
   "execution_count": 46,
   "id": "5b02e1fd-594c-4892-8ee8-4e4778746a7b",
   "metadata": {},
   "outputs": [
    {
     "name": "stdin",
     "output_type": "stream",
     "text": [
      "enter the name of the student gopinath\n",
      "enter the marks of the student 35\n"
     ]
    },
    {
     "name": "stdout",
     "output_type": "stream",
     "text": [
      "marks of the gopinath are 35\n",
      "gopinath passed in the exam\n"
     ]
    }
   ],
   "source": [
    "name = str(input(\"enter the name of the student\"))\n",
    "marks = int(input(\"enter the marks of the student\"))\n",
    "\n",
    "print(\"marks of the {} are {}\".format(name,marks))\n",
    "if(marks>=35):\n",
    "    print(\"{} passed in the exam\".format(name))\n",
    "else:\n",
    "    print(\"so {} failed in the exam\".format(name)) "
   ]
  },
  {
   "cell_type": "code",
   "execution_count": 6,
   "id": "36a33400-03f4-40d7-86d8-b4324d11407a",
   "metadata": {},
   "outputs": [
    {
     "name": "stdin",
     "output_type": "stream",
     "text": [
      "enter the name of the student nani\n",
      "enter the marks of the student 0\n"
     ]
    },
    {
     "name": "stdout",
     "output_type": "stream",
     "text": [
      "marks of the nani are 0\n",
      "nani got f grade means fail\n"
     ]
    }
   ],
   "source": [
    "name = str(input(\"enter the name of the student\"))\n",
    "marks = int(input(\"enter the marks of the student\"))\n",
    "\n",
    "print(\"marks of the {} are {}\".format(name,marks))\n",
    "\n",
    "if(marks>=100):\n",
    "    print(\"enter the marks below or equal to 100\")\n",
    "elif (marks<=100 and marks>=90):\n",
    "    print(\"{} got A grade\".format(name))\n",
    "elif(marks<=89 and marks>75):\n",
    "    print(\"{} got B grade\".format(name))\n",
    "elif(marks<=75 and marks>55):\n",
    "    print(f\"{name} got c grade\")\n",
    "elif(marks<=55 and marks>40):\n",
    "    print(\"%s got D grade\"%name)\n",
    "else:  \n",
    "    print(\"{} got f grade means fail\".format(name))"
   ]
  },
  {
   "cell_type": "code",
   "execution_count": 1,
   "id": "1f744a84-d184-415a-8d03-8fe49f4f6963",
   "metadata": {},
   "outputs": [
    {
     "name": "stdin",
     "output_type": "stream",
     "text": [
      "enter your blood group B+\n"
     ]
    },
    {
     "name": "stdout",
     "output_type": "stream",
     "text": [
      "You can give to: B+, AB+ groups and You can receive from:B+, B-, O+, O- groups \n"
     ]
    }
   ],
   "source": [
    "blood_group = [\"O+\", \"O-\", \"B+\", \"B-\",\"A-\", \"A+\", \"AB+\", \"AB-\"]\n",
    "yblood_group = str(input(\"enter your blood group\"))\n",
    "\n",
    "if(blood_group[0] == yblood_group):\n",
    "    print(\"You can give to: O+, A+, B+, AB+ groups and You can receive from:O+, O- groups \")\n",
    "    \n",
    "elif(blood_group[1] == yblood_group):\n",
    "    print(\"You can give to: All Blood Types groups and You can receive from: O- group\")\n",
    "    \n",
    "elif(blood_group[2] == yblood_group):\n",
    "    print(\"You can give to: B+, AB+ groups and You can receive from:B+, B-, O+, O- groups \")\n",
    "    \n",
    "elif(blood_group[3] == yblood_group):\n",
    "    print(\"You can give to: B-, B+, AB-, AB+ groups and You can receive from:B-, O- groups \")\n",
    "    \n",
    "elif(blood_group[4] == yblood_group):\n",
    "    print(\"You can give to: O+, A+, B+, AB+ groups and You can receive from:O+, O- groups \")\n",
    "    \n",
    "elif(blood_group[5] == yblood_group):\n",
    "    print(\"You can give to: A-, A+, AB-, AB+ groups and You can receive from:A-, O- groups \")\n",
    "    \n",
    "elif(blood_group[6] == yblood_group):\n",
    "    print(\"You can give to: AB+ Only and You can receive from: All blood groups \")\n",
    "    \n",
    "elif(blood_group[7] == yblood_group):\n",
    "    print(\"You can give to: AB-, AB+ groups and You can receive from:AB-, A-, B-, O- groups \")\n",
    "    \n",
    "else:\n",
    "    print(\"please enter correct blood group\")"
   ]
  },
  {
   "cell_type": "code",
   "execution_count": 2,
   "id": "4a270d34-d48c-44a4-a2c1-936b528ddaeb",
   "metadata": {},
   "outputs": [
    {
     "name": "stdin",
     "output_type": "stream",
     "text": [
      "enter the name of the student gopinath\n"
     ]
    },
    {
     "name": "stdout",
     "output_type": "stream",
     "text": [
      "gopinath got \n",
      " 16 in english \n",
      " 19 in maths\n",
      " 25 in science \n"
     ]
    }
   ],
   "source": [
    "\n",
    "\n",
    "name = [\"gopinath\", \"vagdevi\", \"bhardwaj\"]\n",
    "enter_name = str(input (\"enter the name of the student\"))\n",
    "\n",
    "if (name[0] == enter_name):\n",
    "    print (\"gopinath got \\n 16 in english \\n 19 in maths\\n 25 in science \")\n",
    "elif( name[1] == enter_name):\n",
    "    print (\"vagdevi got \\n 10 in english \\n 12 in maths \\n 13 in science \")\n",
    "elif( name[2] == enter_name):\n",
    "    print (\"bhardwaj got \\n 25 in english \\n 30 in maths \\n 40 in science \")\n",
    "else:\n",
    "    print(\"enter the name in the list\")"
   ]
  },
  {
   "cell_type": "markdown",
   "id": "81a61bc7-0746-41f3-927e-66db0c601134",
   "metadata": {},
   "source": [
    "## Exercise in conditional statements"
   ]
  },
  {
   "cell_type": "code",
   "execution_count": 14,
   "id": "1e4b5015-4650-4754-a1a5-2bc052e0ea6c",
   "metadata": {},
   "outputs": [
    {
     "name": "stdout",
     "output_type": "stream",
     "text": [
      "[1505, 1540, 1575, 1610, 1645, 1680, 1715, 1750, 1785, 1820, 1855, 1890, 1925, 1960, 1995, 2030, 2065, 2100, 2135, 2170, 2205, 2240, 2275, 2310, 2345, 2380, 2415, 2450, 2485, 2520, 2555, 2590, 2625, 2660, 2695]\n"
     ]
    }
   ],
   "source": [
    "list1 = range(1500,2700)\n",
    "list2 =[]\n",
    "for i in list1:\n",
    "    if(i%7 == 0 and i%5 == 0):\n",
    "        list2.append(i)\n",
    "        \n",
    "    else:\n",
    "        pass\n",
    "print(list2)\n",
    "        "
   ]
  },
  {
   "cell_type": "code",
   "execution_count": 62,
   "id": "4f003caf-b6d7-4b05-a514-d4a7d0cf28f4",
   "metadata": {},
   "outputs": [
    {
     "name": "stdin",
     "output_type": "stream",
     "text": [
      "enter 'f' or 'c' f\n",
      "enter the temperature 45\n"
     ]
    },
    {
     "name": "stdout",
     "output_type": "stream",
     "text": [
      "f is convertet to c and temp is 7.222222222222222\n"
     ]
    }
   ],
   "source": [
    "\n",
    "temp_isin = 'f', 'c'\n",
    "entertemp_isin = (str(input(\"enter 'f' or 'c'\")))\n",
    "temp = int(input(\"enter the temperature\"))\n",
    "if(entertemp_isin == 'f'):\n",
    "    c = ((temp-32)*(5/9))\n",
    "    print(\"f is convertet to c and temp is {}\".format(c))\n",
    "elif(entertemp_isin == 'c'):\n",
    "    f = (((9*temp)+160)/5)\n",
    "    print(\"c is convertet to f and temp is {}\".format(f))\n",
    "else:\n",
    "         print(\"enter crct value\")"
   ]
  },
  {
   "cell_type": "code",
   "execution_count": 7,
   "id": "2c3f2f4e-2970-4931-8908-923e1f4dd346",
   "metadata": {},
   "outputs": [
    {
     "name": "stdin",
     "output_type": "stream",
     "text": [
      "enter the guess value 5\n"
     ]
    },
    {
     "ename": "TypeError",
     "evalue": "'int' object is not subscriptable",
     "output_type": "error",
     "traceback": [
      "\u001b[1;31m---------------------------------------------------------------------------\u001b[0m",
      "\u001b[1;31mTypeError\u001b[0m                                 Traceback (most recent call last)",
      "\u001b[1;32m<ipython-input-7-557505da35fa>\u001b[0m in \u001b[0;36m<module>\u001b[1;34m\u001b[0m\n\u001b[0;32m      2\u001b[0m \u001b[0mtarg\u001b[0m \u001b[1;33m=\u001b[0m \u001b[0mint\u001b[0m\u001b[1;33m(\u001b[0m\u001b[0minput\u001b[0m\u001b[1;33m(\u001b[0m\u001b[1;34m\"enter the guess value\"\u001b[0m\u001b[1;33m)\u001b[0m\u001b[1;33m)\u001b[0m\u001b[1;33m\u001b[0m\u001b[1;33m\u001b[0m\u001b[0m\n\u001b[0;32m      3\u001b[0m \u001b[1;32mwhile\u001b[0m \u001b[0mlist1\u001b[0m \u001b[1;33m!=\u001b[0m \u001b[0mtarg\u001b[0m\u001b[1;33m:\u001b[0m\u001b[1;33m\u001b[0m\u001b[1;33m\u001b[0m\u001b[0m\n\u001b[1;32m----> 4\u001b[1;33m     \u001b[1;32mif\u001b[0m\u001b[1;33m(\u001b[0m\u001b[0mtarg\u001b[0m\u001b[1;33m[\u001b[0m\u001b[1;36m0\u001b[0m\u001b[1;33m]\u001b[0m \u001b[1;33m==\u001b[0m \u001b[0mlist1\u001b[0m\u001b[1;33m)\u001b[0m\u001b[1;33m:\u001b[0m\u001b[1;33m\u001b[0m\u001b[1;33m\u001b[0m\u001b[0m\n\u001b[0m\u001b[0;32m      5\u001b[0m         \u001b[0mlist2\u001b[0m\u001b[1;33m.\u001b[0m\u001b[0mappend\u001b[0m\u001b[1;33m(\u001b[0m\u001b[0mi\u001b[0m\u001b[1;33m)\u001b[0m\u001b[1;33m\u001b[0m\u001b[1;33m\u001b[0m\u001b[0m\n\u001b[0;32m      6\u001b[0m     \u001b[1;32melse\u001b[0m\u001b[1;33m:\u001b[0m\u001b[1;33m\u001b[0m\u001b[1;33m\u001b[0m\u001b[0m\n",
      "\u001b[1;31mTypeError\u001b[0m: 'int' object is not subscriptable"
     ]
    }
   ],
   "source": [
    "list1 =  [1, 2, 3, 4, 5, 6, 7, 8, 9, 10]\n",
    "targ = int(input(\"enter the guess value\"))\n",
    "while list1 != targ:\n",
    "    if(targ[0] == list1):\n",
    "        list2.append(i)\n",
    "    else:\n",
    "        targ = int(input(\"enter the guess value\"))\n",
    "print(\"well guess it is {}\".format(i))\n"
   ]
  },
  {
   "cell_type": "code",
   "execution_count": 16,
   "id": "b13f09d4-8145-4d67-92a0-15453066242a",
   "metadata": {},
   "outputs": [
    {
     "name": "stdout",
     "output_type": "stream",
     "text": [
      "* \n",
      "* * \n",
      "* * * \n",
      "* * * * \n",
      "* * * * * \n",
      "* * * * \n",
      "* * * \n",
      "* * \n",
      "* \n"
     ]
    }
   ],
   "source": [
    "\n",
    "\n",
    "for i in range(0, 5):\n",
    "    for j in range(0, i+1):\n",
    "        print('*' ,end = ' ')\n",
    "        \n",
    "    print()\n",
    "    \n",
    "for i in range(4, 0, -1):\n",
    "    for j in range(i):\n",
    "        print('*' ,end = ' ')\n",
    "        \n",
    "    print()"
   ]
  },
  {
   "cell_type": "code",
   "execution_count": 18,
   "id": "76aef63f-c1b6-4553-aa64-ed79845a7f1c",
   "metadata": {},
   "outputs": [
    {
     "name": "stdout",
     "output_type": "stream",
     "text": [
      "abcing\n",
      "stringly\n"
     ]
    }
   ],
   "source": []
  },
  {
   "cell_type": "code",
   "execution_count": 9,
   "id": "fd511b9b-6b7a-4f4a-9729-7200e082dc68",
   "metadata": {},
   "outputs": [
    {
     "name": "stdout",
     "output_type": "stream",
     "text": [
      "[0]\n"
     ]
    }
   ],
   "source": [
    "list1 = 1/2\n",
    "list2 = []\n",
    "list2.append(int(list1))\n",
    "print (list2)"
   ]
  },
  {
   "cell_type": "code",
   "execution_count": null,
   "id": "8ef2cc9a-6a69-4014-84e2-a43c4a9ca86e",
   "metadata": {},
   "outputs": [],
   "source": []
  }
 ],
 "metadata": {
  "kernelspec": {
   "display_name": "Python 3",
   "language": "python",
   "name": "python3"
  },
  "language_info": {
   "codemirror_mode": {
    "name": "ipython",
    "version": 3
   },
   "file_extension": ".py",
   "mimetype": "text/x-python",
   "name": "python",
   "nbconvert_exporter": "python",
   "pygments_lexer": "ipython3",
   "version": "3.8.8"
  }
 },
 "nbformat": 4,
 "nbformat_minor": 5
}
